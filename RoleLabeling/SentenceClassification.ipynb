{
  "nbformat": 4,
  "nbformat_minor": 0,
  "metadata": {
    "colab": {
      "provenance": []
    },
    "kernelspec": {
      "name": "python3",
      "display_name": "Python 3"
    },
    "language_info": {
      "name": "python"
    },
    "gpuClass": "standard",
    "accelerator": "GPU",
    "widgets": {
      "application/vnd.jupyter.widget-state+json": {
        "9c270f3515934ac2a9a168fed1a62b47": {
          "model_module": "@jupyter-widgets/controls",
          "model_name": "HBoxModel",
          "model_module_version": "1.5.0",
          "state": {
            "_dom_classes": [],
            "_model_module": "@jupyter-widgets/controls",
            "_model_module_version": "1.5.0",
            "_model_name": "HBoxModel",
            "_view_count": null,
            "_view_module": "@jupyter-widgets/controls",
            "_view_module_version": "1.5.0",
            "_view_name": "HBoxView",
            "box_style": "",
            "children": [
              "IPY_MODEL_5ad9cb7c51884bc28ad676937a53d9d3",
              "IPY_MODEL_d4b4dc60601440d9a3b5d5648476837c",
              "IPY_MODEL_ada061afa40c4772a3aff53bbd1de7c2"
            ],
            "layout": "IPY_MODEL_c63c3fcdb2154cf3952dbd5889b84d3f"
          }
        },
        "5ad9cb7c51884bc28ad676937a53d9d3": {
          "model_module": "@jupyter-widgets/controls",
          "model_name": "HTMLModel",
          "model_module_version": "1.5.0",
          "state": {
            "_dom_classes": [],
            "_model_module": "@jupyter-widgets/controls",
            "_model_module_version": "1.5.0",
            "_model_name": "HTMLModel",
            "_view_count": null,
            "_view_module": "@jupyter-widgets/controls",
            "_view_module_version": "1.5.0",
            "_view_name": "HTMLView",
            "description": "",
            "description_tooltip": null,
            "layout": "IPY_MODEL_febd992764d2438a9862e964b9add0f6",
            "placeholder": "​",
            "style": "IPY_MODEL_64ca5335a5f545f595ceb4bc69b06df0",
            "value": "Downloading (…)olve/main/vocab.json: 100%"
          }
        },
        "d4b4dc60601440d9a3b5d5648476837c": {
          "model_module": "@jupyter-widgets/controls",
          "model_name": "FloatProgressModel",
          "model_module_version": "1.5.0",
          "state": {
            "_dom_classes": [],
            "_model_module": "@jupyter-widgets/controls",
            "_model_module_version": "1.5.0",
            "_model_name": "FloatProgressModel",
            "_view_count": null,
            "_view_module": "@jupyter-widgets/controls",
            "_view_module_version": "1.5.0",
            "_view_name": "ProgressView",
            "bar_style": "success",
            "description": "",
            "description_tooltip": null,
            "layout": "IPY_MODEL_e07cfb437af74957bc9d9bfbe57b773c",
            "max": 898823,
            "min": 0,
            "orientation": "horizontal",
            "style": "IPY_MODEL_8c5e5105070a4c79be056c4d1db18e3d",
            "value": 898823
          }
        },
        "ada061afa40c4772a3aff53bbd1de7c2": {
          "model_module": "@jupyter-widgets/controls",
          "model_name": "HTMLModel",
          "model_module_version": "1.5.0",
          "state": {
            "_dom_classes": [],
            "_model_module": "@jupyter-widgets/controls",
            "_model_module_version": "1.5.0",
            "_model_name": "HTMLModel",
            "_view_count": null,
            "_view_module": "@jupyter-widgets/controls",
            "_view_module_version": "1.5.0",
            "_view_name": "HTMLView",
            "description": "",
            "description_tooltip": null,
            "layout": "IPY_MODEL_10ac1d56abca4dacaefd1a4529c419d2",
            "placeholder": "​",
            "style": "IPY_MODEL_445ee727d77c40ca977e888f54bce141",
            "value": " 899k/899k [00:00&lt;00:00, 2.11MB/s]"
          }
        },
        "c63c3fcdb2154cf3952dbd5889b84d3f": {
          "model_module": "@jupyter-widgets/base",
          "model_name": "LayoutModel",
          "model_module_version": "1.2.0",
          "state": {
            "_model_module": "@jupyter-widgets/base",
            "_model_module_version": "1.2.0",
            "_model_name": "LayoutModel",
            "_view_count": null,
            "_view_module": "@jupyter-widgets/base",
            "_view_module_version": "1.2.0",
            "_view_name": "LayoutView",
            "align_content": null,
            "align_items": null,
            "align_self": null,
            "border": null,
            "bottom": null,
            "display": null,
            "flex": null,
            "flex_flow": null,
            "grid_area": null,
            "grid_auto_columns": null,
            "grid_auto_flow": null,
            "grid_auto_rows": null,
            "grid_column": null,
            "grid_gap": null,
            "grid_row": null,
            "grid_template_areas": null,
            "grid_template_columns": null,
            "grid_template_rows": null,
            "height": null,
            "justify_content": null,
            "justify_items": null,
            "left": null,
            "margin": null,
            "max_height": null,
            "max_width": null,
            "min_height": null,
            "min_width": null,
            "object_fit": null,
            "object_position": null,
            "order": null,
            "overflow": null,
            "overflow_x": null,
            "overflow_y": null,
            "padding": null,
            "right": null,
            "top": null,
            "visibility": null,
            "width": null
          }
        },
        "febd992764d2438a9862e964b9add0f6": {
          "model_module": "@jupyter-widgets/base",
          "model_name": "LayoutModel",
          "model_module_version": "1.2.0",
          "state": {
            "_model_module": "@jupyter-widgets/base",
            "_model_module_version": "1.2.0",
            "_model_name": "LayoutModel",
            "_view_count": null,
            "_view_module": "@jupyter-widgets/base",
            "_view_module_version": "1.2.0",
            "_view_name": "LayoutView",
            "align_content": null,
            "align_items": null,
            "align_self": null,
            "border": null,
            "bottom": null,
            "display": null,
            "flex": null,
            "flex_flow": null,
            "grid_area": null,
            "grid_auto_columns": null,
            "grid_auto_flow": null,
            "grid_auto_rows": null,
            "grid_column": null,
            "grid_gap": null,
            "grid_row": null,
            "grid_template_areas": null,
            "grid_template_columns": null,
            "grid_template_rows": null,
            "height": null,
            "justify_content": null,
            "justify_items": null,
            "left": null,
            "margin": null,
            "max_height": null,
            "max_width": null,
            "min_height": null,
            "min_width": null,
            "object_fit": null,
            "object_position": null,
            "order": null,
            "overflow": null,
            "overflow_x": null,
            "overflow_y": null,
            "padding": null,
            "right": null,
            "top": null,
            "visibility": null,
            "width": null
          }
        },
        "64ca5335a5f545f595ceb4bc69b06df0": {
          "model_module": "@jupyter-widgets/controls",
          "model_name": "DescriptionStyleModel",
          "model_module_version": "1.5.0",
          "state": {
            "_model_module": "@jupyter-widgets/controls",
            "_model_module_version": "1.5.0",
            "_model_name": "DescriptionStyleModel",
            "_view_count": null,
            "_view_module": "@jupyter-widgets/base",
            "_view_module_version": "1.2.0",
            "_view_name": "StyleView",
            "description_width": ""
          }
        },
        "e07cfb437af74957bc9d9bfbe57b773c": {
          "model_module": "@jupyter-widgets/base",
          "model_name": "LayoutModel",
          "model_module_version": "1.2.0",
          "state": {
            "_model_module": "@jupyter-widgets/base",
            "_model_module_version": "1.2.0",
            "_model_name": "LayoutModel",
            "_view_count": null,
            "_view_module": "@jupyter-widgets/base",
            "_view_module_version": "1.2.0",
            "_view_name": "LayoutView",
            "align_content": null,
            "align_items": null,
            "align_self": null,
            "border": null,
            "bottom": null,
            "display": null,
            "flex": null,
            "flex_flow": null,
            "grid_area": null,
            "grid_auto_columns": null,
            "grid_auto_flow": null,
            "grid_auto_rows": null,
            "grid_column": null,
            "grid_gap": null,
            "grid_row": null,
            "grid_template_areas": null,
            "grid_template_columns": null,
            "grid_template_rows": null,
            "height": null,
            "justify_content": null,
            "justify_items": null,
            "left": null,
            "margin": null,
            "max_height": null,
            "max_width": null,
            "min_height": null,
            "min_width": null,
            "object_fit": null,
            "object_position": null,
            "order": null,
            "overflow": null,
            "overflow_x": null,
            "overflow_y": null,
            "padding": null,
            "right": null,
            "top": null,
            "visibility": null,
            "width": null
          }
        },
        "8c5e5105070a4c79be056c4d1db18e3d": {
          "model_module": "@jupyter-widgets/controls",
          "model_name": "ProgressStyleModel",
          "model_module_version": "1.5.0",
          "state": {
            "_model_module": "@jupyter-widgets/controls",
            "_model_module_version": "1.5.0",
            "_model_name": "ProgressStyleModel",
            "_view_count": null,
            "_view_module": "@jupyter-widgets/base",
            "_view_module_version": "1.2.0",
            "_view_name": "StyleView",
            "bar_color": null,
            "description_width": ""
          }
        },
        "10ac1d56abca4dacaefd1a4529c419d2": {
          "model_module": "@jupyter-widgets/base",
          "model_name": "LayoutModel",
          "model_module_version": "1.2.0",
          "state": {
            "_model_module": "@jupyter-widgets/base",
            "_model_module_version": "1.2.0",
            "_model_name": "LayoutModel",
            "_view_count": null,
            "_view_module": "@jupyter-widgets/base",
            "_view_module_version": "1.2.0",
            "_view_name": "LayoutView",
            "align_content": null,
            "align_items": null,
            "align_self": null,
            "border": null,
            "bottom": null,
            "display": null,
            "flex": null,
            "flex_flow": null,
            "grid_area": null,
            "grid_auto_columns": null,
            "grid_auto_flow": null,
            "grid_auto_rows": null,
            "grid_column": null,
            "grid_gap": null,
            "grid_row": null,
            "grid_template_areas": null,
            "grid_template_columns": null,
            "grid_template_rows": null,
            "height": null,
            "justify_content": null,
            "justify_items": null,
            "left": null,
            "margin": null,
            "max_height": null,
            "max_width": null,
            "min_height": null,
            "min_width": null,
            "object_fit": null,
            "object_position": null,
            "order": null,
            "overflow": null,
            "overflow_x": null,
            "overflow_y": null,
            "padding": null,
            "right": null,
            "top": null,
            "visibility": null,
            "width": null
          }
        },
        "445ee727d77c40ca977e888f54bce141": {
          "model_module": "@jupyter-widgets/controls",
          "model_name": "DescriptionStyleModel",
          "model_module_version": "1.5.0",
          "state": {
            "_model_module": "@jupyter-widgets/controls",
            "_model_module_version": "1.5.0",
            "_model_name": "DescriptionStyleModel",
            "_view_count": null,
            "_view_module": "@jupyter-widgets/base",
            "_view_module_version": "1.2.0",
            "_view_name": "StyleView",
            "description_width": ""
          }
        },
        "1e180d0410074c14981254729eeda327": {
          "model_module": "@jupyter-widgets/controls",
          "model_name": "HBoxModel",
          "model_module_version": "1.5.0",
          "state": {
            "_dom_classes": [],
            "_model_module": "@jupyter-widgets/controls",
            "_model_module_version": "1.5.0",
            "_model_name": "HBoxModel",
            "_view_count": null,
            "_view_module": "@jupyter-widgets/controls",
            "_view_module_version": "1.5.0",
            "_view_name": "HBoxView",
            "box_style": "",
            "children": [
              "IPY_MODEL_eedce715c01c48fd9b9e226b7b19ff88",
              "IPY_MODEL_e6306783cfde45399e005ffd761e8c30",
              "IPY_MODEL_8beb1b5652e241c889db3978c7d14d41"
            ],
            "layout": "IPY_MODEL_32f7d8f4f5df40379b812f7a6b060197"
          }
        },
        "eedce715c01c48fd9b9e226b7b19ff88": {
          "model_module": "@jupyter-widgets/controls",
          "model_name": "HTMLModel",
          "model_module_version": "1.5.0",
          "state": {
            "_dom_classes": [],
            "_model_module": "@jupyter-widgets/controls",
            "_model_module_version": "1.5.0",
            "_model_name": "HTMLModel",
            "_view_count": null,
            "_view_module": "@jupyter-widgets/controls",
            "_view_module_version": "1.5.0",
            "_view_name": "HTMLView",
            "description": "",
            "description_tooltip": null,
            "layout": "IPY_MODEL_d92ed6e50c434de1b1fdcf94886144bf",
            "placeholder": "​",
            "style": "IPY_MODEL_08a52378535b4d6f90fa7f42c28070cf",
            "value": "Downloading (…)olve/main/merges.txt: 100%"
          }
        },
        "e6306783cfde45399e005ffd761e8c30": {
          "model_module": "@jupyter-widgets/controls",
          "model_name": "FloatProgressModel",
          "model_module_version": "1.5.0",
          "state": {
            "_dom_classes": [],
            "_model_module": "@jupyter-widgets/controls",
            "_model_module_version": "1.5.0",
            "_model_name": "FloatProgressModel",
            "_view_count": null,
            "_view_module": "@jupyter-widgets/controls",
            "_view_module_version": "1.5.0",
            "_view_name": "ProgressView",
            "bar_style": "success",
            "description": "",
            "description_tooltip": null,
            "layout": "IPY_MODEL_8f0af7c6b5924ae892228f1dc9b5f7d9",
            "max": 456318,
            "min": 0,
            "orientation": "horizontal",
            "style": "IPY_MODEL_e42e5d4b96104e7793ef95b5386f38fc",
            "value": 456318
          }
        },
        "8beb1b5652e241c889db3978c7d14d41": {
          "model_module": "@jupyter-widgets/controls",
          "model_name": "HTMLModel",
          "model_module_version": "1.5.0",
          "state": {
            "_dom_classes": [],
            "_model_module": "@jupyter-widgets/controls",
            "_model_module_version": "1.5.0",
            "_model_name": "HTMLModel",
            "_view_count": null,
            "_view_module": "@jupyter-widgets/controls",
            "_view_module_version": "1.5.0",
            "_view_name": "HTMLView",
            "description": "",
            "description_tooltip": null,
            "layout": "IPY_MODEL_e71392c6f84845b48a26fc6bd560771d",
            "placeholder": "​",
            "style": "IPY_MODEL_0c5c3d5a6e4c4f249ec0deb0509ad0e3",
            "value": " 456k/456k [00:00&lt;00:00, 1.32MB/s]"
          }
        },
        "32f7d8f4f5df40379b812f7a6b060197": {
          "model_module": "@jupyter-widgets/base",
          "model_name": "LayoutModel",
          "model_module_version": "1.2.0",
          "state": {
            "_model_module": "@jupyter-widgets/base",
            "_model_module_version": "1.2.0",
            "_model_name": "LayoutModel",
            "_view_count": null,
            "_view_module": "@jupyter-widgets/base",
            "_view_module_version": "1.2.0",
            "_view_name": "LayoutView",
            "align_content": null,
            "align_items": null,
            "align_self": null,
            "border": null,
            "bottom": null,
            "display": null,
            "flex": null,
            "flex_flow": null,
            "grid_area": null,
            "grid_auto_columns": null,
            "grid_auto_flow": null,
            "grid_auto_rows": null,
            "grid_column": null,
            "grid_gap": null,
            "grid_row": null,
            "grid_template_areas": null,
            "grid_template_columns": null,
            "grid_template_rows": null,
            "height": null,
            "justify_content": null,
            "justify_items": null,
            "left": null,
            "margin": null,
            "max_height": null,
            "max_width": null,
            "min_height": null,
            "min_width": null,
            "object_fit": null,
            "object_position": null,
            "order": null,
            "overflow": null,
            "overflow_x": null,
            "overflow_y": null,
            "padding": null,
            "right": null,
            "top": null,
            "visibility": null,
            "width": null
          }
        },
        "d92ed6e50c434de1b1fdcf94886144bf": {
          "model_module": "@jupyter-widgets/base",
          "model_name": "LayoutModel",
          "model_module_version": "1.2.0",
          "state": {
            "_model_module": "@jupyter-widgets/base",
            "_model_module_version": "1.2.0",
            "_model_name": "LayoutModel",
            "_view_count": null,
            "_view_module": "@jupyter-widgets/base",
            "_view_module_version": "1.2.0",
            "_view_name": "LayoutView",
            "align_content": null,
            "align_items": null,
            "align_self": null,
            "border": null,
            "bottom": null,
            "display": null,
            "flex": null,
            "flex_flow": null,
            "grid_area": null,
            "grid_auto_columns": null,
            "grid_auto_flow": null,
            "grid_auto_rows": null,
            "grid_column": null,
            "grid_gap": null,
            "grid_row": null,
            "grid_template_areas": null,
            "grid_template_columns": null,
            "grid_template_rows": null,
            "height": null,
            "justify_content": null,
            "justify_items": null,
            "left": null,
            "margin": null,
            "max_height": null,
            "max_width": null,
            "min_height": null,
            "min_width": null,
            "object_fit": null,
            "object_position": null,
            "order": null,
            "overflow": null,
            "overflow_x": null,
            "overflow_y": null,
            "padding": null,
            "right": null,
            "top": null,
            "visibility": null,
            "width": null
          }
        },
        "08a52378535b4d6f90fa7f42c28070cf": {
          "model_module": "@jupyter-widgets/controls",
          "model_name": "DescriptionStyleModel",
          "model_module_version": "1.5.0",
          "state": {
            "_model_module": "@jupyter-widgets/controls",
            "_model_module_version": "1.5.0",
            "_model_name": "DescriptionStyleModel",
            "_view_count": null,
            "_view_module": "@jupyter-widgets/base",
            "_view_module_version": "1.2.0",
            "_view_name": "StyleView",
            "description_width": ""
          }
        },
        "8f0af7c6b5924ae892228f1dc9b5f7d9": {
          "model_module": "@jupyter-widgets/base",
          "model_name": "LayoutModel",
          "model_module_version": "1.2.0",
          "state": {
            "_model_module": "@jupyter-widgets/base",
            "_model_module_version": "1.2.0",
            "_model_name": "LayoutModel",
            "_view_count": null,
            "_view_module": "@jupyter-widgets/base",
            "_view_module_version": "1.2.0",
            "_view_name": "LayoutView",
            "align_content": null,
            "align_items": null,
            "align_self": null,
            "border": null,
            "bottom": null,
            "display": null,
            "flex": null,
            "flex_flow": null,
            "grid_area": null,
            "grid_auto_columns": null,
            "grid_auto_flow": null,
            "grid_auto_rows": null,
            "grid_column": null,
            "grid_gap": null,
            "grid_row": null,
            "grid_template_areas": null,
            "grid_template_columns": null,
            "grid_template_rows": null,
            "height": null,
            "justify_content": null,
            "justify_items": null,
            "left": null,
            "margin": null,
            "max_height": null,
            "max_width": null,
            "min_height": null,
            "min_width": null,
            "object_fit": null,
            "object_position": null,
            "order": null,
            "overflow": null,
            "overflow_x": null,
            "overflow_y": null,
            "padding": null,
            "right": null,
            "top": null,
            "visibility": null,
            "width": null
          }
        },
        "e42e5d4b96104e7793ef95b5386f38fc": {
          "model_module": "@jupyter-widgets/controls",
          "model_name": "ProgressStyleModel",
          "model_module_version": "1.5.0",
          "state": {
            "_model_module": "@jupyter-widgets/controls",
            "_model_module_version": "1.5.0",
            "_model_name": "ProgressStyleModel",
            "_view_count": null,
            "_view_module": "@jupyter-widgets/base",
            "_view_module_version": "1.2.0",
            "_view_name": "StyleView",
            "bar_color": null,
            "description_width": ""
          }
        },
        "e71392c6f84845b48a26fc6bd560771d": {
          "model_module": "@jupyter-widgets/base",
          "model_name": "LayoutModel",
          "model_module_version": "1.2.0",
          "state": {
            "_model_module": "@jupyter-widgets/base",
            "_model_module_version": "1.2.0",
            "_model_name": "LayoutModel",
            "_view_count": null,
            "_view_module": "@jupyter-widgets/base",
            "_view_module_version": "1.2.0",
            "_view_name": "LayoutView",
            "align_content": null,
            "align_items": null,
            "align_self": null,
            "border": null,
            "bottom": null,
            "display": null,
            "flex": null,
            "flex_flow": null,
            "grid_area": null,
            "grid_auto_columns": null,
            "grid_auto_flow": null,
            "grid_auto_rows": null,
            "grid_column": null,
            "grid_gap": null,
            "grid_row": null,
            "grid_template_areas": null,
            "grid_template_columns": null,
            "grid_template_rows": null,
            "height": null,
            "justify_content": null,
            "justify_items": null,
            "left": null,
            "margin": null,
            "max_height": null,
            "max_width": null,
            "min_height": null,
            "min_width": null,
            "object_fit": null,
            "object_position": null,
            "order": null,
            "overflow": null,
            "overflow_x": null,
            "overflow_y": null,
            "padding": null,
            "right": null,
            "top": null,
            "visibility": null,
            "width": null
          }
        },
        "0c5c3d5a6e4c4f249ec0deb0509ad0e3": {
          "model_module": "@jupyter-widgets/controls",
          "model_name": "DescriptionStyleModel",
          "model_module_version": "1.5.0",
          "state": {
            "_model_module": "@jupyter-widgets/controls",
            "_model_module_version": "1.5.0",
            "_model_name": "DescriptionStyleModel",
            "_view_count": null,
            "_view_module": "@jupyter-widgets/base",
            "_view_module_version": "1.2.0",
            "_view_name": "StyleView",
            "description_width": ""
          }
        },
        "6856a6b4eed14bffa1aae55c85368ee3": {
          "model_module": "@jupyter-widgets/controls",
          "model_name": "HBoxModel",
          "model_module_version": "1.5.0",
          "state": {
            "_dom_classes": [],
            "_model_module": "@jupyter-widgets/controls",
            "_model_module_version": "1.5.0",
            "_model_name": "HBoxModel",
            "_view_count": null,
            "_view_module": "@jupyter-widgets/controls",
            "_view_module_version": "1.5.0",
            "_view_name": "HBoxView",
            "box_style": "",
            "children": [
              "IPY_MODEL_a5b7037e9b674ff99bd548d5a7d192fd",
              "IPY_MODEL_2a99dff806ee498d9f39269dccef2e21",
              "IPY_MODEL_d057b48588484fd3b366334d7de0684e"
            ],
            "layout": "IPY_MODEL_d46497528dc446e98ebb8716ca32a56a"
          }
        },
        "a5b7037e9b674ff99bd548d5a7d192fd": {
          "model_module": "@jupyter-widgets/controls",
          "model_name": "HTMLModel",
          "model_module_version": "1.5.0",
          "state": {
            "_dom_classes": [],
            "_model_module": "@jupyter-widgets/controls",
            "_model_module_version": "1.5.0",
            "_model_name": "HTMLModel",
            "_view_count": null,
            "_view_module": "@jupyter-widgets/controls",
            "_view_module_version": "1.5.0",
            "_view_name": "HTMLView",
            "description": "",
            "description_tooltip": null,
            "layout": "IPY_MODEL_d796a4462efe4810b109e110bfc4d750",
            "placeholder": "​",
            "style": "IPY_MODEL_7ab63a22d11146619d773a31711181d8",
            "value": "Downloading (…)lve/main/config.json: 100%"
          }
        },
        "2a99dff806ee498d9f39269dccef2e21": {
          "model_module": "@jupyter-widgets/controls",
          "model_name": "FloatProgressModel",
          "model_module_version": "1.5.0",
          "state": {
            "_dom_classes": [],
            "_model_module": "@jupyter-widgets/controls",
            "_model_module_version": "1.5.0",
            "_model_name": "FloatProgressModel",
            "_view_count": null,
            "_view_module": "@jupyter-widgets/controls",
            "_view_module_version": "1.5.0",
            "_view_name": "ProgressView",
            "bar_style": "success",
            "description": "",
            "description_tooltip": null,
            "layout": "IPY_MODEL_3ddf0977d3db49939a062f03b1d8cfc6",
            "max": 481,
            "min": 0,
            "orientation": "horizontal",
            "style": "IPY_MODEL_9e1d856882c742649462585c6e8f57eb",
            "value": 481
          }
        },
        "d057b48588484fd3b366334d7de0684e": {
          "model_module": "@jupyter-widgets/controls",
          "model_name": "HTMLModel",
          "model_module_version": "1.5.0",
          "state": {
            "_dom_classes": [],
            "_model_module": "@jupyter-widgets/controls",
            "_model_module_version": "1.5.0",
            "_model_name": "HTMLModel",
            "_view_count": null,
            "_view_module": "@jupyter-widgets/controls",
            "_view_module_version": "1.5.0",
            "_view_name": "HTMLView",
            "description": "",
            "description_tooltip": null,
            "layout": "IPY_MODEL_b1be52402e334c3e8265d502a8d4a0fc",
            "placeholder": "​",
            "style": "IPY_MODEL_8318e9b2e50f40e4af22594f4c7815aa",
            "value": " 481/481 [00:00&lt;00:00, 25.0kB/s]"
          }
        },
        "d46497528dc446e98ebb8716ca32a56a": {
          "model_module": "@jupyter-widgets/base",
          "model_name": "LayoutModel",
          "model_module_version": "1.2.0",
          "state": {
            "_model_module": "@jupyter-widgets/base",
            "_model_module_version": "1.2.0",
            "_model_name": "LayoutModel",
            "_view_count": null,
            "_view_module": "@jupyter-widgets/base",
            "_view_module_version": "1.2.0",
            "_view_name": "LayoutView",
            "align_content": null,
            "align_items": null,
            "align_self": null,
            "border": null,
            "bottom": null,
            "display": null,
            "flex": null,
            "flex_flow": null,
            "grid_area": null,
            "grid_auto_columns": null,
            "grid_auto_flow": null,
            "grid_auto_rows": null,
            "grid_column": null,
            "grid_gap": null,
            "grid_row": null,
            "grid_template_areas": null,
            "grid_template_columns": null,
            "grid_template_rows": null,
            "height": null,
            "justify_content": null,
            "justify_items": null,
            "left": null,
            "margin": null,
            "max_height": null,
            "max_width": null,
            "min_height": null,
            "min_width": null,
            "object_fit": null,
            "object_position": null,
            "order": null,
            "overflow": null,
            "overflow_x": null,
            "overflow_y": null,
            "padding": null,
            "right": null,
            "top": null,
            "visibility": null,
            "width": null
          }
        },
        "d796a4462efe4810b109e110bfc4d750": {
          "model_module": "@jupyter-widgets/base",
          "model_name": "LayoutModel",
          "model_module_version": "1.2.0",
          "state": {
            "_model_module": "@jupyter-widgets/base",
            "_model_module_version": "1.2.0",
            "_model_name": "LayoutModel",
            "_view_count": null,
            "_view_module": "@jupyter-widgets/base",
            "_view_module_version": "1.2.0",
            "_view_name": "LayoutView",
            "align_content": null,
            "align_items": null,
            "align_self": null,
            "border": null,
            "bottom": null,
            "display": null,
            "flex": null,
            "flex_flow": null,
            "grid_area": null,
            "grid_auto_columns": null,
            "grid_auto_flow": null,
            "grid_auto_rows": null,
            "grid_column": null,
            "grid_gap": null,
            "grid_row": null,
            "grid_template_areas": null,
            "grid_template_columns": null,
            "grid_template_rows": null,
            "height": null,
            "justify_content": null,
            "justify_items": null,
            "left": null,
            "margin": null,
            "max_height": null,
            "max_width": null,
            "min_height": null,
            "min_width": null,
            "object_fit": null,
            "object_position": null,
            "order": null,
            "overflow": null,
            "overflow_x": null,
            "overflow_y": null,
            "padding": null,
            "right": null,
            "top": null,
            "visibility": null,
            "width": null
          }
        },
        "7ab63a22d11146619d773a31711181d8": {
          "model_module": "@jupyter-widgets/controls",
          "model_name": "DescriptionStyleModel",
          "model_module_version": "1.5.0",
          "state": {
            "_model_module": "@jupyter-widgets/controls",
            "_model_module_version": "1.5.0",
            "_model_name": "DescriptionStyleModel",
            "_view_count": null,
            "_view_module": "@jupyter-widgets/base",
            "_view_module_version": "1.2.0",
            "_view_name": "StyleView",
            "description_width": ""
          }
        },
        "3ddf0977d3db49939a062f03b1d8cfc6": {
          "model_module": "@jupyter-widgets/base",
          "model_name": "LayoutModel",
          "model_module_version": "1.2.0",
          "state": {
            "_model_module": "@jupyter-widgets/base",
            "_model_module_version": "1.2.0",
            "_model_name": "LayoutModel",
            "_view_count": null,
            "_view_module": "@jupyter-widgets/base",
            "_view_module_version": "1.2.0",
            "_view_name": "LayoutView",
            "align_content": null,
            "align_items": null,
            "align_self": null,
            "border": null,
            "bottom": null,
            "display": null,
            "flex": null,
            "flex_flow": null,
            "grid_area": null,
            "grid_auto_columns": null,
            "grid_auto_flow": null,
            "grid_auto_rows": null,
            "grid_column": null,
            "grid_gap": null,
            "grid_row": null,
            "grid_template_areas": null,
            "grid_template_columns": null,
            "grid_template_rows": null,
            "height": null,
            "justify_content": null,
            "justify_items": null,
            "left": null,
            "margin": null,
            "max_height": null,
            "max_width": null,
            "min_height": null,
            "min_width": null,
            "object_fit": null,
            "object_position": null,
            "order": null,
            "overflow": null,
            "overflow_x": null,
            "overflow_y": null,
            "padding": null,
            "right": null,
            "top": null,
            "visibility": null,
            "width": null
          }
        },
        "9e1d856882c742649462585c6e8f57eb": {
          "model_module": "@jupyter-widgets/controls",
          "model_name": "ProgressStyleModel",
          "model_module_version": "1.5.0",
          "state": {
            "_model_module": "@jupyter-widgets/controls",
            "_model_module_version": "1.5.0",
            "_model_name": "ProgressStyleModel",
            "_view_count": null,
            "_view_module": "@jupyter-widgets/base",
            "_view_module_version": "1.2.0",
            "_view_name": "StyleView",
            "bar_color": null,
            "description_width": ""
          }
        },
        "b1be52402e334c3e8265d502a8d4a0fc": {
          "model_module": "@jupyter-widgets/base",
          "model_name": "LayoutModel",
          "model_module_version": "1.2.0",
          "state": {
            "_model_module": "@jupyter-widgets/base",
            "_model_module_version": "1.2.0",
            "_model_name": "LayoutModel",
            "_view_count": null,
            "_view_module": "@jupyter-widgets/base",
            "_view_module_version": "1.2.0",
            "_view_name": "LayoutView",
            "align_content": null,
            "align_items": null,
            "align_self": null,
            "border": null,
            "bottom": null,
            "display": null,
            "flex": null,
            "flex_flow": null,
            "grid_area": null,
            "grid_auto_columns": null,
            "grid_auto_flow": null,
            "grid_auto_rows": null,
            "grid_column": null,
            "grid_gap": null,
            "grid_row": null,
            "grid_template_areas": null,
            "grid_template_columns": null,
            "grid_template_rows": null,
            "height": null,
            "justify_content": null,
            "justify_items": null,
            "left": null,
            "margin": null,
            "max_height": null,
            "max_width": null,
            "min_height": null,
            "min_width": null,
            "object_fit": null,
            "object_position": null,
            "order": null,
            "overflow": null,
            "overflow_x": null,
            "overflow_y": null,
            "padding": null,
            "right": null,
            "top": null,
            "visibility": null,
            "width": null
          }
        },
        "8318e9b2e50f40e4af22594f4c7815aa": {
          "model_module": "@jupyter-widgets/controls",
          "model_name": "DescriptionStyleModel",
          "model_module_version": "1.5.0",
          "state": {
            "_model_module": "@jupyter-widgets/controls",
            "_model_module_version": "1.5.0",
            "_model_name": "DescriptionStyleModel",
            "_view_count": null,
            "_view_module": "@jupyter-widgets/base",
            "_view_module_version": "1.2.0",
            "_view_name": "StyleView",
            "description_width": ""
          }
        },
        "18d635227f6746919ba699bb1dd6f7e4": {
          "model_module": "@jupyter-widgets/controls",
          "model_name": "HBoxModel",
          "model_module_version": "1.5.0",
          "state": {
            "_dom_classes": [],
            "_model_module": "@jupyter-widgets/controls",
            "_model_module_version": "1.5.0",
            "_model_name": "HBoxModel",
            "_view_count": null,
            "_view_module": "@jupyter-widgets/controls",
            "_view_module_version": "1.5.0",
            "_view_name": "HBoxView",
            "box_style": "",
            "children": [
              "IPY_MODEL_0619597ec00c4186857c7bc041116b7d",
              "IPY_MODEL_0ff8b0e82f6a4221a43f83307d5aac6f",
              "IPY_MODEL_df57ae4e90234e5aa3d09cbfc1b060a2"
            ],
            "layout": "IPY_MODEL_45c041528fda477d95ec9f51fdea73c5"
          }
        },
        "0619597ec00c4186857c7bc041116b7d": {
          "model_module": "@jupyter-widgets/controls",
          "model_name": "HTMLModel",
          "model_module_version": "1.5.0",
          "state": {
            "_dom_classes": [],
            "_model_module": "@jupyter-widgets/controls",
            "_model_module_version": "1.5.0",
            "_model_name": "HTMLModel",
            "_view_count": null,
            "_view_module": "@jupyter-widgets/controls",
            "_view_module_version": "1.5.0",
            "_view_name": "HTMLView",
            "description": "",
            "description_tooltip": null,
            "layout": "IPY_MODEL_7c5fadcd04da4d7eb28eb29e7460a1e9",
            "placeholder": "​",
            "style": "IPY_MODEL_024d18e614a9443591289d17a9d3a0a2",
            "value": "Downloading pytorch_model.bin: 100%"
          }
        },
        "0ff8b0e82f6a4221a43f83307d5aac6f": {
          "model_module": "@jupyter-widgets/controls",
          "model_name": "FloatProgressModel",
          "model_module_version": "1.5.0",
          "state": {
            "_dom_classes": [],
            "_model_module": "@jupyter-widgets/controls",
            "_model_module_version": "1.5.0",
            "_model_name": "FloatProgressModel",
            "_view_count": null,
            "_view_module": "@jupyter-widgets/controls",
            "_view_module_version": "1.5.0",
            "_view_name": "ProgressView",
            "bar_style": "success",
            "description": "",
            "description_tooltip": null,
            "layout": "IPY_MODEL_2e2ec7c58ed042f69a2d05850dfbb737",
            "max": 501200538,
            "min": 0,
            "orientation": "horizontal",
            "style": "IPY_MODEL_79e364ffbcb043879cb53c8178ec6e43",
            "value": 501200538
          }
        },
        "df57ae4e90234e5aa3d09cbfc1b060a2": {
          "model_module": "@jupyter-widgets/controls",
          "model_name": "HTMLModel",
          "model_module_version": "1.5.0",
          "state": {
            "_dom_classes": [],
            "_model_module": "@jupyter-widgets/controls",
            "_model_module_version": "1.5.0",
            "_model_name": "HTMLModel",
            "_view_count": null,
            "_view_module": "@jupyter-widgets/controls",
            "_view_module_version": "1.5.0",
            "_view_name": "HTMLView",
            "description": "",
            "description_tooltip": null,
            "layout": "IPY_MODEL_d125121403384b64b4b307cbbb23815a",
            "placeholder": "​",
            "style": "IPY_MODEL_d53d75f250ef461c8fa65b575d3ae554",
            "value": " 501M/501M [00:01&lt;00:00, 272MB/s]"
          }
        },
        "45c041528fda477d95ec9f51fdea73c5": {
          "model_module": "@jupyter-widgets/base",
          "model_name": "LayoutModel",
          "model_module_version": "1.2.0",
          "state": {
            "_model_module": "@jupyter-widgets/base",
            "_model_module_version": "1.2.0",
            "_model_name": "LayoutModel",
            "_view_count": null,
            "_view_module": "@jupyter-widgets/base",
            "_view_module_version": "1.2.0",
            "_view_name": "LayoutView",
            "align_content": null,
            "align_items": null,
            "align_self": null,
            "border": null,
            "bottom": null,
            "display": null,
            "flex": null,
            "flex_flow": null,
            "grid_area": null,
            "grid_auto_columns": null,
            "grid_auto_flow": null,
            "grid_auto_rows": null,
            "grid_column": null,
            "grid_gap": null,
            "grid_row": null,
            "grid_template_areas": null,
            "grid_template_columns": null,
            "grid_template_rows": null,
            "height": null,
            "justify_content": null,
            "justify_items": null,
            "left": null,
            "margin": null,
            "max_height": null,
            "max_width": null,
            "min_height": null,
            "min_width": null,
            "object_fit": null,
            "object_position": null,
            "order": null,
            "overflow": null,
            "overflow_x": null,
            "overflow_y": null,
            "padding": null,
            "right": null,
            "top": null,
            "visibility": null,
            "width": null
          }
        },
        "7c5fadcd04da4d7eb28eb29e7460a1e9": {
          "model_module": "@jupyter-widgets/base",
          "model_name": "LayoutModel",
          "model_module_version": "1.2.0",
          "state": {
            "_model_module": "@jupyter-widgets/base",
            "_model_module_version": "1.2.0",
            "_model_name": "LayoutModel",
            "_view_count": null,
            "_view_module": "@jupyter-widgets/base",
            "_view_module_version": "1.2.0",
            "_view_name": "LayoutView",
            "align_content": null,
            "align_items": null,
            "align_self": null,
            "border": null,
            "bottom": null,
            "display": null,
            "flex": null,
            "flex_flow": null,
            "grid_area": null,
            "grid_auto_columns": null,
            "grid_auto_flow": null,
            "grid_auto_rows": null,
            "grid_column": null,
            "grid_gap": null,
            "grid_row": null,
            "grid_template_areas": null,
            "grid_template_columns": null,
            "grid_template_rows": null,
            "height": null,
            "justify_content": null,
            "justify_items": null,
            "left": null,
            "margin": null,
            "max_height": null,
            "max_width": null,
            "min_height": null,
            "min_width": null,
            "object_fit": null,
            "object_position": null,
            "order": null,
            "overflow": null,
            "overflow_x": null,
            "overflow_y": null,
            "padding": null,
            "right": null,
            "top": null,
            "visibility": null,
            "width": null
          }
        },
        "024d18e614a9443591289d17a9d3a0a2": {
          "model_module": "@jupyter-widgets/controls",
          "model_name": "DescriptionStyleModel",
          "model_module_version": "1.5.0",
          "state": {
            "_model_module": "@jupyter-widgets/controls",
            "_model_module_version": "1.5.0",
            "_model_name": "DescriptionStyleModel",
            "_view_count": null,
            "_view_module": "@jupyter-widgets/base",
            "_view_module_version": "1.2.0",
            "_view_name": "StyleView",
            "description_width": ""
          }
        },
        "2e2ec7c58ed042f69a2d05850dfbb737": {
          "model_module": "@jupyter-widgets/base",
          "model_name": "LayoutModel",
          "model_module_version": "1.2.0",
          "state": {
            "_model_module": "@jupyter-widgets/base",
            "_model_module_version": "1.2.0",
            "_model_name": "LayoutModel",
            "_view_count": null,
            "_view_module": "@jupyter-widgets/base",
            "_view_module_version": "1.2.0",
            "_view_name": "LayoutView",
            "align_content": null,
            "align_items": null,
            "align_self": null,
            "border": null,
            "bottom": null,
            "display": null,
            "flex": null,
            "flex_flow": null,
            "grid_area": null,
            "grid_auto_columns": null,
            "grid_auto_flow": null,
            "grid_auto_rows": null,
            "grid_column": null,
            "grid_gap": null,
            "grid_row": null,
            "grid_template_areas": null,
            "grid_template_columns": null,
            "grid_template_rows": null,
            "height": null,
            "justify_content": null,
            "justify_items": null,
            "left": null,
            "margin": null,
            "max_height": null,
            "max_width": null,
            "min_height": null,
            "min_width": null,
            "object_fit": null,
            "object_position": null,
            "order": null,
            "overflow": null,
            "overflow_x": null,
            "overflow_y": null,
            "padding": null,
            "right": null,
            "top": null,
            "visibility": null,
            "width": null
          }
        },
        "79e364ffbcb043879cb53c8178ec6e43": {
          "model_module": "@jupyter-widgets/controls",
          "model_name": "ProgressStyleModel",
          "model_module_version": "1.5.0",
          "state": {
            "_model_module": "@jupyter-widgets/controls",
            "_model_module_version": "1.5.0",
            "_model_name": "ProgressStyleModel",
            "_view_count": null,
            "_view_module": "@jupyter-widgets/base",
            "_view_module_version": "1.2.0",
            "_view_name": "StyleView",
            "bar_color": null,
            "description_width": ""
          }
        },
        "d125121403384b64b4b307cbbb23815a": {
          "model_module": "@jupyter-widgets/base",
          "model_name": "LayoutModel",
          "model_module_version": "1.2.0",
          "state": {
            "_model_module": "@jupyter-widgets/base",
            "_model_module_version": "1.2.0",
            "_model_name": "LayoutModel",
            "_view_count": null,
            "_view_module": "@jupyter-widgets/base",
            "_view_module_version": "1.2.0",
            "_view_name": "LayoutView",
            "align_content": null,
            "align_items": null,
            "align_self": null,
            "border": null,
            "bottom": null,
            "display": null,
            "flex": null,
            "flex_flow": null,
            "grid_area": null,
            "grid_auto_columns": null,
            "grid_auto_flow": null,
            "grid_auto_rows": null,
            "grid_column": null,
            "grid_gap": null,
            "grid_row": null,
            "grid_template_areas": null,
            "grid_template_columns": null,
            "grid_template_rows": null,
            "height": null,
            "justify_content": null,
            "justify_items": null,
            "left": null,
            "margin": null,
            "max_height": null,
            "max_width": null,
            "min_height": null,
            "min_width": null,
            "object_fit": null,
            "object_position": null,
            "order": null,
            "overflow": null,
            "overflow_x": null,
            "overflow_y": null,
            "padding": null,
            "right": null,
            "top": null,
            "visibility": null,
            "width": null
          }
        },
        "d53d75f250ef461c8fa65b575d3ae554": {
          "model_module": "@jupyter-widgets/controls",
          "model_name": "DescriptionStyleModel",
          "model_module_version": "1.5.0",
          "state": {
            "_model_module": "@jupyter-widgets/controls",
            "_model_module_version": "1.5.0",
            "_model_name": "DescriptionStyleModel",
            "_view_count": null,
            "_view_module": "@jupyter-widgets/base",
            "_view_module_version": "1.2.0",
            "_view_name": "StyleView",
            "description_width": ""
          }
        }
      }
    }
  },
  "cells": [
    {
      "cell_type": "markdown",
      "source": [
        "##**LAW DOCUMENT SUMMARIZATION**"
      ],
      "metadata": {
        "id": "OaXvYXTgym1e"
      }
    },
    {
      "cell_type": "markdown",
      "source": [
        "###File Format Processing"
      ],
      "metadata": {
        "id": "x1NUZiKKyZuG"
      }
    },
    {
      "cell_type": "code",
      "execution_count": 2,
      "metadata": {
        "colab": {
          "base_uri": "https://localhost:8080/"
        },
        "id": "NlaTpVRPJ_Tu",
        "outputId": "225a838c-02c1-47a5-d0b0-26b35a3544df"
      },
      "outputs": [
        {
          "output_type": "stream",
          "name": "stdout",
          "text": [
            "Looking in indexes: https://pypi.org/simple, https://us-python.pkg.dev/colab-wheels/public/simple/\n",
            "Requirement already satisfied: spacy in /usr/local/lib/python3.9/dist-packages (3.5.1)\n",
            "Requirement already satisfied: jinja2 in /usr/local/lib/python3.9/dist-packages (from spacy) (3.1.2)\n",
            "Requirement already satisfied: pathy>=0.10.0 in /usr/local/lib/python3.9/dist-packages (from spacy) (0.10.1)\n",
            "Requirement already satisfied: packaging>=20.0 in /usr/local/lib/python3.9/dist-packages (from spacy) (23.0)\n",
            "Requirement already satisfied: tqdm<5.0.0,>=4.38.0 in /usr/local/lib/python3.9/dist-packages (from spacy) (4.65.0)\n",
            "Requirement already satisfied: setuptools in /usr/local/lib/python3.9/dist-packages (from spacy) (67.6.0)\n",
            "Requirement already satisfied: numpy>=1.15.0 in /usr/local/lib/python3.9/dist-packages (from spacy) (1.22.4)\n",
            "Requirement already satisfied: murmurhash<1.1.0,>=0.28.0 in /usr/local/lib/python3.9/dist-packages (from spacy) (1.0.9)\n",
            "Requirement already satisfied: spacy-legacy<3.1.0,>=3.0.11 in /usr/local/lib/python3.9/dist-packages (from spacy) (3.0.12)\n",
            "Requirement already satisfied: spacy-loggers<2.0.0,>=1.0.0 in /usr/local/lib/python3.9/dist-packages (from spacy) (1.0.4)\n",
            "Requirement already satisfied: cymem<2.1.0,>=2.0.2 in /usr/local/lib/python3.9/dist-packages (from spacy) (2.0.7)\n",
            "Requirement already satisfied: srsly<3.0.0,>=2.4.3 in /usr/local/lib/python3.9/dist-packages (from spacy) (2.4.6)\n",
            "Requirement already satisfied: smart-open<7.0.0,>=5.2.1 in /usr/local/lib/python3.9/dist-packages (from spacy) (6.3.0)\n",
            "Requirement already satisfied: requests<3.0.0,>=2.13.0 in /usr/local/lib/python3.9/dist-packages (from spacy) (2.27.1)\n",
            "Requirement already satisfied: wasabi<1.2.0,>=0.9.1 in /usr/local/lib/python3.9/dist-packages (from spacy) (1.1.1)\n",
            "Requirement already satisfied: typer<0.8.0,>=0.3.0 in /usr/local/lib/python3.9/dist-packages (from spacy) (0.7.0)\n",
            "Requirement already satisfied: catalogue<2.1.0,>=2.0.6 in /usr/local/lib/python3.9/dist-packages (from spacy) (2.0.8)\n",
            "Requirement already satisfied: langcodes<4.0.0,>=3.2.0 in /usr/local/lib/python3.9/dist-packages (from spacy) (3.3.0)\n",
            "Requirement already satisfied: preshed<3.1.0,>=3.0.2 in /usr/local/lib/python3.9/dist-packages (from spacy) (3.0.8)\n",
            "Requirement already satisfied: thinc<8.2.0,>=8.1.8 in /usr/local/lib/python3.9/dist-packages (from spacy) (8.1.9)\n",
            "Requirement already satisfied: pydantic!=1.8,!=1.8.1,<1.11.0,>=1.7.4 in /usr/local/lib/python3.9/dist-packages (from spacy) (1.10.6)\n",
            "Requirement already satisfied: typing-extensions>=4.2.0 in /usr/local/lib/python3.9/dist-packages (from pydantic!=1.8,!=1.8.1,<1.11.0,>=1.7.4->spacy) (4.5.0)\n",
            "Requirement already satisfied: certifi>=2017.4.17 in /usr/local/lib/python3.9/dist-packages (from requests<3.0.0,>=2.13.0->spacy) (2022.12.7)\n",
            "Requirement already satisfied: urllib3<1.27,>=1.21.1 in /usr/local/lib/python3.9/dist-packages (from requests<3.0.0,>=2.13.0->spacy) (1.26.15)\n",
            "Requirement already satisfied: idna<4,>=2.5 in /usr/local/lib/python3.9/dist-packages (from requests<3.0.0,>=2.13.0->spacy) (3.4)\n",
            "Requirement already satisfied: charset-normalizer~=2.0.0 in /usr/local/lib/python3.9/dist-packages (from requests<3.0.0,>=2.13.0->spacy) (2.0.12)\n",
            "Requirement already satisfied: confection<1.0.0,>=0.0.1 in /usr/local/lib/python3.9/dist-packages (from thinc<8.2.0,>=8.1.8->spacy) (0.0.4)\n",
            "Requirement already satisfied: blis<0.8.0,>=0.7.8 in /usr/local/lib/python3.9/dist-packages (from thinc<8.2.0,>=8.1.8->spacy) (0.7.9)\n",
            "Requirement already satisfied: click<9.0.0,>=7.1.1 in /usr/local/lib/python3.9/dist-packages (from typer<0.8.0,>=0.3.0->spacy) (8.1.3)\n",
            "Requirement already satisfied: MarkupSafe>=2.0 in /usr/local/lib/python3.9/dist-packages (from jinja2->spacy) (2.1.2)\n",
            "2023-03-24 02:56:03.691472: I tensorflow/core/platform/cpu_feature_guard.cc:193] This TensorFlow binary is optimized with oneAPI Deep Neural Network Library (oneDNN) to use the following CPU instructions in performance-critical operations:  AVX2 AVX512F FMA\n",
            "To enable them in other operations, rebuild TensorFlow with the appropriate compiler flags.\n",
            "2023-03-24 02:56:04.625868: W tensorflow/compiler/xla/stream_executor/platform/default/dso_loader.cc:64] Could not load dynamic library 'libnvinfer.so.7'; dlerror: libnvinfer.so.7: cannot open shared object file: No such file or directory; LD_LIBRARY_PATH: /usr/lib64-nvidia\n",
            "2023-03-24 02:56:04.625981: W tensorflow/compiler/xla/stream_executor/platform/default/dso_loader.cc:64] Could not load dynamic library 'libnvinfer_plugin.so.7'; dlerror: libnvinfer_plugin.so.7: cannot open shared object file: No such file or directory; LD_LIBRARY_PATH: /usr/lib64-nvidia\n",
            "2023-03-24 02:56:04.626001: W tensorflow/compiler/tf2tensorrt/utils/py_utils.cc:38] TF-TRT Warning: Cannot dlopen some TensorRT libraries. If you would like to use Nvidia GPU with TensorRT, please make sure the missing libraries mentioned above are installed properly.\n",
            "Looking in indexes: https://pypi.org/simple, https://us-python.pkg.dev/colab-wheels/public/simple/\n",
            "Collecting en-core-web-sm==3.5.0\n",
            "  Downloading https://github.com/explosion/spacy-models/releases/download/en_core_web_sm-3.5.0/en_core_web_sm-3.5.0-py3-none-any.whl (12.8 MB)\n",
            "\u001b[2K     \u001b[90m━━━━━━━━━━━━━━━━━━━━━━━━━━━━━━━━━━━━━━━━\u001b[0m \u001b[32m12.8/12.8 MB\u001b[0m \u001b[31m16.5 MB/s\u001b[0m eta \u001b[36m0:00:00\u001b[0m\n",
            "\u001b[?25hRequirement already satisfied: spacy<3.6.0,>=3.5.0 in /usr/local/lib/python3.9/dist-packages (from en-core-web-sm==3.5.0) (3.5.1)\n",
            "Requirement already satisfied: murmurhash<1.1.0,>=0.28.0 in /usr/local/lib/python3.9/dist-packages (from spacy<3.6.0,>=3.5.0->en-core-web-sm==3.5.0) (1.0.9)\n",
            "Requirement already satisfied: cymem<2.1.0,>=2.0.2 in /usr/local/lib/python3.9/dist-packages (from spacy<3.6.0,>=3.5.0->en-core-web-sm==3.5.0) (2.0.7)\n",
            "Requirement already satisfied: packaging>=20.0 in /usr/local/lib/python3.9/dist-packages (from spacy<3.6.0,>=3.5.0->en-core-web-sm==3.5.0) (23.0)\n",
            "Requirement already satisfied: wasabi<1.2.0,>=0.9.1 in /usr/local/lib/python3.9/dist-packages (from spacy<3.6.0,>=3.5.0->en-core-web-sm==3.5.0) (1.1.1)\n",
            "Requirement already satisfied: preshed<3.1.0,>=3.0.2 in /usr/local/lib/python3.9/dist-packages (from spacy<3.6.0,>=3.5.0->en-core-web-sm==3.5.0) (3.0.8)\n",
            "Requirement already satisfied: thinc<8.2.0,>=8.1.8 in /usr/local/lib/python3.9/dist-packages (from spacy<3.6.0,>=3.5.0->en-core-web-sm==3.5.0) (8.1.9)\n",
            "Requirement already satisfied: typer<0.8.0,>=0.3.0 in /usr/local/lib/python3.9/dist-packages (from spacy<3.6.0,>=3.5.0->en-core-web-sm==3.5.0) (0.7.0)\n",
            "Requirement already satisfied: jinja2 in /usr/local/lib/python3.9/dist-packages (from spacy<3.6.0,>=3.5.0->en-core-web-sm==3.5.0) (3.1.2)\n",
            "Requirement already satisfied: catalogue<2.1.0,>=2.0.6 in /usr/local/lib/python3.9/dist-packages (from spacy<3.6.0,>=3.5.0->en-core-web-sm==3.5.0) (2.0.8)\n",
            "Requirement already satisfied: spacy-loggers<2.0.0,>=1.0.0 in /usr/local/lib/python3.9/dist-packages (from spacy<3.6.0,>=3.5.0->en-core-web-sm==3.5.0) (1.0.4)\n",
            "Requirement already satisfied: smart-open<7.0.0,>=5.2.1 in /usr/local/lib/python3.9/dist-packages (from spacy<3.6.0,>=3.5.0->en-core-web-sm==3.5.0) (6.3.0)\n",
            "Requirement already satisfied: tqdm<5.0.0,>=4.38.0 in /usr/local/lib/python3.9/dist-packages (from spacy<3.6.0,>=3.5.0->en-core-web-sm==3.5.0) (4.65.0)\n",
            "Requirement already satisfied: langcodes<4.0.0,>=3.2.0 in /usr/local/lib/python3.9/dist-packages (from spacy<3.6.0,>=3.5.0->en-core-web-sm==3.5.0) (3.3.0)\n",
            "Requirement already satisfied: srsly<3.0.0,>=2.4.3 in /usr/local/lib/python3.9/dist-packages (from spacy<3.6.0,>=3.5.0->en-core-web-sm==3.5.0) (2.4.6)\n",
            "Requirement already satisfied: pathy>=0.10.0 in /usr/local/lib/python3.9/dist-packages (from spacy<3.6.0,>=3.5.0->en-core-web-sm==3.5.0) (0.10.1)\n",
            "Requirement already satisfied: requests<3.0.0,>=2.13.0 in /usr/local/lib/python3.9/dist-packages (from spacy<3.6.0,>=3.5.0->en-core-web-sm==3.5.0) (2.27.1)\n",
            "Requirement already satisfied: numpy>=1.15.0 in /usr/local/lib/python3.9/dist-packages (from spacy<3.6.0,>=3.5.0->en-core-web-sm==3.5.0) (1.22.4)\n",
            "Requirement already satisfied: setuptools in /usr/local/lib/python3.9/dist-packages (from spacy<3.6.0,>=3.5.0->en-core-web-sm==3.5.0) (67.6.0)\n",
            "Requirement already satisfied: pydantic!=1.8,!=1.8.1,<1.11.0,>=1.7.4 in /usr/local/lib/python3.9/dist-packages (from spacy<3.6.0,>=3.5.0->en-core-web-sm==3.5.0) (1.10.6)\n",
            "Requirement already satisfied: spacy-legacy<3.1.0,>=3.0.11 in /usr/local/lib/python3.9/dist-packages (from spacy<3.6.0,>=3.5.0->en-core-web-sm==3.5.0) (3.0.12)\n",
            "Requirement already satisfied: typing-extensions>=4.2.0 in /usr/local/lib/python3.9/dist-packages (from pydantic!=1.8,!=1.8.1,<1.11.0,>=1.7.4->spacy<3.6.0,>=3.5.0->en-core-web-sm==3.5.0) (4.5.0)\n",
            "Requirement already satisfied: idna<4,>=2.5 in /usr/local/lib/python3.9/dist-packages (from requests<3.0.0,>=2.13.0->spacy<3.6.0,>=3.5.0->en-core-web-sm==3.5.0) (3.4)\n",
            "Requirement already satisfied: urllib3<1.27,>=1.21.1 in /usr/local/lib/python3.9/dist-packages (from requests<3.0.0,>=2.13.0->spacy<3.6.0,>=3.5.0->en-core-web-sm==3.5.0) (1.26.15)\n",
            "Requirement already satisfied: certifi>=2017.4.17 in /usr/local/lib/python3.9/dist-packages (from requests<3.0.0,>=2.13.0->spacy<3.6.0,>=3.5.0->en-core-web-sm==3.5.0) (2022.12.7)\n",
            "Requirement already satisfied: charset-normalizer~=2.0.0 in /usr/local/lib/python3.9/dist-packages (from requests<3.0.0,>=2.13.0->spacy<3.6.0,>=3.5.0->en-core-web-sm==3.5.0) (2.0.12)\n",
            "Requirement already satisfied: confection<1.0.0,>=0.0.1 in /usr/local/lib/python3.9/dist-packages (from thinc<8.2.0,>=8.1.8->spacy<3.6.0,>=3.5.0->en-core-web-sm==3.5.0) (0.0.4)\n",
            "Requirement already satisfied: blis<0.8.0,>=0.7.8 in /usr/local/lib/python3.9/dist-packages (from thinc<8.2.0,>=8.1.8->spacy<3.6.0,>=3.5.0->en-core-web-sm==3.5.0) (0.7.9)\n",
            "Requirement already satisfied: click<9.0.0,>=7.1.1 in /usr/local/lib/python3.9/dist-packages (from typer<0.8.0,>=0.3.0->spacy<3.6.0,>=3.5.0->en-core-web-sm==3.5.0) (8.1.3)\n",
            "Requirement already satisfied: MarkupSafe>=2.0 in /usr/local/lib/python3.9/dist-packages (from jinja2->spacy<3.6.0,>=3.5.0->en-core-web-sm==3.5.0) (2.1.2)\n",
            "\u001b[38;5;2m✔ Download and installation successful\u001b[0m\n",
            "You can now load the package via spacy.load('en_core_web_sm')\n",
            "/bin/bash: Here: command not found\n"
          ]
        }
      ],
      "source": [
        "!pip install spacy\n",
        "!python -m spacy download en_core_web_sm\n",
        "!Here en_core_web_sm  means core English Language available online of small size."
      ]
    },
    {
      "cell_type": "code",
      "source": [
        "file=open(\"/content/test_ai1.txt\",\"r\")\n",
        "s=file.read()\n",
        "print(s)"
      ],
      "metadata": {
        "colab": {
          "base_uri": "https://localhost:8080/"
        },
        "id": "Q_xarTAuKJhn",
        "outputId": "eeddd193-e681-4c42-e673-bf01f095c33e"
      },
      "execution_count": 2,
      "outputs": [
        {
          "output_type": "stream",
          "name": "stdout",
          "text": [
            "THE PREAH VIHEAR CASE: CAMBODIA v. THAILAND\n",
            "DIVYAPRATAP PARMAR\n",
            "Introduction\n",
            "The present case was filed in the International Court of Justice (ICJ). The International Court of Justice (ICJ) is one of the six principal organs of the United Nations. It settles disputes between the countries in reference with international law and providing opinions on international legal issues arising inter countries. The official working languages of the are English and French.\n",
            "There are two types of judgements that the International Court of Justice produces, first, Contentious cases- binding rulings between states that agree, or have previously agreed to submit to the ruling of the court, second, Advisory opinion- reasoned but non-binding rulings on properly submitted questions of international law usually at the request of the United Nations General Assembly.\n",
            "Background of the Case\n",
            "The temple of Preah Vihear is an ancient Hindu shrine dedicated to Lord Shiva, known as \"The Destroyer\" within the Trimurti, the Hindu trinity who includes Brahma and Vishnu. In the Shaivite tradition, Shiva is the Supreme Lord who creates, protects and transforms the universe. The temple was built during the period of the Khmer Empire in the 9th century, that is situated on a 1,722 ft high cliff in the Dangrek Range, Vihear province of Cambodia, with Thailand being directly to its north. In its current position, the temple is 700m away from the Thai border.\n",
            "It is a mythological anodyne that the origin of the temple can be traced back to Jayavarman II’s son, Prince Indrayudha, who, in A.D. 893 installed a fragment from a stone monument called a lingam at the site. Therefore, the temple stood as a symbol of not only Lord Shiva but also the northern extent of Khmer Empire existing at that moment.\n",
            "The Cambodian and Thai boundaries are separated by the natural forming of Dangrek Range, with the watershed region where the temple is situated on a cliff-like escarpment from where the land then descends to the north into Thailand. However, this region is highly coveted due to its historical, religious and tourism value, due to which several clashes between the two countries have taken place over time.\n",
            "Matter of conflict between Cambodia & Thailand\n",
            "The dispute between Cambodia and Thailand relates to the territorial sovereignty of the region consisting of and surrounding the Temple of Preah Vihear, it and ancient temple gaining immense popularity due to its religious and historical value. Cambodian claimed that, as per the map formed by the Mixed Delimitation Commission, set up under the Treaty of 1904, it is evident that the temple falls within the national boundaries of Cambodia and because it distinguishes the frontline between both countries, the temple falls within the sovereignty of Cambodia. Where Thailand has against the law deployed armed forces while the land belongs to Cambodia.\n",
            "While Thailand on the other hand claims, the map to be inaccurate to recognise as the temple itself is not anywhere mentioned in that map. It rather believes that the location of the temple is such that it naturally distinguishes the land trough the cliffs and watershed line and they have exercised its sovereignty on the temple at the material times.\n",
            "Cambodia approached the ICJ for clarification and resolving the dispute, Government of Thailand raised preliminary objections to the jurisdiction stating that the declaration did not constitute a valid acceptance on Thailand’s part of the compulsory jurisdiction of the Court. Thailand never accepted the compulsory jurisdiction of the International Court of Justice.\n",
            "Ratio of the Judgement\n",
            "The court provided the following ratio decidendi for rejection of the preliminary objections:\n",
            "That, the sole relevant question according to the court was whether the language written in Thailand's 1950 declaration signified a clear intention, in the terms of Article 36, paragraph 2, of the Statute, 'to recognise as compulsory the jurisdiction of the Court’. The Court utilised a basic reasoning interpretation, that the declaration would have no other meaning rather than an acceptance of the compulsory jurisdiction of the International Court of Justice, since there was no other Court to which it could reference to since Thailand was aware of the dissolution of the former Court.\n",
            "Analysis of the judgement delivered\n",
            "In the Judgment on the facts proposed by both the parties the Court, by 9 votes to 3, came to the conclusion that Preah Vihear temple is situated in the territory under the sovereignty of Cambodia moreover in the consequence, that it is the obligation of Government of Thailand to withdraw any military or police forces, or any other guards or keepers, stationed by the country at the Temple premises, or in its vicinity on Cambodian territory. By 7 votes to 5, the Court found that Thailand is under an obligation to restore to Cambodia all the sculptures, fragments of monuments, stelae, ancient pottery and sandstone model which might, since the date of the occupation of the Temple by Thailand in the year of 1954, have been removed from the Temple or the Temple area by the Thai authority.\n",
            "Justice Tanaka and Justice Morelli appended to the Judgment a Joint Declaration. Vice-President Alfaro and Judge Sir Gerald Fitzmaurice appended Separate Opinions. Justice Moreno Quintana, Sir Percy Spender and Justice Wellington Koo appended Dissenting Opinions. The Court further found that the subject of the dispute was sovereignty over the region of the Temple of Preah Vihear. The ancient temple dedicated to Lord Shiva, sanctuary, partially in ruins, stood on a promontory of the Danangrek Range of mountains which constituted the boundary between Cambodia and Thailand.\n",
            "The dispute had its fons-et-origo in the boundary settlements made in the period of year 1904 to 1908 between France, then conducting the foreign relations of Indo - China, and Siam (Thailand). The application of the Treaty of 13 February 1904 was, in particular, involved that established the general character of the frontier the exact boundary of which was to be delimited by a Fmco-Siamese Mixed Commission.\n",
            "Taking into account the temple’s geographic environment, the court stated that the temple is situated on a promontory with cliffs on the east and south which towards the end run into a valley in the west and northwest direction (para. 89). Hence, a holistic approach of understanding the concept of the milieu of the temple would encompass the entire promontory region of the Preah Vihear. Towards the North, the Vicinity of the Cambodian territory reaches as far as the police station but no further than the Annex I map line, which was the basis of the Court’s dictum in the year 1962.\n",
            "Request of reinterpretation\n",
            "The Court recalled the requirements of Article 60 of the Statute,\n",
            "“The existence of dispute between the parties as to the meaning or scope of a judgment rendered by the Court—that is, a dispute concerning the operative clause of the judgment in question, and not to the reasons for the judgment, except insofar as the reasons are inseparable from the operative clause.”\n",
            "The main purpose behind seeking an interpretation should rest upon the need to declutter the meaning and the scope of what the Court has decided with binding force, and not to obtain an answer to questions not so decided. The Court also clarified in response to a contention raised by Cambodia that the headnote of the Judgment cannot provide guidance as to its scope and that it does not represent “an authoritative summary of what the Court has actually decided.\n",
            "It was reiterated that because it refused to clarify whether the line shown on the Annex 1 map constitutes the frontier between the Parties, the Court was unable to put an end to a long-lasting dispute between Cambodia and Thailand. On the other hand, this question was not before the Court in 1962, and it was not decided with binding force but merely included in the reasoning of the Judgment. The Court had found this claim inadmissible as a new claim, although this is not explicitly stated in the 1962 Judgment.\n",
            "If the 2013 Court had provided an interpretation on this point, it would have substituted itself for the 1962 Court by adding a question which was not decided at that time in the operative part. In effect, this aspect of Cambodia’s request amounted to a request for revision. Thailand’s behaviour could also be criticized as hardly meeting the standard of good faith required in the implementation of the judgments of the principal judicial organ of the United Nations.\n",
            "The Court thus interpreted the 1962 judgment to give Cambodia sovereignty over the entire promontory, which represents roughly half of the disputed 4.6 square kilometers, bounded by the Annex I map line to the north and extending to the west until the ground begins to rise at the foot of Phnom Trap (paras. 98, 108). Taking note of Thai concerns about the difficulty of transposing the Annex I map line onto a modern map, it left the precise location of that line, the frontier at the foot of Phnom Trap, and sovereignty over the remainder of the disputed strip subject to further negotiation (para. 99). It also noted Thailand’s obligation to respect Cambodia’s territorial integrity once the dispute is resolved, obviating the need to address the continuing relevance of the Thai withdrawal obligation under the 1962 verdict.\n",
            "Concluding Remarks\n",
            "The judgment provided by the court not only reflects the mindset of the judges and litigating parties but also represents a holistic picture of what solution best remedies the issue at hand. More generally, greater clarity in the drafting of judgments could prevent exacerbation of existing disputes in future cases especially when it comes to the International Court of Justice, the court which bears upon itself one of the most onerous tasks of settling disputes between nations engaged in a dispute. The Preah Vihear case demonstrates how things tend to disarray when expressions in the judgment are susceptible to more than one interpretation by the parties causing further complications. Nonetheless, the Court’s judgment on interpretation does not seem to have surprised either of the two litigant States and has been fairly positively accepted thereby bringing end to a dispute that could have been exacerbated. \n"
          ]
        }
      ]
    },
    {
      "cell_type": "code",
      "source": [
        "#Perform standard imports\n",
        "import spacy\n",
        "nlp = spacy.load('en_core_web_sm') # Load the English Model\n",
        "doc=nlp(s)\n",
        "nlp = spacy.load('en_core_web_sm')"
      ],
      "metadata": {
        "id": "slFpshSSNPjK"
      },
      "execution_count": 3,
      "outputs": []
    },
    {
      "cell_type": "code",
      "source": [
        "#ADD A NEW RULE TO THE PIPELINE\n",
        "from spacy.language import Language\n",
        "@Language.component(\"my_component\")\n",
        "def set_custom_Sentence_end_points(doc):\n",
        "    for token in doc[:-1]:\n",
        "        if token.text == '\\n':\n",
        "            doc[token.i+1].is_sent_start = True\n",
        "    return doc"
      ],
      "metadata": {
        "id": "VQGh2YZgRGv2"
      },
      "execution_count": 4,
      "outputs": []
    },
    {
      "cell_type": "code",
      "source": [
        "nlp.add_pipe(\"my_component\", before='parser')"
      ],
      "metadata": {
        "colab": {
          "base_uri": "https://localhost:8080/"
        },
        "id": "e3TvNb9BRQVV",
        "outputId": "cc1d0c0e-9777-493d-c90b-1ea599951e4f"
      },
      "execution_count": 5,
      "outputs": [
        {
          "output_type": "execute_result",
          "data": {
            "text/plain": [
              "<function __main__.set_custom_Sentence_end_points(doc)>"
            ]
          },
          "metadata": {},
          "execution_count": 5
        }
      ]
    },
    {
      "cell_type": "code",
      "source": [
        "nlp.pipe_names"
      ],
      "metadata": {
        "id": "8JhuuSQgRRlP",
        "colab": {
          "base_uri": "https://localhost:8080/"
        },
        "outputId": "5581fcfc-70a5-4b13-b50e-bc00a995dcc7"
      },
      "execution_count": 6,
      "outputs": [
        {
          "output_type": "execute_result",
          "data": {
            "text/plain": [
              "['tok2vec',\n",
              " 'tagger',\n",
              " 'my_component',\n",
              " 'parser',\n",
              " 'attribute_ruler',\n",
              " 'lemmatizer',\n",
              " 'ner']"
            ]
          },
          "metadata": {},
          "execution_count": 6
        }
      ]
    },
    {
      "cell_type": "code",
      "source": [
        "doc = nlp(s)"
      ],
      "metadata": {
        "id": "tgPXoEJPNT7d"
      },
      "execution_count": 7,
      "outputs": []
    },
    {
      "cell_type": "code",
      "source": [
        "for sent in doc.sents:\n",
        "    print(sent)"
      ],
      "metadata": {
        "colab": {
          "base_uri": "https://localhost:8080/"
        },
        "id": "0j6hfj4vNZfA",
        "outputId": "ed32b42d-e8ec-4cde-d094-0edd2f601f48"
      },
      "execution_count": 8,
      "outputs": [
        {
          "output_type": "stream",
          "name": "stdout",
          "text": [
            "THE PREAH VIHEAR CASE: CAMBODIA v. THAILAND\n",
            "\n",
            "DIVYAPRATAP PARMAR\n",
            "\n",
            "Introduction\n",
            "\n",
            "The present case was filed in the International Court of Justice (ICJ).\n",
            "The International Court of Justice (ICJ) is one of the six principal organs of the United Nations.\n",
            "It settles disputes between the countries in reference with international law and providing opinions on international legal issues arising inter countries.\n",
            "The official working languages of the are English and French.\n",
            "\n",
            "There are two types of judgements that the International Court of Justice produces, first, Contentious cases- binding rulings between states that agree, or have previously agreed to submit to the ruling of the court, second, Advisory opinion- reasoned but non-binding rulings on properly submitted questions of international law usually at the request of the United Nations General Assembly.\n",
            "\n",
            "Background of the Case\n",
            "\n",
            "The temple of Preah Vihear is an ancient Hindu shrine dedicated to Lord Shiva, known as \"The Destroyer\" within the Trimurti, the Hindu trinity who includes Brahma and Vishnu.\n",
            "In the Shaivite tradition, Shiva is the Supreme Lord who creates, protects and transforms the universe.\n",
            "The temple was built during the period of the Khmer Empire in the 9th century, that is situated on a 1,722 ft high cliff in the Dangrek Range, Vihear province of Cambodia, with Thailand being directly to its north.\n",
            "In its current position, the temple is 700m away from the Thai border.\n",
            "\n",
            "It is a mythological anodyne that the origin of the temple can be traced back to Jayavarman II’s son, Prince Indrayudha, who, in A.D. 893 installed a fragment from a stone monument called a lingam at the site.\n",
            "Therefore, the temple stood as a symbol of not only Lord Shiva but also the northern extent of Khmer Empire existing at that moment.\n",
            "\n",
            "The Cambodian and Thai boundaries are separated by the natural forming of Dangrek Range, with the watershed region where the temple is situated on a cliff-like escarpment from where the land then descends to the north into Thailand.\n",
            "However, this region is highly coveted due to its historical, religious and tourism value, due to which several clashes between the two countries have taken place over time.\n",
            "\n",
            "Matter of conflict between Cambodia & Thailand\n",
            "\n",
            "The dispute between Cambodia and Thailand relates to the territorial sovereignty of the region consisting of and surrounding the Temple of Preah Vihear, it and ancient temple gaining immense popularity due to its religious and historical value.\n",
            "Cambodian claimed that, as per the map formed by the Mixed Delimitation Commission, set up under the Treaty of 1904, it is evident that the temple falls within the national boundaries of Cambodia and because it distinguishes the frontline between both countries, the temple falls within the sovereignty of Cambodia.\n",
            "Where Thailand has against the law deployed armed forces while the land belongs to Cambodia.\n",
            "\n",
            "While Thailand on the other hand claims, the map to be inaccurate to recognise as the temple itself is not anywhere mentioned in that map.\n",
            "It rather believes that the location of the temple is such that it naturally distinguishes the land trough the cliffs and watershed line and they have exercised its sovereignty on the temple at the material times.\n",
            "\n",
            "Cambodia approached the ICJ for clarification and resolving the dispute, Government of Thailand raised preliminary objections to the jurisdiction stating that the declaration did not constitute a valid acceptance on Thailand’s part of the compulsory jurisdiction of the Court.\n",
            "Thailand never accepted the compulsory jurisdiction of the International Court of Justice.\n",
            "\n",
            "Ratio of the Judgement\n",
            "\n",
            "The court provided the following ratio decidendi for rejection of the preliminary objections:\n",
            "\n",
            "That, the sole relevant question according to the court was whether the language written in Thailand's 1950 declaration signified a clear intention, in the terms of Article 36, paragraph 2, of the Statute, 'to recognise as compulsory the jurisdiction of the Court’.\n",
            "The Court utilised a basic reasoning interpretation, that the declaration would have no other meaning rather than an acceptance of the compulsory jurisdiction of the International Court of Justice, since there was no other Court to which it could reference to since Thailand was aware of the dissolution of the former Court.\n",
            "\n",
            "Analysis of the judgement delivered\n",
            "\n",
            "In the Judgment on the facts proposed by both the parties the Court, by 9 votes to 3, came to the conclusion that Preah Vihear temple is situated in the territory under the sovereignty of Cambodia moreover in the consequence, that it is the obligation of Government of Thailand to withdraw any military or police forces, or any other guards or keepers, stationed by the country at the Temple premises, or in its vicinity on Cambodian territory.\n",
            "By 7 votes to 5, the Court found that Thailand is under an obligation to restore to Cambodia all the sculptures, fragments of monuments, stelae, ancient pottery and sandstone model which might, since the date of the occupation of the Temple by Thailand in the year of 1954, have been removed from the Temple or the Temple area by the Thai authority.\n",
            "\n",
            "Justice Tanaka and Justice Morelli appended to the Judgment a Joint Declaration.\n",
            "Vice-President Alfaro and Judge Sir Gerald Fitzmaurice appended Separate Opinions.\n",
            "Justice Moreno Quintana, Sir Percy Spender and Justice Wellington Koo appended Dissenting Opinions.\n",
            "The Court further found that the subject of the dispute was sovereignty over the region of the Temple of Preah Vihear.\n",
            "The ancient temple dedicated to Lord Shiva, sanctuary, partially in ruins, stood on a promontory of the Danangrek Range of mountains which constituted the boundary between Cambodia and Thailand.\n",
            "\n",
            "The dispute had its fons-et-origo in the boundary settlements made in the period of year 1904 to 1908 between France, then conducting the foreign relations of Indo - China, and Siam (Thailand).\n",
            "The application of the Treaty of 13 February 1904 was, in particular, involved that established the general character of the frontier the exact boundary of which was to be delimited by a Fmco-Siamese Mixed Commission.\n",
            "\n",
            "Taking into account the temple’s geographic environment, the court stated that the temple is situated on a promontory with cliffs on the east and south which towards the end run into a valley in the west and\n",
            "northwest direction (para. 89).\n",
            "Hence, a holistic approach of understanding the concept of the milieu of the temple would encompass the entire promontory region of the Preah Vihear.\n",
            "Towards the North, the Vicinity of the Cambodian territory reaches as far as the police station but no further than the Annex I map line, which was the basis of the Court’s dictum in the year 1962.\n",
            "\n",
            "Request of reinterpretation\n",
            "\n",
            "The Court recalled the requirements of Article 60 of the Statute,\n",
            "\n",
            "“\n",
            "The existence of dispute between the parties as to the meaning or scope of a judgment rendered by the Court—that is, a dispute concerning the operative clause of the judgment in question, and not to the reasons for the judgment, except insofar as the reasons are inseparable from the operative clause.”\n",
            "\n",
            "The main purpose behind seeking an interpretation should rest upon the need to declutter the meaning and the scope of what the Court has decided with binding force, and not to obtain an answer to questions not so decided.\n",
            "The Court also clarified in response to a contention raised by Cambodia that the headnote of the Judgment cannot provide guidance as to its scope and that it does not represent “an authoritative summary of what the Court has actually decided.\n",
            "\n",
            "It was reiterated that because it refused to clarify whether the line shown on the Annex 1 map constitutes the frontier between the Parties, the Court was unable to put an end to a long-lasting dispute between Cambodia and Thailand.\n",
            "On the other hand, this question was not before the Court in 1962, and it was not decided with binding force but merely included in the reasoning of the Judgment.\n",
            "The Court had found this claim inadmissible as a new claim, although this is not explicitly stated in the 1962 Judgment.\n",
            "\n",
            "If the 2013 Court had provided an interpretation on this point, it would have substituted itself for the 1962 Court by adding a question which was not decided at that time in the operative part.\n",
            "In effect, this aspect of Cambodia’s request amounted to a request for revision.\n",
            "Thailand’s behaviour could also be criticized as hardly meeting the standard of good faith required in the implementation of the judgments of the principal judicial organ of the United Nations.\n",
            "\n",
            "The Court thus interpreted the 1962 judgment to give Cambodia sovereignty over the entire promontory, which represents roughly half of the disputed 4.6 square kilometers, bounded by the Annex I map line to the north and extending to the west until the ground begins to rise at the foot of Phnom Trap (paras. 98, 108).\n",
            "Taking note of Thai concerns about the difficulty of transposing the Annex I map line onto a modern map, it left the precise location of that line, the frontier at the foot of Phnom Trap, and sovereignty over the remainder of the disputed strip subject to further negotiation (para. 99).\n",
            "It also noted Thailand’s obligation to respect Cambodia’s territorial integrity once the dispute is resolved, obviating the need to address the continuing relevance of the Thai withdrawal obligation under the 1962 verdict.\n",
            "\n",
            "Concluding Remarks\n",
            "\n",
            "The judgment provided by the court not only reflects the mindset of the judges and litigating parties but also represents a holistic picture of what solution best remedies the issue at hand.\n",
            "More generally, greater clarity in the drafting of judgments could prevent exacerbation of existing disputes in future cases especially when it comes to the International Court of Justice, the court which bears upon itself one of the most onerous tasks of settling disputes between nations engaged in a dispute.\n",
            "The Preah Vihear case demonstrates how things tend to disarray when expressions in the judgment are susceptible to more than one interpretation by the parties causing further complications.\n",
            "Nonetheless, the Court’s judgment on interpretation does not seem to have surprised either of the two litigant States and has been fairly positively accepted thereby bringing end to a dispute that could have been exacerbated.\n"
          ]
        }
      ]
    },
    {
      "cell_type": "code",
      "source": [
        "doc_sents = [sent for sent in doc.sents]\n",
        "doc_sents"
      ],
      "metadata": {
        "colab": {
          "base_uri": "https://localhost:8080/"
        },
        "id": "YC_LGdErNy-O",
        "outputId": "8255b90d-42a7-4762-db9b-12813180d113"
      },
      "execution_count": 9,
      "outputs": [
        {
          "output_type": "execute_result",
          "data": {
            "text/plain": [
              "[THE PREAH VIHEAR CASE: CAMBODIA v. THAILAND,\n",
              " DIVYAPRATAP PARMAR,\n",
              " Introduction,\n",
              " The present case was filed in the International Court of Justice (ICJ).,\n",
              " The International Court of Justice (ICJ) is one of the six principal organs of the United Nations.,\n",
              " It settles disputes between the countries in reference with international law and providing opinions on international legal issues arising inter countries.,\n",
              " The official working languages of the are English and French.,\n",
              " There are two types of judgements that the International Court of Justice produces, first, Contentious cases- binding rulings between states that agree, or have previously agreed to submit to the ruling of the court, second, Advisory opinion- reasoned but non-binding rulings on properly submitted questions of international law usually at the request of the United Nations General Assembly.,\n",
              " Background of the Case,\n",
              " The temple of Preah Vihear is an ancient Hindu shrine dedicated to Lord Shiva, known as \"The Destroyer\" within the Trimurti, the Hindu trinity who includes Brahma and Vishnu.,\n",
              " In the Shaivite tradition, Shiva is the Supreme Lord who creates, protects and transforms the universe.,\n",
              " The temple was built during the period of the Khmer Empire in the 9th century, that is situated on a 1,722 ft high cliff in the Dangrek Range, Vihear province of Cambodia, with Thailand being directly to its north.,\n",
              " In its current position, the temple is 700m away from the Thai border.,\n",
              " It is a mythological anodyne that the origin of the temple can be traced back to Jayavarman II’s son, Prince Indrayudha, who, in A.D. 893 installed a fragment from a stone monument called a lingam at the site.,\n",
              " Therefore, the temple stood as a symbol of not only Lord Shiva but also the northern extent of Khmer Empire existing at that moment.,\n",
              " The Cambodian and Thai boundaries are separated by the natural forming of Dangrek Range, with the watershed region where the temple is situated on a cliff-like escarpment from where the land then descends to the north into Thailand.,\n",
              " However, this region is highly coveted due to its historical, religious and tourism value, due to which several clashes between the two countries have taken place over time.,\n",
              " Matter of conflict between Cambodia & Thailand,\n",
              " The dispute between Cambodia and Thailand relates to the territorial sovereignty of the region consisting of and surrounding the Temple of Preah Vihear, it and ancient temple gaining immense popularity due to its religious and historical value.,\n",
              " Cambodian claimed that, as per the map formed by the Mixed Delimitation Commission, set up under the Treaty of 1904, it is evident that the temple falls within the national boundaries of Cambodia and because it distinguishes the frontline between both countries, the temple falls within the sovereignty of Cambodia.,\n",
              " Where Thailand has against the law deployed armed forces while the land belongs to Cambodia.,\n",
              " While Thailand on the other hand claims, the map to be inaccurate to recognise as the temple itself is not anywhere mentioned in that map.,\n",
              " It rather believes that the location of the temple is such that it naturally distinguishes the land trough the cliffs and watershed line and they have exercised its sovereignty on the temple at the material times.,\n",
              " Cambodia approached the ICJ for clarification and resolving the dispute, Government of Thailand raised preliminary objections to the jurisdiction stating that the declaration did not constitute a valid acceptance on Thailand’s part of the compulsory jurisdiction of the Court.,\n",
              " Thailand never accepted the compulsory jurisdiction of the International Court of Justice.,\n",
              " Ratio of the Judgement,\n",
              " The court provided the following ratio decidendi for rejection of the preliminary objections:,\n",
              " That, the sole relevant question according to the court was whether the language written in Thailand's 1950 declaration signified a clear intention, in the terms of Article 36, paragraph 2, of the Statute, 'to recognise as compulsory the jurisdiction of the Court’.,\n",
              " The Court utilised a basic reasoning interpretation, that the declaration would have no other meaning rather than an acceptance of the compulsory jurisdiction of the International Court of Justice, since there was no other Court to which it could reference to since Thailand was aware of the dissolution of the former Court.,\n",
              " Analysis of the judgement delivered,\n",
              " In the Judgment on the facts proposed by both the parties the Court, by 9 votes to 3, came to the conclusion that Preah Vihear temple is situated in the territory under the sovereignty of Cambodia moreover in the consequence, that it is the obligation of Government of Thailand to withdraw any military or police forces, or any other guards or keepers, stationed by the country at the Temple premises, or in its vicinity on Cambodian territory.,\n",
              " By 7 votes to 5, the Court found that Thailand is under an obligation to restore to Cambodia all the sculptures, fragments of monuments, stelae, ancient pottery and sandstone model which might, since the date of the occupation of the Temple by Thailand in the year of 1954, have been removed from the Temple or the Temple area by the Thai authority.,\n",
              " Justice Tanaka and Justice Morelli appended to the Judgment a Joint Declaration.,\n",
              " Vice-President Alfaro and Judge Sir Gerald Fitzmaurice appended Separate Opinions.,\n",
              " Justice Moreno Quintana, Sir Percy Spender and Justice Wellington Koo appended Dissenting Opinions.,\n",
              " The Court further found that the subject of the dispute was sovereignty over the region of the Temple of Preah Vihear.,\n",
              " The ancient temple dedicated to Lord Shiva, sanctuary, partially in ruins, stood on a promontory of the Danangrek Range of mountains which constituted the boundary between Cambodia and Thailand.,\n",
              " The dispute had its fons-et-origo in the boundary settlements made in the period of year 1904 to 1908 between France, then conducting the foreign relations of Indo - China, and Siam (Thailand).,\n",
              " The application of the Treaty of 13 February 1904 was, in particular, involved that established the general character of the frontier the exact boundary of which was to be delimited by a Fmco-Siamese Mixed Commission.,\n",
              " Taking into account the temple’s geographic environment, the court stated that the temple is situated on a promontory with cliffs on the east and south which towards the end run into a valley in the west and,\n",
              " northwest direction (para. 89).,\n",
              " Hence, a holistic approach of understanding the concept of the milieu of the temple would encompass the entire promontory region of the Preah Vihear.,\n",
              " Towards the North, the Vicinity of the Cambodian territory reaches as far as the police station but no further than the Annex I map line, which was the basis of the Court’s dictum in the year 1962.,\n",
              " Request of reinterpretation,\n",
              " The Court recalled the requirements of Article 60 of the Statute,,\n",
              " “,\n",
              " The existence of dispute between the parties as to the meaning or scope of a judgment rendered by the Court—that is, a dispute concerning the operative clause of the judgment in question, and not to the reasons for the judgment, except insofar as the reasons are inseparable from the operative clause.”,\n",
              " The main purpose behind seeking an interpretation should rest upon the need to declutter the meaning and the scope of what the Court has decided with binding force, and not to obtain an answer to questions not so decided.,\n",
              " The Court also clarified in response to a contention raised by Cambodia that the headnote of the Judgment cannot provide guidance as to its scope and that it does not represent “an authoritative summary of what the Court has actually decided.,\n",
              " It was reiterated that because it refused to clarify whether the line shown on the Annex 1 map constitutes the frontier between the Parties, the Court was unable to put an end to a long-lasting dispute between Cambodia and Thailand.,\n",
              " On the other hand, this question was not before the Court in 1962, and it was not decided with binding force but merely included in the reasoning of the Judgment.,\n",
              " The Court had found this claim inadmissible as a new claim, although this is not explicitly stated in the 1962 Judgment.,\n",
              " If the 2013 Court had provided an interpretation on this point, it would have substituted itself for the 1962 Court by adding a question which was not decided at that time in the operative part.,\n",
              " In effect, this aspect of Cambodia’s request amounted to a request for revision.,\n",
              " Thailand’s behaviour could also be criticized as hardly meeting the standard of good faith required in the implementation of the judgments of the principal judicial organ of the United Nations.,\n",
              " The Court thus interpreted the 1962 judgment to give Cambodia sovereignty over the entire promontory, which represents roughly half of the disputed 4.6 square kilometers, bounded by the Annex I map line to the north and extending to the west until the ground begins to rise at the foot of Phnom Trap (paras. 98, 108).,\n",
              " Taking note of Thai concerns about the difficulty of transposing the Annex I map line onto a modern map, it left the precise location of that line, the frontier at the foot of Phnom Trap, and sovereignty over the remainder of the disputed strip subject to further negotiation (para. 99).,\n",
              " It also noted Thailand’s obligation to respect Cambodia’s territorial integrity once the dispute is resolved, obviating the need to address the continuing relevance of the Thai withdrawal obligation under the 1962 verdict.,\n",
              " Concluding Remarks,\n",
              " The judgment provided by the court not only reflects the mindset of the judges and litigating parties but also represents a holistic picture of what solution best remedies the issue at hand.,\n",
              " More generally, greater clarity in the drafting of judgments could prevent exacerbation of existing disputes in future cases especially when it comes to the International Court of Justice, the court which bears upon itself one of the most onerous tasks of settling disputes between nations engaged in a dispute.,\n",
              " The Preah Vihear case demonstrates how things tend to disarray when expressions in the judgment are susceptible to more than one interpretation by the parties causing further complications.,\n",
              " Nonetheless, the Court’s judgment on interpretation does not seem to have surprised either of the two litigant States and has been fairly positively accepted thereby bringing end to a dispute that could have been exacerbated.]"
            ]
          },
          "metadata": {},
          "execution_count": 9
        }
      ]
    },
    {
      "cell_type": "code",
      "source": [
        "import locale\n",
        "def getpreferredencoding(do_setlocale = True):\n",
        "    return \"UTF-8\"\n",
        "locale.getpreferredencoding = getpreferredencoding\n",
        "!export PYTHONIOENCODING=utf-8"
      ],
      "metadata": {
        "id": "Kbd1omOHGZQL"
      },
      "execution_count": 10,
      "outputs": []
    },
    {
      "cell_type": "code",
      "source": [
        "import sys\n",
        "from importlib import reload\n",
        "reload(sys)\n",
        "sys.getdefaultencoding()"
      ],
      "metadata": {
        "colab": {
          "base_uri": "https://localhost:8080/",
          "height": 35
        },
        "id": "c5xmsuaYMGvZ",
        "outputId": "a6a4b305-4fae-4022-b451-ff75dfb70d15"
      },
      "execution_count": 11,
      "outputs": [
        {
          "output_type": "execute_result",
          "data": {
            "text/plain": [
              "'utf-8'"
            ],
            "application/vnd.google.colaboratory.intrinsic+json": {
              "type": "string"
            }
          },
          "metadata": {},
          "execution_count": 11
        }
      ]
    },
    {
      "cell_type": "code",
      "source": [
        "\n",
        "with open(\"d1.txt\", \"w\") as file:\n",
        "  i=1\n",
        "  df=[]\n",
        "  for sent in doc_sents:\n",
        "    df.append((\"d_\"+str(i)+\"\\t\"+sent.text+\"\\n\"))\n",
        "    df[i-1]=df[i-1].encode('ascii', 'ignore').decode('ascii')\n",
        "    i=i+1\n",
        "  file.writelines(df)\n",
        "  file.close()\n",
        "# df"
      ],
      "metadata": {
        "id": "vSL06DEUON-f"
      },
      "execution_count": 12,
      "outputs": []
    },
    {
      "cell_type": "code",
      "source": [
        "file=open(\"/content/d1.txt\",\"r\")\n",
        "\n",
        "print(\"read function: \")\n",
        "s=file.read()\n",
        "print(s)"
      ],
      "metadata": {
        "colab": {
          "base_uri": "https://localhost:8080/"
        },
        "id": "gvb549nqUves",
        "outputId": "dca27272-86b2-41ef-87a3-993e38f64ac6"
      },
      "execution_count": 13,
      "outputs": [
        {
          "output_type": "stream",
          "name": "stdout",
          "text": [
            "read function: \n",
            "d_1\tTHE PREAH VIHEAR CASE: CAMBODIA v. THAILAND\n",
            "\n",
            "d_2\tDIVYAPRATAP PARMAR\n",
            "\n",
            "d_3\tIntroduction\n",
            "\n",
            "d_4\tThe present case was filed in the International Court of Justice (ICJ).\n",
            "d_5\tThe International Court of Justice (ICJ) is one of the six principal organs of the United Nations.\n",
            "d_6\tIt settles disputes between the countries in reference with international law and providing opinions on international legal issues arising inter countries.\n",
            "d_7\tThe official working languages of the are English and French.\n",
            "\n",
            "d_8\tThere are two types of judgements that the International Court of Justice produces, first, Contentious cases- binding rulings between states that agree, or have previously agreed to submit to the ruling of the court, second, Advisory opinion- reasoned but non-binding rulings on properly submitted questions of international law usually at the request of the United Nations General Assembly.\n",
            "\n",
            "d_9\tBackground of the Case\n",
            "\n",
            "d_10\tThe temple of Preah Vihear is an ancient Hindu shrine dedicated to Lord Shiva, known as \"The Destroyer\" within the Trimurti, the Hindu trinity who includes Brahma and Vishnu.\n",
            "d_11\tIn the Shaivite tradition, Shiva is the Supreme Lord who creates, protects and transforms the universe.\n",
            "d_12\tThe temple was built during the period of the Khmer Empire in the 9th century, that is situated on a 1,722 ft high cliff in the Dangrek Range, Vihear province of Cambodia, with Thailand being directly to its north.\n",
            "d_13\tIn its current position, the temple is 700m away from the Thai border.\n",
            "\n",
            "d_14\tIt is a mythological anodyne that the origin of the temple can be traced back to Jayavarman IIs son, Prince Indrayudha, who, in A.D. 893 installed a fragment from a stone monument called a lingam at the site.\n",
            "d_15\tTherefore, the temple stood as a symbol of not only Lord Shiva but also the northern extent of Khmer Empire existing at that moment.\n",
            "\n",
            "d_16\tThe Cambodian and Thai boundaries are separated by the natural forming of Dangrek Range, with the watershed region where the temple is situated on a cliff-like escarpment from where the land then descends to the north into Thailand.\n",
            "d_17\tHowever, this region is highly coveted due to its historical, religious and tourism value, due to which several clashes between the two countries have taken place over time.\n",
            "\n",
            "d_18\tMatter of conflict between Cambodia & Thailand\n",
            "\n",
            "d_19\tThe dispute between Cambodia and Thailand relates to the territorial sovereignty of the region consisting of and surrounding the Temple of Preah Vihear, it and ancient temple gaining immense popularity due to its religious and historical value.\n",
            "d_20\tCambodian claimed that, as per the map formed by the Mixed Delimitation Commission, set up under the Treaty of 1904, it is evident that the temple falls within the national boundaries of Cambodia and because it distinguishes the frontline between both countries, the temple falls within the sovereignty of Cambodia.\n",
            "d_21\tWhere Thailand has against the law deployed armed forces while the land belongs to Cambodia.\n",
            "\n",
            "d_22\tWhile Thailand on the other hand claims, the map to be inaccurate to recognise as the temple itself is not anywhere mentioned in that map.\n",
            "d_23\tIt rather believes that the location of the temple is such that it naturally distinguishes the land trough the cliffs and watershed line and they have exercised its sovereignty on the temple at the material times.\n",
            "\n",
            "d_24\tCambodia approached the ICJ for clarification and resolving the dispute, Government of Thailand raised preliminary objections to the jurisdiction stating that the declaration did not constitute a valid acceptance on Thailands part of the compulsory jurisdiction of the Court.\n",
            "d_25\tThailand never accepted the compulsory jurisdiction of the International Court of Justice.\n",
            "\n",
            "d_26\tRatio of the Judgement\n",
            "\n",
            "d_27\tThe court provided the following ratio decidendi for rejection of the preliminary objections:\n",
            "\n",
            "d_28\tThat, the sole relevant question according to the court was whether the language written in Thailand's 1950 declaration signified a clear intention, in the terms of Article 36, paragraph 2, of the Statute, 'to recognise as compulsory the jurisdiction of the Court.\n",
            "d_29\tThe Court utilised a basic reasoning interpretation, that the declaration would have no other meaning rather than an acceptance of the compulsory jurisdiction of the International Court of Justice, since there was no other Court to which it could reference to since Thailand was aware of the dissolution of the former Court.\n",
            "\n",
            "d_30\tAnalysis of the judgement delivered\n",
            "\n",
            "d_31\tIn the Judgment on the facts proposed by both the parties the Court, by 9 votes to 3, came to the conclusion that Preah Vihear temple is situated in the territory under the sovereignty of Cambodia moreover in the consequence, that it is the obligation of Government of Thailand to withdraw any military or police forces, or any other guards or keepers, stationed by the country at the Temple premises, or in its vicinity on Cambodian territory.\n",
            "d_32\tBy 7 votes to 5, the Court found that Thailand is under an obligation to restore to Cambodia all the sculptures, fragments of monuments, stelae, ancient pottery and sandstone model which might, since the date of the occupation of the Temple by Thailand in the year of 1954, have been removed from the Temple or the Temple area by the Thai authority.\n",
            "\n",
            "d_33\tJustice Tanaka and Justice Morelli appended to the Judgment a Joint Declaration.\n",
            "d_34\tVice-President Alfaro and Judge Sir Gerald Fitzmaurice appended Separate Opinions.\n",
            "d_35\tJustice Moreno Quintana, Sir Percy Spender and Justice Wellington Koo appended Dissenting Opinions.\n",
            "d_36\tThe Court further found that the subject of the dispute was sovereignty over the region of the Temple of Preah Vihear.\n",
            "d_37\tThe ancient temple dedicated to Lord Shiva, sanctuary, partially in ruins, stood on a promontory of the Danangrek Range of mountains which constituted the boundary between Cambodia and Thailand.\n",
            "\n",
            "d_38\tThe dispute had its fons-et-origo in the boundary settlements made in the period of year 1904 to 1908 between France, then conducting the foreign relations of Indo - China, and Siam (Thailand).\n",
            "d_39\tThe application of the Treaty of 13 February 1904 was, in particular, involved that established the general character of the frontier the exact boundary of which was to be delimited by a Fmco-Siamese Mixed Commission.\n",
            "\n",
            "d_40\tTaking into account the temples geographic environment, the court stated that the temple is situated on a promontory with cliffs on the east and south which towards the end run into a valley in the west and\n",
            "d_41\tnorthwest direction (para. 89).\n",
            "d_42\tHence, a holistic approach of understanding the concept of the milieu of the temple would encompass the entire promontory region of the Preah Vihear.\n",
            "d_43\tTowards the North, the Vicinity of the Cambodian territory reaches as far as the police station but no further than the Annex I map line, which was the basis of the Courts dictum in the year 1962.\n",
            "\n",
            "d_44\tRequest of reinterpretation\n",
            "\n",
            "d_45\tThe Court recalled the requirements of Article 60 of the Statute,\n",
            "\n",
            "d_46\t\n",
            "d_47\tThe existence of dispute between the parties as to the meaning or scope of a judgment rendered by the Courtthat is, a dispute concerning the operative clause of the judgment in question, and not to the reasons for the judgment, except insofar as the reasons are inseparable from the operative clause.\n",
            "\n",
            "d_48\tThe main purpose behind seeking an interpretation should rest upon the need to declutter the meaning and the scope of what the Court has decided with binding force, and not to obtain an answer to questions not so decided.\n",
            "d_49\tThe Court also clarified in response to a contention raised by Cambodia that the headnote of the Judgment cannot provide guidance as to its scope and that it does not represent an authoritative summary of what the Court has actually decided.\n",
            "\n",
            "d_50\tIt was reiterated that because it refused to clarify whether the line shown on the Annex 1 map constitutes the frontier between the Parties, the Court was unable to put an end to a long-lasting dispute between Cambodia and Thailand.\n",
            "d_51\tOn the other hand, this question was not before the Court in 1962, and it was not decided with binding force but merely included in the reasoning of the Judgment.\n",
            "d_52\tThe Court had found this claim inadmissible as a new claim, although this is not explicitly stated in the 1962 Judgment.\n",
            "\n",
            "d_53\tIf the 2013 Court had provided an interpretation on this point, it would have substituted itself for the 1962 Court by adding a question which was not decided at that time in the operative part.\n",
            "d_54\tIn effect, this aspect of Cambodias request amounted to a request for revision.\n",
            "d_55\tThailands behaviour could also be criticized as hardly meeting the standard of good faith required in the implementation of the judgments of the principal judicial organ of the United Nations.\n",
            "\n",
            "d_56\tThe Court thus interpreted the 1962 judgment to give Cambodia sovereignty over the entire promontory, which represents roughly half of the disputed 4.6 square kilometers, bounded by the Annex I map line to the north and extending to the west until the ground begins to rise at the foot of Phnom Trap (paras. 98, 108).\n",
            "d_57\tTaking note of Thai concerns about the difficulty of transposing the Annex I map line onto a modern map, it left the precise location of that line, the frontier at the foot of Phnom Trap, and sovereignty over the remainder of the disputed strip subject to further negotiation (para. 99).\n",
            "d_58\tIt also noted Thailands obligation to respect Cambodias territorial integrity once the dispute is resolved, obviating the need to address the continuing relevance of the Thai withdrawal obligation under the 1962 verdict.\n",
            "\n",
            "d_59\tConcluding Remarks\n",
            "\n",
            "d_60\tThe judgment provided by the court not only reflects the mindset of the judges and litigating parties but also represents a holistic picture of what solution best remedies the issue at hand.\n",
            "d_61\tMore generally, greater clarity in the drafting of judgments could prevent exacerbation of existing disputes in future cases especially when it comes to the International Court of Justice, the court which bears upon itself one of the most onerous tasks of settling disputes between nations engaged in a dispute.\n",
            "d_62\tThe Preah Vihear case demonstrates how things tend to disarray when expressions in the judgment are susceptible to more than one interpretation by the parties causing further complications.\n",
            "d_63\tNonetheless, the Courts judgment on interpretation does not seem to have surprised either of the two litigant States and has been fairly positively accepted thereby bringing end to a dispute that could have been exacerbated.\n",
            "\n"
          ]
        }
      ]
    },
    {
      "cell_type": "markdown",
      "source": [
        "### Rhetorical Role Labelling "
      ],
      "metadata": {
        "id": "hx2OWHDH1re6"
      }
    },
    {
      "cell_type": "code",
      "execution_count": 14,
      "metadata": {
        "colab": {
          "base_uri": "https://localhost:8080/"
        },
        "id": "_zgNOvNaxCs4",
        "outputId": "b68c417d-c24e-48ee-a5b9-667f95198ad0"
      },
      "outputs": [
        {
          "output_type": "stream",
          "name": "stdout",
          "text": [
            "There are 1 GPU(s) available.\n",
            "We will use the GPU: Tesla T4\n"
          ]
        }
      ],
      "source": [
        "import torch\n",
        "\n",
        "# If there's a GPU available...\n",
        "if torch.cuda.is_available():    \n",
        "\n",
        "    # Tell PyTorch to use the GPU.    \n",
        "    device = torch.device(\"cuda\")\n",
        "\n",
        "    print('There are %d GPU(s) available.' % torch.cuda.device_count())\n",
        "\n",
        "    print('We will use the GPU:', torch.cuda.get_device_name(0))\n",
        "\n",
        "# If not...\n",
        "else:\n",
        "    print('No GPU available, using the CPU instead.')\n",
        "    device = torch.device(\"cpu\")"
      ]
    },
    {
      "cell_type": "code",
      "execution_count": 15,
      "metadata": {
        "colab": {
          "base_uri": "https://localhost:8080/"
        },
        "id": "MGV_ecbWzjNa",
        "outputId": "f32bd358-611c-4759-ca0f-0b7eb254f41d"
      },
      "outputs": [
        {
          "output_type": "stream",
          "name": "stdout",
          "text": [
            "Looking in indexes: https://pypi.org/simple, https://us-python.pkg.dev/colab-wheels/public/simple/\n",
            "Collecting transformers\n",
            "  Downloading transformers-4.27.3-py3-none-any.whl (6.8 MB)\n",
            "\u001b[2K     \u001b[90m━━━━━━━━━━━━━━━━━━━━━━━━━━━━━━━━━━━━━━━━\u001b[0m \u001b[32m6.8/6.8 MB\u001b[0m \u001b[31m84.8 MB/s\u001b[0m eta \u001b[36m0:00:00\u001b[0m\n",
            "\u001b[?25hRequirement already satisfied: pyyaml>=5.1 in /usr/local/lib/python3.9/dist-packages (from transformers) (6.0)\n",
            "Collecting huggingface-hub<1.0,>=0.11.0\n",
            "  Downloading huggingface_hub-0.13.3-py3-none-any.whl (199 kB)\n",
            "\u001b[2K     \u001b[90m━━━━━━━━━━━━━━━━━━━━━━━━━━━━━━━━━━━━━━\u001b[0m \u001b[32m199.8/199.8 KB\u001b[0m \u001b[31m29.9 MB/s\u001b[0m eta \u001b[36m0:00:00\u001b[0m\n",
            "\u001b[?25hRequirement already satisfied: packaging>=20.0 in /usr/local/lib/python3.9/dist-packages (from transformers) (23.0)\n",
            "Requirement already satisfied: tqdm>=4.27 in /usr/local/lib/python3.9/dist-packages (from transformers) (4.65.0)\n",
            "Requirement already satisfied: filelock in /usr/local/lib/python3.9/dist-packages (from transformers) (3.10.0)\n",
            "Requirement already satisfied: numpy>=1.17 in /usr/local/lib/python3.9/dist-packages (from transformers) (1.22.4)\n",
            "Requirement already satisfied: requests in /usr/local/lib/python3.9/dist-packages (from transformers) (2.27.1)\n",
            "Collecting tokenizers!=0.11.3,<0.14,>=0.11.1\n",
            "  Downloading tokenizers-0.13.2-cp39-cp39-manylinux_2_17_x86_64.manylinux2014_x86_64.whl (7.6 MB)\n",
            "\u001b[2K     \u001b[90m━━━━━━━━━━━━━━━━━━━━━━━━━━━━━━━━━━━━━━━━\u001b[0m \u001b[32m7.6/7.6 MB\u001b[0m \u001b[31m84.7 MB/s\u001b[0m eta \u001b[36m0:00:00\u001b[0m\n",
            "\u001b[?25hRequirement already satisfied: regex!=2019.12.17 in /usr/local/lib/python3.9/dist-packages (from transformers) (2022.10.31)\n",
            "Requirement already satisfied: typing-extensions>=3.7.4.3 in /usr/local/lib/python3.9/dist-packages (from huggingface-hub<1.0,>=0.11.0->transformers) (4.5.0)\n",
            "Requirement already satisfied: certifi>=2017.4.17 in /usr/local/lib/python3.9/dist-packages (from requests->transformers) (2022.12.7)\n",
            "Requirement already satisfied: idna<4,>=2.5 in /usr/local/lib/python3.9/dist-packages (from requests->transformers) (3.4)\n",
            "Requirement already satisfied: charset-normalizer~=2.0.0 in /usr/local/lib/python3.9/dist-packages (from requests->transformers) (2.0.12)\n",
            "Requirement already satisfied: urllib3<1.27,>=1.21.1 in /usr/local/lib/python3.9/dist-packages (from requests->transformers) (1.26.15)\n",
            "Installing collected packages: tokenizers, huggingface-hub, transformers\n",
            "Successfully installed huggingface-hub-0.13.3 tokenizers-0.13.2 transformers-4.27.3\n"
          ]
        }
      ],
      "source": [
        "pip install transformers"
      ]
    },
    {
      "cell_type": "code",
      "execution_count": 16,
      "metadata": {
        "id": "BXShg9Uu01r9"
      },
      "outputs": [],
      "source": [
        "import pandas as pd\n",
        "import glob\n",
        "import torch"
      ]
    },
    {
      "cell_type": "code",
      "source": [
        "from google.colab import drive\n",
        "drive.mount('/content/gdrive')"
      ],
      "metadata": {
        "colab": {
          "base_uri": "https://localhost:8080/"
        },
        "id": "xyIGlu8hlWqZ",
        "outputId": "f967ffaa-9ac2-48e0-d0d2-42cefab01631"
      },
      "execution_count": 17,
      "outputs": [
        {
          "output_type": "stream",
          "name": "stdout",
          "text": [
            "Mounted at /content/gdrive\n"
          ]
        }
      ]
    },
    {
      "cell_type": "code",
      "execution_count": 18,
      "metadata": {
        "id": "2o5VhVkx1_hF"
      },
      "outputs": [],
      "source": [
        "files = glob.glob(\"/content/gdrive/MyDrive/Datasets/Training_Dataset/*.txt\")"
      ]
    },
    {
      "cell_type": "code",
      "execution_count": 19,
      "metadata": {
        "id": "lDbz8iIq2EdB"
      },
      "outputs": [],
      "source": [
        "data = []\n",
        "for text_file in files:\n",
        "  with open (text_file, \"r\") as myfile:\n",
        "    temp=myfile.readlines()\n",
        "    data.append(temp)\n",
        "del temp\n",
        "del files"
      ]
    },
    {
      "cell_type": "code",
      "execution_count": 20,
      "metadata": {
        "id": "D8ryRR_MPf4_"
      },
      "outputs": [],
      "source": [
        "labeldict = {\"Facts\":0, \"RulingbyLowerCourt\":1, \"Argument\":2, \"Statute\":3, \"Precedent\":4, \"Ratioofthedecision\":5, \"RulingbyPresentCourt\":6}"
      ]
    },
    {
      "cell_type": "code",
      "execution_count": 21,
      "metadata": {
        "id": "tNNflsP42hw0",
        "colab": {
          "base_uri": "https://localhost:8080/"
        },
        "outputId": "72467d8f-f67e-4ea4-f387-b5700ae48f9a"
      },
      "outputs": [
        {
          "output_type": "stream",
          "name": "stderr",
          "text": [
            "<ipython-input-21-668aeb492aa2>:23: FutureWarning: The frame.append method is deprecated and will be removed from pandas in a future version. Use pandas.concat instead.\n",
            "  df = df.append(temp2)\n",
            "<ipython-input-21-668aeb492aa2>:23: FutureWarning: The frame.append method is deprecated and will be removed from pandas in a future version. Use pandas.concat instead.\n",
            "  df = df.append(temp2)\n",
            "<ipython-input-21-668aeb492aa2>:23: FutureWarning: The frame.append method is deprecated and will be removed from pandas in a future version. Use pandas.concat instead.\n",
            "  df = df.append(temp2)\n",
            "<ipython-input-21-668aeb492aa2>:23: FutureWarning: The frame.append method is deprecated and will be removed from pandas in a future version. Use pandas.concat instead.\n",
            "  df = df.append(temp2)\n",
            "<ipython-input-21-668aeb492aa2>:23: FutureWarning: The frame.append method is deprecated and will be removed from pandas in a future version. Use pandas.concat instead.\n",
            "  df = df.append(temp2)\n",
            "<ipython-input-21-668aeb492aa2>:23: FutureWarning: The frame.append method is deprecated and will be removed from pandas in a future version. Use pandas.concat instead.\n",
            "  df = df.append(temp2)\n",
            "<ipython-input-21-668aeb492aa2>:23: FutureWarning: The frame.append method is deprecated and will be removed from pandas in a future version. Use pandas.concat instead.\n",
            "  df = df.append(temp2)\n",
            "<ipython-input-21-668aeb492aa2>:23: FutureWarning: The frame.append method is deprecated and will be removed from pandas in a future version. Use pandas.concat instead.\n",
            "  df = df.append(temp2)\n",
            "<ipython-input-21-668aeb492aa2>:23: FutureWarning: The frame.append method is deprecated and will be removed from pandas in a future version. Use pandas.concat instead.\n",
            "  df = df.append(temp2)\n",
            "<ipython-input-21-668aeb492aa2>:23: FutureWarning: The frame.append method is deprecated and will be removed from pandas in a future version. Use pandas.concat instead.\n",
            "  df = df.append(temp2)\n",
            "<ipython-input-21-668aeb492aa2>:23: FutureWarning: The frame.append method is deprecated and will be removed from pandas in a future version. Use pandas.concat instead.\n",
            "  df = df.append(temp2)\n",
            "<ipython-input-21-668aeb492aa2>:23: FutureWarning: The frame.append method is deprecated and will be removed from pandas in a future version. Use pandas.concat instead.\n",
            "  df = df.append(temp2)\n",
            "<ipython-input-21-668aeb492aa2>:23: FutureWarning: The frame.append method is deprecated and will be removed from pandas in a future version. Use pandas.concat instead.\n",
            "  df = df.append(temp2)\n",
            "<ipython-input-21-668aeb492aa2>:23: FutureWarning: The frame.append method is deprecated and will be removed from pandas in a future version. Use pandas.concat instead.\n",
            "  df = df.append(temp2)\n",
            "<ipython-input-21-668aeb492aa2>:23: FutureWarning: The frame.append method is deprecated and will be removed from pandas in a future version. Use pandas.concat instead.\n",
            "  df = df.append(temp2)\n",
            "<ipython-input-21-668aeb492aa2>:23: FutureWarning: The frame.append method is deprecated and will be removed from pandas in a future version. Use pandas.concat instead.\n",
            "  df = df.append(temp2)\n",
            "<ipython-input-21-668aeb492aa2>:23: FutureWarning: The frame.append method is deprecated and will be removed from pandas in a future version. Use pandas.concat instead.\n",
            "  df = df.append(temp2)\n",
            "<ipython-input-21-668aeb492aa2>:23: FutureWarning: The frame.append method is deprecated and will be removed from pandas in a future version. Use pandas.concat instead.\n",
            "  df = df.append(temp2)\n",
            "<ipython-input-21-668aeb492aa2>:23: FutureWarning: The frame.append method is deprecated and will be removed from pandas in a future version. Use pandas.concat instead.\n",
            "  df = df.append(temp2)\n",
            "<ipython-input-21-668aeb492aa2>:23: FutureWarning: The frame.append method is deprecated and will be removed from pandas in a future version. Use pandas.concat instead.\n",
            "  df = df.append(temp2)\n",
            "<ipython-input-21-668aeb492aa2>:23: FutureWarning: The frame.append method is deprecated and will be removed from pandas in a future version. Use pandas.concat instead.\n",
            "  df = df.append(temp2)\n",
            "<ipython-input-21-668aeb492aa2>:23: FutureWarning: The frame.append method is deprecated and will be removed from pandas in a future version. Use pandas.concat instead.\n",
            "  df = df.append(temp2)\n",
            "<ipython-input-21-668aeb492aa2>:23: FutureWarning: The frame.append method is deprecated and will be removed from pandas in a future version. Use pandas.concat instead.\n",
            "  df = df.append(temp2)\n",
            "<ipython-input-21-668aeb492aa2>:23: FutureWarning: The frame.append method is deprecated and will be removed from pandas in a future version. Use pandas.concat instead.\n",
            "  df = df.append(temp2)\n",
            "<ipython-input-21-668aeb492aa2>:23: FutureWarning: The frame.append method is deprecated and will be removed from pandas in a future version. Use pandas.concat instead.\n",
            "  df = df.append(temp2)\n",
            "<ipython-input-21-668aeb492aa2>:23: FutureWarning: The frame.append method is deprecated and will be removed from pandas in a future version. Use pandas.concat instead.\n",
            "  df = df.append(temp2)\n",
            "<ipython-input-21-668aeb492aa2>:23: FutureWarning: The frame.append method is deprecated and will be removed from pandas in a future version. Use pandas.concat instead.\n",
            "  df = df.append(temp2)\n",
            "<ipython-input-21-668aeb492aa2>:23: FutureWarning: The frame.append method is deprecated and will be removed from pandas in a future version. Use pandas.concat instead.\n",
            "  df = df.append(temp2)\n",
            "<ipython-input-21-668aeb492aa2>:23: FutureWarning: The frame.append method is deprecated and will be removed from pandas in a future version. Use pandas.concat instead.\n",
            "  df = df.append(temp2)\n",
            "<ipython-input-21-668aeb492aa2>:23: FutureWarning: The frame.append method is deprecated and will be removed from pandas in a future version. Use pandas.concat instead.\n",
            "  df = df.append(temp2)\n",
            "<ipython-input-21-668aeb492aa2>:23: FutureWarning: The frame.append method is deprecated and will be removed from pandas in a future version. Use pandas.concat instead.\n",
            "  df = df.append(temp2)\n",
            "<ipython-input-21-668aeb492aa2>:23: FutureWarning: The frame.append method is deprecated and will be removed from pandas in a future version. Use pandas.concat instead.\n",
            "  df = df.append(temp2)\n",
            "<ipython-input-21-668aeb492aa2>:23: FutureWarning: The frame.append method is deprecated and will be removed from pandas in a future version. Use pandas.concat instead.\n",
            "  df = df.append(temp2)\n",
            "<ipython-input-21-668aeb492aa2>:23: FutureWarning: The frame.append method is deprecated and will be removed from pandas in a future version. Use pandas.concat instead.\n",
            "  df = df.append(temp2)\n",
            "<ipython-input-21-668aeb492aa2>:23: FutureWarning: The frame.append method is deprecated and will be removed from pandas in a future version. Use pandas.concat instead.\n",
            "  df = df.append(temp2)\n",
            "<ipython-input-21-668aeb492aa2>:23: FutureWarning: The frame.append method is deprecated and will be removed from pandas in a future version. Use pandas.concat instead.\n",
            "  df = df.append(temp2)\n",
            "<ipython-input-21-668aeb492aa2>:23: FutureWarning: The frame.append method is deprecated and will be removed from pandas in a future version. Use pandas.concat instead.\n",
            "  df = df.append(temp2)\n",
            "<ipython-input-21-668aeb492aa2>:23: FutureWarning: The frame.append method is deprecated and will be removed from pandas in a future version. Use pandas.concat instead.\n",
            "  df = df.append(temp2)\n",
            "<ipython-input-21-668aeb492aa2>:23: FutureWarning: The frame.append method is deprecated and will be removed from pandas in a future version. Use pandas.concat instead.\n",
            "  df = df.append(temp2)\n",
            "<ipython-input-21-668aeb492aa2>:23: FutureWarning: The frame.append method is deprecated and will be removed from pandas in a future version. Use pandas.concat instead.\n",
            "  df = df.append(temp2)\n",
            "<ipython-input-21-668aeb492aa2>:23: FutureWarning: The frame.append method is deprecated and will be removed from pandas in a future version. Use pandas.concat instead.\n",
            "  df = df.append(temp2)\n",
            "<ipython-input-21-668aeb492aa2>:23: FutureWarning: The frame.append method is deprecated and will be removed from pandas in a future version. Use pandas.concat instead.\n",
            "  df = df.append(temp2)\n",
            "<ipython-input-21-668aeb492aa2>:23: FutureWarning: The frame.append method is deprecated and will be removed from pandas in a future version. Use pandas.concat instead.\n",
            "  df = df.append(temp2)\n",
            "<ipython-input-21-668aeb492aa2>:23: FutureWarning: The frame.append method is deprecated and will be removed from pandas in a future version. Use pandas.concat instead.\n",
            "  df = df.append(temp2)\n",
            "<ipython-input-21-668aeb492aa2>:23: FutureWarning: The frame.append method is deprecated and will be removed from pandas in a future version. Use pandas.concat instead.\n",
            "  df = df.append(temp2)\n",
            "<ipython-input-21-668aeb492aa2>:23: FutureWarning: The frame.append method is deprecated and will be removed from pandas in a future version. Use pandas.concat instead.\n",
            "  df = df.append(temp2)\n",
            "<ipython-input-21-668aeb492aa2>:23: FutureWarning: The frame.append method is deprecated and will be removed from pandas in a future version. Use pandas.concat instead.\n",
            "  df = df.append(temp2)\n",
            "<ipython-input-21-668aeb492aa2>:23: FutureWarning: The frame.append method is deprecated and will be removed from pandas in a future version. Use pandas.concat instead.\n",
            "  df = df.append(temp2)\n"
          ]
        }
      ],
      "source": [
        "lines = []\n",
        "df = pd.DataFrame()\n",
        "for text_file in data:\n",
        "  filedata = {'sentence': [] ,'label': []}\n",
        "  for line in text_file:\n",
        "    word_list = line.split()\n",
        "    if word_list[-1] == \"Court\":\n",
        "      label = word_list[-4] + word_list[-3] + word_list[-2] + word_list[-1]\n",
        "      label = labeldict[label]\n",
        "      temp = line.rsplit(' ', 4)[0]\n",
        "    elif word_list[-1] == \"decision\":\n",
        "      label = word_list[-4] + word_list[-3] + word_list[-2] + word_list[-1]\n",
        "      label = labeldict[label]\n",
        "      temp = line.rsplit(' ', 4)[0]    \n",
        "    else:\n",
        "      label = word_list[-1]\n",
        "      label = labeldict[label]\n",
        "      temp = line.rsplit(' ', 1)[0]\n",
        "    \n",
        "    filedata['sentence'].append(temp)\n",
        "    filedata['label'].append(label)\n",
        "  temp2 = pd.DataFrame(filedata)\n",
        "  df = df.append(temp2)\n",
        "del label, temp, temp2, filedata, word_list, data"
      ]
    },
    {
      "cell_type": "code",
      "execution_count": 22,
      "metadata": {
        "colab": {
          "base_uri": "https://localhost:8080/",
          "height": 423
        },
        "id": "H5LYNCnA2rJ9",
        "outputId": "aafba98f-72b1-4557-e566-6ddd7622b493"
      },
      "outputs": [
        {
          "output_type": "execute_result",
          "data": {
            "text/plain": [
              "                                              sentence  label\n",
              "0    This appeal is directed against the judgment a...      5\n",
              "1    The respondent joined service as technical ass...      0\n",
              "2    While he was posted at Surat as Deputy Enginee...      0\n",
              "3    He made representation to the Additional Chief...      0\n",
              "4    His representation was rejected and he was dir...      0\n",
              "..                                                 ...    ...\n",
              "168             The concerned respondents are directed      5\n",
              "169  C.A.Nos.6169-6171 of 2013,C.A.Nos.6172-6174 of...      6\n",
              "170  The appeals (C.A.Nos.7126-7129 of 2003) filed ...      6\n",
              "171                                                 No      6\n",
              "172                                            Appeals      6\n",
              "\n",
              "[9380 rows x 2 columns]"
            ],
            "text/html": [
              "\n",
              "  <div id=\"df-3eb0a324-e6ad-4abf-a81a-8a800bf221c8\">\n",
              "    <div class=\"colab-df-container\">\n",
              "      <div>\n",
              "<style scoped>\n",
              "    .dataframe tbody tr th:only-of-type {\n",
              "        vertical-align: middle;\n",
              "    }\n",
              "\n",
              "    .dataframe tbody tr th {\n",
              "        vertical-align: top;\n",
              "    }\n",
              "\n",
              "    .dataframe thead th {\n",
              "        text-align: right;\n",
              "    }\n",
              "</style>\n",
              "<table border=\"1\" class=\"dataframe\">\n",
              "  <thead>\n",
              "    <tr style=\"text-align: right;\">\n",
              "      <th></th>\n",
              "      <th>sentence</th>\n",
              "      <th>label</th>\n",
              "    </tr>\n",
              "  </thead>\n",
              "  <tbody>\n",
              "    <tr>\n",
              "      <th>0</th>\n",
              "      <td>This appeal is directed against the judgment a...</td>\n",
              "      <td>5</td>\n",
              "    </tr>\n",
              "    <tr>\n",
              "      <th>1</th>\n",
              "      <td>The respondent joined service as technical ass...</td>\n",
              "      <td>0</td>\n",
              "    </tr>\n",
              "    <tr>\n",
              "      <th>2</th>\n",
              "      <td>While he was posted at Surat as Deputy Enginee...</td>\n",
              "      <td>0</td>\n",
              "    </tr>\n",
              "    <tr>\n",
              "      <th>3</th>\n",
              "      <td>He made representation to the Additional Chief...</td>\n",
              "      <td>0</td>\n",
              "    </tr>\n",
              "    <tr>\n",
              "      <th>4</th>\n",
              "      <td>His representation was rejected and he was dir...</td>\n",
              "      <td>0</td>\n",
              "    </tr>\n",
              "    <tr>\n",
              "      <th>...</th>\n",
              "      <td>...</td>\n",
              "      <td>...</td>\n",
              "    </tr>\n",
              "    <tr>\n",
              "      <th>168</th>\n",
              "      <td>The concerned respondents are directed</td>\n",
              "      <td>5</td>\n",
              "    </tr>\n",
              "    <tr>\n",
              "      <th>169</th>\n",
              "      <td>C.A.Nos.6169-6171 of 2013,C.A.Nos.6172-6174 of...</td>\n",
              "      <td>6</td>\n",
              "    </tr>\n",
              "    <tr>\n",
              "      <th>170</th>\n",
              "      <td>The appeals (C.A.Nos.7126-7129 of 2003) filed ...</td>\n",
              "      <td>6</td>\n",
              "    </tr>\n",
              "    <tr>\n",
              "      <th>171</th>\n",
              "      <td>No</td>\n",
              "      <td>6</td>\n",
              "    </tr>\n",
              "    <tr>\n",
              "      <th>172</th>\n",
              "      <td>Appeals</td>\n",
              "      <td>6</td>\n",
              "    </tr>\n",
              "  </tbody>\n",
              "</table>\n",
              "<p>9380 rows × 2 columns</p>\n",
              "</div>\n",
              "      <button class=\"colab-df-convert\" onclick=\"convertToInteractive('df-3eb0a324-e6ad-4abf-a81a-8a800bf221c8')\"\n",
              "              title=\"Convert this dataframe to an interactive table.\"\n",
              "              style=\"display:none;\">\n",
              "        \n",
              "  <svg xmlns=\"http://www.w3.org/2000/svg\" height=\"24px\"viewBox=\"0 0 24 24\"\n",
              "       width=\"24px\">\n",
              "    <path d=\"M0 0h24v24H0V0z\" fill=\"none\"/>\n",
              "    <path d=\"M18.56 5.44l.94 2.06.94-2.06 2.06-.94-2.06-.94-.94-2.06-.94 2.06-2.06.94zm-11 1L8.5 8.5l.94-2.06 2.06-.94-2.06-.94L8.5 2.5l-.94 2.06-2.06.94zm10 10l.94 2.06.94-2.06 2.06-.94-2.06-.94-.94-2.06-.94 2.06-2.06.94z\"/><path d=\"M17.41 7.96l-1.37-1.37c-.4-.4-.92-.59-1.43-.59-.52 0-1.04.2-1.43.59L10.3 9.45l-7.72 7.72c-.78.78-.78 2.05 0 2.83L4 21.41c.39.39.9.59 1.41.59.51 0 1.02-.2 1.41-.59l7.78-7.78 2.81-2.81c.8-.78.8-2.07 0-2.86zM5.41 20L4 18.59l7.72-7.72 1.47 1.35L5.41 20z\"/>\n",
              "  </svg>\n",
              "      </button>\n",
              "      \n",
              "  <style>\n",
              "    .colab-df-container {\n",
              "      display:flex;\n",
              "      flex-wrap:wrap;\n",
              "      gap: 12px;\n",
              "    }\n",
              "\n",
              "    .colab-df-convert {\n",
              "      background-color: #E8F0FE;\n",
              "      border: none;\n",
              "      border-radius: 50%;\n",
              "      cursor: pointer;\n",
              "      display: none;\n",
              "      fill: #1967D2;\n",
              "      height: 32px;\n",
              "      padding: 0 0 0 0;\n",
              "      width: 32px;\n",
              "    }\n",
              "\n",
              "    .colab-df-convert:hover {\n",
              "      background-color: #E2EBFA;\n",
              "      box-shadow: 0px 1px 2px rgba(60, 64, 67, 0.3), 0px 1px 3px 1px rgba(60, 64, 67, 0.15);\n",
              "      fill: #174EA6;\n",
              "    }\n",
              "\n",
              "    [theme=dark] .colab-df-convert {\n",
              "      background-color: #3B4455;\n",
              "      fill: #D2E3FC;\n",
              "    }\n",
              "\n",
              "    [theme=dark] .colab-df-convert:hover {\n",
              "      background-color: #434B5C;\n",
              "      box-shadow: 0px 1px 3px 1px rgba(0, 0, 0, 0.15);\n",
              "      filter: drop-shadow(0px 1px 2px rgba(0, 0, 0, 0.3));\n",
              "      fill: #FFFFFF;\n",
              "    }\n",
              "  </style>\n",
              "\n",
              "      <script>\n",
              "        const buttonEl =\n",
              "          document.querySelector('#df-3eb0a324-e6ad-4abf-a81a-8a800bf221c8 button.colab-df-convert');\n",
              "        buttonEl.style.display =\n",
              "          google.colab.kernel.accessAllowed ? 'block' : 'none';\n",
              "\n",
              "        async function convertToInteractive(key) {\n",
              "          const element = document.querySelector('#df-3eb0a324-e6ad-4abf-a81a-8a800bf221c8');\n",
              "          const dataTable =\n",
              "            await google.colab.kernel.invokeFunction('convertToInteractive',\n",
              "                                                     [key], {});\n",
              "          if (!dataTable) return;\n",
              "\n",
              "          const docLinkHtml = 'Like what you see? Visit the ' +\n",
              "            '<a target=\"_blank\" href=https://colab.research.google.com/notebooks/data_table.ipynb>data table notebook</a>'\n",
              "            + ' to learn more about interactive tables.';\n",
              "          element.innerHTML = '';\n",
              "          dataTable['output_type'] = 'display_data';\n",
              "          await google.colab.output.renderOutput(dataTable, element);\n",
              "          const docLink = document.createElement('div');\n",
              "          docLink.innerHTML = docLinkHtml;\n",
              "          element.appendChild(docLink);\n",
              "        }\n",
              "      </script>\n",
              "    </div>\n",
              "  </div>\n",
              "  "
            ]
          },
          "metadata": {},
          "execution_count": 22
        }
      ],
      "source": [
        "df"
      ]
    },
    {
      "cell_type": "code",
      "execution_count": 23,
      "metadata": {
        "id": "j-V6S5v34XSs"
      },
      "outputs": [],
      "source": [
        "sentences = df.sentence.values\n",
        "labels = df.label.values"
      ]
    },
    {
      "cell_type": "code",
      "execution_count": 24,
      "metadata": {
        "colab": {
          "base_uri": "https://localhost:8080/"
        },
        "id": "bgZQr7B68p7O",
        "outputId": "54d9d331-546c-42c6-d585-bf9679456d99"
      },
      "outputs": [
        {
          "output_type": "execute_result",
          "data": {
            "text/plain": [
              "array([5, 0, 0, ..., 6, 6, 6])"
            ]
          },
          "metadata": {},
          "execution_count": 24
        }
      ],
      "source": [
        "labels"
      ]
    },
    {
      "cell_type": "code",
      "execution_count": 25,
      "metadata": {
        "id": "IKSIxHDbn7Tl"
      },
      "outputs": [],
      "source": [
        "from transformers import RobertaConfig\n",
        "configuration = RobertaConfig()"
      ]
    },
    {
      "cell_type": "code",
      "execution_count": 26,
      "metadata": {
        "colab": {
          "base_uri": "https://localhost:8080/",
          "height": 130,
          "referenced_widgets": [
            "9c270f3515934ac2a9a168fed1a62b47",
            "5ad9cb7c51884bc28ad676937a53d9d3",
            "d4b4dc60601440d9a3b5d5648476837c",
            "ada061afa40c4772a3aff53bbd1de7c2",
            "c63c3fcdb2154cf3952dbd5889b84d3f",
            "febd992764d2438a9862e964b9add0f6",
            "64ca5335a5f545f595ceb4bc69b06df0",
            "e07cfb437af74957bc9d9bfbe57b773c",
            "8c5e5105070a4c79be056c4d1db18e3d",
            "10ac1d56abca4dacaefd1a4529c419d2",
            "445ee727d77c40ca977e888f54bce141",
            "1e180d0410074c14981254729eeda327",
            "eedce715c01c48fd9b9e226b7b19ff88",
            "e6306783cfde45399e005ffd761e8c30",
            "8beb1b5652e241c889db3978c7d14d41",
            "32f7d8f4f5df40379b812f7a6b060197",
            "d92ed6e50c434de1b1fdcf94886144bf",
            "08a52378535b4d6f90fa7f42c28070cf",
            "8f0af7c6b5924ae892228f1dc9b5f7d9",
            "e42e5d4b96104e7793ef95b5386f38fc",
            "e71392c6f84845b48a26fc6bd560771d",
            "0c5c3d5a6e4c4f249ec0deb0509ad0e3",
            "6856a6b4eed14bffa1aae55c85368ee3",
            "a5b7037e9b674ff99bd548d5a7d192fd",
            "2a99dff806ee498d9f39269dccef2e21",
            "d057b48588484fd3b366334d7de0684e",
            "d46497528dc446e98ebb8716ca32a56a",
            "d796a4462efe4810b109e110bfc4d750",
            "7ab63a22d11146619d773a31711181d8",
            "3ddf0977d3db49939a062f03b1d8cfc6",
            "9e1d856882c742649462585c6e8f57eb",
            "b1be52402e334c3e8265d502a8d4a0fc",
            "8318e9b2e50f40e4af22594f4c7815aa"
          ]
        },
        "id": "oDZiA3SD4hSp",
        "outputId": "420cec09-4b90-46f4-e68a-c2159a377806"
      },
      "outputs": [
        {
          "output_type": "stream",
          "name": "stdout",
          "text": [
            "Loading RoBERTa tokenizer...\n"
          ]
        },
        {
          "output_type": "display_data",
          "data": {
            "text/plain": [
              "Downloading (…)olve/main/vocab.json:   0%|          | 0.00/899k [00:00<?, ?B/s]"
            ],
            "application/vnd.jupyter.widget-view+json": {
              "version_major": 2,
              "version_minor": 0,
              "model_id": "9c270f3515934ac2a9a168fed1a62b47"
            }
          },
          "metadata": {}
        },
        {
          "output_type": "display_data",
          "data": {
            "text/plain": [
              "Downloading (…)olve/main/merges.txt:   0%|          | 0.00/456k [00:00<?, ?B/s]"
            ],
            "application/vnd.jupyter.widget-view+json": {
              "version_major": 2,
              "version_minor": 0,
              "model_id": "1e180d0410074c14981254729eeda327"
            }
          },
          "metadata": {}
        },
        {
          "output_type": "display_data",
          "data": {
            "text/plain": [
              "Downloading (…)lve/main/config.json:   0%|          | 0.00/481 [00:00<?, ?B/s]"
            ],
            "application/vnd.jupyter.widget-view+json": {
              "version_major": 2,
              "version_minor": 0,
              "model_id": "6856a6b4eed14bffa1aae55c85368ee3"
            }
          },
          "metadata": {}
        }
      ],
      "source": [
        "from transformers import RobertaTokenizer\n",
        "\n",
        "# Load the RoBERTa tokenizer.\n",
        "print('Loading RoBERTa tokenizer...')\n",
        "tokenizer = RobertaTokenizer.from_pretrained('roberta-base', do_lower_case=True)"
      ]
    },
    {
      "cell_type": "code",
      "execution_count": 27,
      "metadata": {
        "colab": {
          "base_uri": "https://localhost:8080/"
        },
        "id": "ZnvAiGKI4sLh",
        "outputId": "652a0cdb-db68-47da-94f7-5680d4acfb96"
      },
      "outputs": [
        {
          "output_type": "stream",
          "name": "stdout",
          "text": [
            " Original:  This appeal is directed against the judgment and order of the High Court of Gujarat dated 28.2.1986 allowing the respondent's writ petition and quashing order of discharge from service and directing his reinstatement in\n",
            "Tokenized:  ['This', 'Ġappeal', 'Ġis', 'Ġdirected', 'Ġagainst', 'Ġthe', 'Ġjudgment', 'Ġand', 'Ġorder', 'Ġof', 'Ġthe', 'ĠHigh', 'ĠCourt', 'Ġof', 'ĠGujarat', 'Ġdated', 'Ġ28', '.', '2', '.', '1986', 'Ġallowing', 'Ġthe', 'Ġrespondent', \"'s\", 'Ġwrit', 'Ġpetition', 'Ġand', 'Ġqu', 'ashing', 'Ġorder', 'Ġof', 'Ġdischarge', 'Ġfrom', 'Ġservice', 'Ġand', 'Ġdirecting', 'Ġhis', 'Ġrein', 'statement', 'Ġin']\n",
            "Token IDs:  [713, 2868, 16, 3660, 136, 5, 7579, 8, 645, 9, 5, 755, 837, 9, 13401, 7000, 971, 4, 176, 4, 43479, 2455, 5, 33802, 18, 25859, 5265, 8, 2677, 8141, 645, 9, 15462, 31, 544, 8, 13062, 39, 9493, 29963, 11]\n"
          ]
        }
      ],
      "source": [
        "# Print the original sentence.\n",
        "print(' Original: ', sentences[0])\n",
        "\n",
        "# Print the sentence split into tokens.\n",
        "print('Tokenized: ', tokenizer.tokenize(sentences[0]))\n",
        "\n",
        "# Print the sentence mapped to token ids.\n",
        "print('Token IDs: ', tokenizer.convert_tokens_to_ids(tokenizer.tokenize(sentences[0])))"
      ]
    },
    {
      "cell_type": "code",
      "execution_count": 28,
      "metadata": {
        "colab": {
          "base_uri": "https://localhost:8080/"
        },
        "id": "UnYlPu5l4_qs",
        "outputId": "ea437b43-d1e3-4733-e104-6f335a9f8abc"
      },
      "outputs": [
        {
          "output_type": "stream",
          "name": "stdout",
          "text": [
            "Max sentence length:  381\n"
          ]
        }
      ],
      "source": [
        "max_len = 0\n",
        "\n",
        "# For every sentence...\n",
        "for sent in sentences:\n",
        "\n",
        "    # Tokenize the text and add `[CLS]` and `[SEP]` tokens.\n",
        "    input_ids = tokenizer.encode(sent, add_special_tokens=True)\n",
        "\n",
        "    # Update the maximum sentence length.\n",
        "    max_len = max(max_len, len(input_ids))\n",
        "\n",
        "print('Max sentence length: ', max_len)"
      ]
    },
    {
      "cell_type": "code",
      "execution_count": 29,
      "metadata": {
        "colab": {
          "base_uri": "https://localhost:8080/"
        },
        "id": "Y_0ZQguh5cHl",
        "outputId": "cecf87c2-7649-4fa3-b8fe-f3dea3824d5b"
      },
      "outputs": [
        {
          "output_type": "stream",
          "name": "stderr",
          "text": [
            "/usr/local/lib/python3.9/dist-packages/transformers/tokenization_utils_base.py:2346: FutureWarning: The `pad_to_max_length` argument is deprecated and will be removed in a future version, use `padding=True` or `padding='longest'` to pad to the longest sequence in the batch, or use `padding='max_length'` to pad to a max length. In this case, you can give a specific length with `max_length` (e.g. `max_length=45`) or leave max_length to None to pad to the maximal input size of the model (e.g. 512 for Bert).\n",
            "  warnings.warn(\n"
          ]
        },
        {
          "output_type": "stream",
          "name": "stdout",
          "text": [
            "Original:  This appeal is directed against the judgment and order of the High Court of Gujarat dated 28.2.1986 allowing the respondent's writ petition and quashing order of discharge from service and directing his reinstatement in\n",
            "Token IDs: tensor([    0,   713,  2868,    16,  3660,   136,     5,  7579,     8,   645,\n",
            "            9,     5,   755,   837,     9, 13401,  7000,   971,     4,   176,\n",
            "            4, 43479,  2455,     5, 33802,    18, 25859,  5265,     8,  2677,\n",
            "         8141,   645,     9, 15462,    31,   544,     8, 13062,    39,  9493,\n",
            "        29963,    11,     2,     1,     1,     1,     1,     1,     1,     1,\n",
            "            1,     1,     1,     1,     1,     1,     1,     1,     1,     1,\n",
            "            1,     1,     1,     1,     1,     1,     1,     1,     1,     1,\n",
            "            1,     1,     1,     1,     1,     1,     1,     1,     1,     1,\n",
            "            1,     1,     1,     1,     1,     1,     1,     1,     1,     1,\n",
            "            1,     1,     1,     1,     1,     1,     1,     1,     1,     1,\n",
            "            1,     1,     1,     1,     1,     1,     1,     1,     1,     1,\n",
            "            1,     1,     1,     1,     1,     1,     1,     1,     1,     1,\n",
            "            1,     1,     1,     1,     1,     1,     1,     1,     1,     1,\n",
            "            1,     1,     1,     1,     1,     1,     1,     1,     1,     1,\n",
            "            1,     1,     1,     1,     1,     1,     1,     1,     1,     1,\n",
            "            1,     1,     1,     1,     1,     1,     1,     1,     1,     1,\n",
            "            1,     1,     1,     1,     1,     1,     1,     1,     1,     1,\n",
            "            1,     1,     1,     1,     1,     1,     1,     1,     1,     1,\n",
            "            1,     1,     1,     1,     1,     1,     1,     1,     1,     1,\n",
            "            1,     1,     1,     1,     1,     1,     1,     1,     1,     1,\n",
            "            1,     1,     1,     1,     1,     1,     1,     1,     1,     1,\n",
            "            1,     1,     1,     1,     1,     1,     1,     1,     1,     1,\n",
            "            1,     1,     1,     1,     1,     1,     1,     1,     1,     1,\n",
            "            1,     1,     1,     1,     1,     1,     1,     1,     1,     1,\n",
            "            1,     1,     1,     1,     1,     1,     1,     1,     1,     1,\n",
            "            1,     1,     1,     1,     1,     1,     1,     1,     1,     1,\n",
            "            1,     1,     1,     1,     1,     1,     1,     1,     1,     1,\n",
            "            1,     1,     1,     1,     1,     1,     1,     1,     1,     1,\n",
            "            1,     1,     1,     1,     1,     1,     1,     1,     1,     1,\n",
            "            1,     1,     1,     1,     1,     1,     1,     1,     1,     1,\n",
            "            1,     1,     1,     1,     1,     1,     1,     1,     1,     1,\n",
            "            1,     1,     1,     1,     1,     1,     1,     1,     1,     1,\n",
            "            1,     1,     1,     1,     1,     1,     1,     1,     1,     1,\n",
            "            1,     1,     1,     1,     1,     1,     1,     1,     1,     1,\n",
            "            1,     1,     1,     1,     1,     1,     1,     1,     1,     1,\n",
            "            1,     1,     1,     1,     1,     1,     1,     1,     1,     1,\n",
            "            1,     1,     1,     1,     1,     1,     1,     1,     1,     1,\n",
            "            1,     1,     1,     1,     1,     1,     1,     1,     1,     1,\n",
            "            1,     1,     1,     1,     1,     1,     1,     1,     1,     1,\n",
            "            1,     1,     1,     1,     1,     1,     1,     1,     1,     1])\n"
          ]
        }
      ],
      "source": [
        "# Tokenize all of the sentences and map the tokens to thier word IDs.\n",
        "input_ids = []\n",
        "attention_masks = []\n",
        "\n",
        "# For every sentence...\n",
        "for sent in sentences:\n",
        "    encoded_dict = tokenizer.encode_plus(\n",
        "                        sent,                      # Sentence to encode.\n",
        "                        add_special_tokens = True, # Add '[CLS]' and '[SEP]'\n",
        "                        max_length = 400,           # Pad & truncate all sentences.\n",
        "                        pad_to_max_length = True,\n",
        "                        truncation = True,\n",
        "                        return_attention_mask = True,   # Construct attn. masks.\n",
        "                        return_tensors = 'pt',     # Return pytorch tensors.\n",
        "                   )\n",
        "    \n",
        "    # Add the encoded sentence to the list.    \n",
        "    input_ids.append(encoded_dict['input_ids'])\n",
        "    \n",
        "    # And its attention mask (simply differentiates padding from non-padding).\n",
        "    attention_masks.append(encoded_dict['attention_mask'])\n",
        "\n",
        "# Convert the lists into tensors.\n",
        "input_ids = torch.cat(input_ids, dim=0)\n",
        "attention_masks = torch.cat(attention_masks, dim=0)\n",
        "labels = torch.tensor(labels)\n",
        "\n",
        "# Print sentence 0, now as a list of IDs.\n",
        "print('Original: ', sentences[0])\n",
        "print('Token IDs:', input_ids[0])"
      ]
    },
    {
      "cell_type": "code",
      "execution_count": 30,
      "metadata": {
        "colab": {
          "base_uri": "https://localhost:8080/"
        },
        "id": "1oyswZig5mEV",
        "outputId": "976bcdab-774d-4389-a8d3-d75ba695485f"
      },
      "outputs": [
        {
          "output_type": "stream",
          "name": "stdout",
          "text": [
            "9,380 training samples\n",
            "    0 validation samples\n"
          ]
        }
      ],
      "source": [
        "from torch.utils.data import TensorDataset, random_split\n",
        "\n",
        "# Combine the training inputs into a TensorDataset.\n",
        "dataset = TensorDataset(input_ids, attention_masks, labels)\n",
        "\n",
        "# Calculate the number of samples to include in each set.\n",
        "train_size = int(1 * len(dataset))\n",
        "val_size = len(dataset) - train_size\n",
        "\n",
        "# Divide the dataset by randomly selecting samples.\n",
        "train_dataset, val_dataset = random_split(dataset, [train_size, val_size])\n",
        "\n",
        "print('{:>5,} training samples'.format(train_size))\n",
        "print('{:>5,} validation samples'.format(val_size))"
      ]
    },
    {
      "cell_type": "code",
      "execution_count": 31,
      "metadata": {
        "id": "UEC5s7q5RIQZ"
      },
      "outputs": [],
      "source": [
        "from torch.utils.data import DataLoader, RandomSampler, SequentialSampler\n",
        "\n",
        "# The DataLoader needs to know our batch size for training, so we specify it \n",
        "# here. For fine-tuning RoBERTA on a specific task, the authors recommend a batch \n",
        "# size of 16 or 32.\n",
        "batch_size = 16\n",
        "\n",
        "# Create the DataLoaders for our training and validation sets.\n",
        "# We'll take training samples in random order. \n",
        "train_dataloader = DataLoader(\n",
        "            train_dataset,  # The training samples.\n",
        "            sampler = RandomSampler(train_dataset), # Select batches randomly\n",
        "            batch_size = batch_size # Trains with this batch size.\n",
        "        )\n",
        "\n",
        "# For validation the order doesn't matter, so we'll just read them sequentially.\n",
        "validation_dataloader = DataLoader(\n",
        "            val_dataset, # The validation samples.\n",
        "            sampler = SequentialSampler(val_dataset), # Pull out batches sequentially.\n",
        "            batch_size = batch_size # Evaluate with this batch size.\n",
        "        )"
      ]
    },
    {
      "cell_type": "code",
      "execution_count": 32,
      "metadata": {
        "colab": {
          "base_uri": "https://localhost:8080/",
          "height": 1000,
          "referenced_widgets": [
            "18d635227f6746919ba699bb1dd6f7e4",
            "0619597ec00c4186857c7bc041116b7d",
            "0ff8b0e82f6a4221a43f83307d5aac6f",
            "df57ae4e90234e5aa3d09cbfc1b060a2",
            "45c041528fda477d95ec9f51fdea73c5",
            "7c5fadcd04da4d7eb28eb29e7460a1e9",
            "024d18e614a9443591289d17a9d3a0a2",
            "2e2ec7c58ed042f69a2d05850dfbb737",
            "79e364ffbcb043879cb53c8178ec6e43",
            "d125121403384b64b4b307cbbb23815a",
            "d53d75f250ef461c8fa65b575d3ae554"
          ]
        },
        "id": "4O2Qp0K_ROMi",
        "outputId": "6bc9f951-505b-4fa8-cbcb-ce5924178447"
      },
      "outputs": [
        {
          "output_type": "display_data",
          "data": {
            "text/plain": [
              "Downloading pytorch_model.bin:   0%|          | 0.00/501M [00:00<?, ?B/s]"
            ],
            "application/vnd.jupyter.widget-view+json": {
              "version_major": 2,
              "version_minor": 0,
              "model_id": "18d635227f6746919ba699bb1dd6f7e4"
            }
          },
          "metadata": {}
        },
        {
          "output_type": "stream",
          "name": "stderr",
          "text": [
            "Some weights of the model checkpoint at roberta-base were not used when initializing RobertaForSequenceClassification: ['lm_head.dense.bias', 'lm_head.dense.weight', 'lm_head.decoder.weight', 'lm_head.layer_norm.bias', 'lm_head.layer_norm.weight', 'lm_head.bias', 'roberta.pooler.dense.bias', 'roberta.pooler.dense.weight']\n",
            "- This IS expected if you are initializing RobertaForSequenceClassification from the checkpoint of a model trained on another task or with another architecture (e.g. initializing a BertForSequenceClassification model from a BertForPreTraining model).\n",
            "- This IS NOT expected if you are initializing RobertaForSequenceClassification from the checkpoint of a model that you expect to be exactly identical (initializing a BertForSequenceClassification model from a BertForSequenceClassification model).\n",
            "Some weights of RobertaForSequenceClassification were not initialized from the model checkpoint at roberta-base and are newly initialized: ['classifier.dense.bias', 'classifier.out_proj.bias', 'classifier.out_proj.weight', 'classifier.dense.weight']\n",
            "You should probably TRAIN this model on a down-stream task to be able to use it for predictions and inference.\n"
          ]
        },
        {
          "output_type": "execute_result",
          "data": {
            "text/plain": [
              "RobertaForSequenceClassification(\n",
              "  (roberta): RobertaModel(\n",
              "    (embeddings): RobertaEmbeddings(\n",
              "      (word_embeddings): Embedding(50265, 768, padding_idx=1)\n",
              "      (position_embeddings): Embedding(514, 768, padding_idx=1)\n",
              "      (token_type_embeddings): Embedding(1, 768)\n",
              "      (LayerNorm): LayerNorm((768,), eps=1e-05, elementwise_affine=True)\n",
              "      (dropout): Dropout(p=0.1, inplace=False)\n",
              "    )\n",
              "    (encoder): RobertaEncoder(\n",
              "      (layer): ModuleList(\n",
              "        (0): RobertaLayer(\n",
              "          (attention): RobertaAttention(\n",
              "            (self): RobertaSelfAttention(\n",
              "              (query): Linear(in_features=768, out_features=768, bias=True)\n",
              "              (key): Linear(in_features=768, out_features=768, bias=True)\n",
              "              (value): Linear(in_features=768, out_features=768, bias=True)\n",
              "              (dropout): Dropout(p=0.1, inplace=False)\n",
              "            )\n",
              "            (output): RobertaSelfOutput(\n",
              "              (dense): Linear(in_features=768, out_features=768, bias=True)\n",
              "              (LayerNorm): LayerNorm((768,), eps=1e-05, elementwise_affine=True)\n",
              "              (dropout): Dropout(p=0.1, inplace=False)\n",
              "            )\n",
              "          )\n",
              "          (intermediate): RobertaIntermediate(\n",
              "            (dense): Linear(in_features=768, out_features=3072, bias=True)\n",
              "            (intermediate_act_fn): GELUActivation()\n",
              "          )\n",
              "          (output): RobertaOutput(\n",
              "            (dense): Linear(in_features=3072, out_features=768, bias=True)\n",
              "            (LayerNorm): LayerNorm((768,), eps=1e-05, elementwise_affine=True)\n",
              "            (dropout): Dropout(p=0.1, inplace=False)\n",
              "          )\n",
              "        )\n",
              "        (1): RobertaLayer(\n",
              "          (attention): RobertaAttention(\n",
              "            (self): RobertaSelfAttention(\n",
              "              (query): Linear(in_features=768, out_features=768, bias=True)\n",
              "              (key): Linear(in_features=768, out_features=768, bias=True)\n",
              "              (value): Linear(in_features=768, out_features=768, bias=True)\n",
              "              (dropout): Dropout(p=0.1, inplace=False)\n",
              "            )\n",
              "            (output): RobertaSelfOutput(\n",
              "              (dense): Linear(in_features=768, out_features=768, bias=True)\n",
              "              (LayerNorm): LayerNorm((768,), eps=1e-05, elementwise_affine=True)\n",
              "              (dropout): Dropout(p=0.1, inplace=False)\n",
              "            )\n",
              "          )\n",
              "          (intermediate): RobertaIntermediate(\n",
              "            (dense): Linear(in_features=768, out_features=3072, bias=True)\n",
              "            (intermediate_act_fn): GELUActivation()\n",
              "          )\n",
              "          (output): RobertaOutput(\n",
              "            (dense): Linear(in_features=3072, out_features=768, bias=True)\n",
              "            (LayerNorm): LayerNorm((768,), eps=1e-05, elementwise_affine=True)\n",
              "            (dropout): Dropout(p=0.1, inplace=False)\n",
              "          )\n",
              "        )\n",
              "        (2): RobertaLayer(\n",
              "          (attention): RobertaAttention(\n",
              "            (self): RobertaSelfAttention(\n",
              "              (query): Linear(in_features=768, out_features=768, bias=True)\n",
              "              (key): Linear(in_features=768, out_features=768, bias=True)\n",
              "              (value): Linear(in_features=768, out_features=768, bias=True)\n",
              "              (dropout): Dropout(p=0.1, inplace=False)\n",
              "            )\n",
              "            (output): RobertaSelfOutput(\n",
              "              (dense): Linear(in_features=768, out_features=768, bias=True)\n",
              "              (LayerNorm): LayerNorm((768,), eps=1e-05, elementwise_affine=True)\n",
              "              (dropout): Dropout(p=0.1, inplace=False)\n",
              "            )\n",
              "          )\n",
              "          (intermediate): RobertaIntermediate(\n",
              "            (dense): Linear(in_features=768, out_features=3072, bias=True)\n",
              "            (intermediate_act_fn): GELUActivation()\n",
              "          )\n",
              "          (output): RobertaOutput(\n",
              "            (dense): Linear(in_features=3072, out_features=768, bias=True)\n",
              "            (LayerNorm): LayerNorm((768,), eps=1e-05, elementwise_affine=True)\n",
              "            (dropout): Dropout(p=0.1, inplace=False)\n",
              "          )\n",
              "        )\n",
              "        (3): RobertaLayer(\n",
              "          (attention): RobertaAttention(\n",
              "            (self): RobertaSelfAttention(\n",
              "              (query): Linear(in_features=768, out_features=768, bias=True)\n",
              "              (key): Linear(in_features=768, out_features=768, bias=True)\n",
              "              (value): Linear(in_features=768, out_features=768, bias=True)\n",
              "              (dropout): Dropout(p=0.1, inplace=False)\n",
              "            )\n",
              "            (output): RobertaSelfOutput(\n",
              "              (dense): Linear(in_features=768, out_features=768, bias=True)\n",
              "              (LayerNorm): LayerNorm((768,), eps=1e-05, elementwise_affine=True)\n",
              "              (dropout): Dropout(p=0.1, inplace=False)\n",
              "            )\n",
              "          )\n",
              "          (intermediate): RobertaIntermediate(\n",
              "            (dense): Linear(in_features=768, out_features=3072, bias=True)\n",
              "            (intermediate_act_fn): GELUActivation()\n",
              "          )\n",
              "          (output): RobertaOutput(\n",
              "            (dense): Linear(in_features=3072, out_features=768, bias=True)\n",
              "            (LayerNorm): LayerNorm((768,), eps=1e-05, elementwise_affine=True)\n",
              "            (dropout): Dropout(p=0.1, inplace=False)\n",
              "          )\n",
              "        )\n",
              "        (4): RobertaLayer(\n",
              "          (attention): RobertaAttention(\n",
              "            (self): RobertaSelfAttention(\n",
              "              (query): Linear(in_features=768, out_features=768, bias=True)\n",
              "              (key): Linear(in_features=768, out_features=768, bias=True)\n",
              "              (value): Linear(in_features=768, out_features=768, bias=True)\n",
              "              (dropout): Dropout(p=0.1, inplace=False)\n",
              "            )\n",
              "            (output): RobertaSelfOutput(\n",
              "              (dense): Linear(in_features=768, out_features=768, bias=True)\n",
              "              (LayerNorm): LayerNorm((768,), eps=1e-05, elementwise_affine=True)\n",
              "              (dropout): Dropout(p=0.1, inplace=False)\n",
              "            )\n",
              "          )\n",
              "          (intermediate): RobertaIntermediate(\n",
              "            (dense): Linear(in_features=768, out_features=3072, bias=True)\n",
              "            (intermediate_act_fn): GELUActivation()\n",
              "          )\n",
              "          (output): RobertaOutput(\n",
              "            (dense): Linear(in_features=3072, out_features=768, bias=True)\n",
              "            (LayerNorm): LayerNorm((768,), eps=1e-05, elementwise_affine=True)\n",
              "            (dropout): Dropout(p=0.1, inplace=False)\n",
              "          )\n",
              "        )\n",
              "        (5): RobertaLayer(\n",
              "          (attention): RobertaAttention(\n",
              "            (self): RobertaSelfAttention(\n",
              "              (query): Linear(in_features=768, out_features=768, bias=True)\n",
              "              (key): Linear(in_features=768, out_features=768, bias=True)\n",
              "              (value): Linear(in_features=768, out_features=768, bias=True)\n",
              "              (dropout): Dropout(p=0.1, inplace=False)\n",
              "            )\n",
              "            (output): RobertaSelfOutput(\n",
              "              (dense): Linear(in_features=768, out_features=768, bias=True)\n",
              "              (LayerNorm): LayerNorm((768,), eps=1e-05, elementwise_affine=True)\n",
              "              (dropout): Dropout(p=0.1, inplace=False)\n",
              "            )\n",
              "          )\n",
              "          (intermediate): RobertaIntermediate(\n",
              "            (dense): Linear(in_features=768, out_features=3072, bias=True)\n",
              "            (intermediate_act_fn): GELUActivation()\n",
              "          )\n",
              "          (output): RobertaOutput(\n",
              "            (dense): Linear(in_features=3072, out_features=768, bias=True)\n",
              "            (LayerNorm): LayerNorm((768,), eps=1e-05, elementwise_affine=True)\n",
              "            (dropout): Dropout(p=0.1, inplace=False)\n",
              "          )\n",
              "        )\n",
              "        (6): RobertaLayer(\n",
              "          (attention): RobertaAttention(\n",
              "            (self): RobertaSelfAttention(\n",
              "              (query): Linear(in_features=768, out_features=768, bias=True)\n",
              "              (key): Linear(in_features=768, out_features=768, bias=True)\n",
              "              (value): Linear(in_features=768, out_features=768, bias=True)\n",
              "              (dropout): Dropout(p=0.1, inplace=False)\n",
              "            )\n",
              "            (output): RobertaSelfOutput(\n",
              "              (dense): Linear(in_features=768, out_features=768, bias=True)\n",
              "              (LayerNorm): LayerNorm((768,), eps=1e-05, elementwise_affine=True)\n",
              "              (dropout): Dropout(p=0.1, inplace=False)\n",
              "            )\n",
              "          )\n",
              "          (intermediate): RobertaIntermediate(\n",
              "            (dense): Linear(in_features=768, out_features=3072, bias=True)\n",
              "            (intermediate_act_fn): GELUActivation()\n",
              "          )\n",
              "          (output): RobertaOutput(\n",
              "            (dense): Linear(in_features=3072, out_features=768, bias=True)\n",
              "            (LayerNorm): LayerNorm((768,), eps=1e-05, elementwise_affine=True)\n",
              "            (dropout): Dropout(p=0.1, inplace=False)\n",
              "          )\n",
              "        )\n",
              "        (7): RobertaLayer(\n",
              "          (attention): RobertaAttention(\n",
              "            (self): RobertaSelfAttention(\n",
              "              (query): Linear(in_features=768, out_features=768, bias=True)\n",
              "              (key): Linear(in_features=768, out_features=768, bias=True)\n",
              "              (value): Linear(in_features=768, out_features=768, bias=True)\n",
              "              (dropout): Dropout(p=0.1, inplace=False)\n",
              "            )\n",
              "            (output): RobertaSelfOutput(\n",
              "              (dense): Linear(in_features=768, out_features=768, bias=True)\n",
              "              (LayerNorm): LayerNorm((768,), eps=1e-05, elementwise_affine=True)\n",
              "              (dropout): Dropout(p=0.1, inplace=False)\n",
              "            )\n",
              "          )\n",
              "          (intermediate): RobertaIntermediate(\n",
              "            (dense): Linear(in_features=768, out_features=3072, bias=True)\n",
              "            (intermediate_act_fn): GELUActivation()\n",
              "          )\n",
              "          (output): RobertaOutput(\n",
              "            (dense): Linear(in_features=3072, out_features=768, bias=True)\n",
              "            (LayerNorm): LayerNorm((768,), eps=1e-05, elementwise_affine=True)\n",
              "            (dropout): Dropout(p=0.1, inplace=False)\n",
              "          )\n",
              "        )\n",
              "        (8): RobertaLayer(\n",
              "          (attention): RobertaAttention(\n",
              "            (self): RobertaSelfAttention(\n",
              "              (query): Linear(in_features=768, out_features=768, bias=True)\n",
              "              (key): Linear(in_features=768, out_features=768, bias=True)\n",
              "              (value): Linear(in_features=768, out_features=768, bias=True)\n",
              "              (dropout): Dropout(p=0.1, inplace=False)\n",
              "            )\n",
              "            (output): RobertaSelfOutput(\n",
              "              (dense): Linear(in_features=768, out_features=768, bias=True)\n",
              "              (LayerNorm): LayerNorm((768,), eps=1e-05, elementwise_affine=True)\n",
              "              (dropout): Dropout(p=0.1, inplace=False)\n",
              "            )\n",
              "          )\n",
              "          (intermediate): RobertaIntermediate(\n",
              "            (dense): Linear(in_features=768, out_features=3072, bias=True)\n",
              "            (intermediate_act_fn): GELUActivation()\n",
              "          )\n",
              "          (output): RobertaOutput(\n",
              "            (dense): Linear(in_features=3072, out_features=768, bias=True)\n",
              "            (LayerNorm): LayerNorm((768,), eps=1e-05, elementwise_affine=True)\n",
              "            (dropout): Dropout(p=0.1, inplace=False)\n",
              "          )\n",
              "        )\n",
              "        (9): RobertaLayer(\n",
              "          (attention): RobertaAttention(\n",
              "            (self): RobertaSelfAttention(\n",
              "              (query): Linear(in_features=768, out_features=768, bias=True)\n",
              "              (key): Linear(in_features=768, out_features=768, bias=True)\n",
              "              (value): Linear(in_features=768, out_features=768, bias=True)\n",
              "              (dropout): Dropout(p=0.1, inplace=False)\n",
              "            )\n",
              "            (output): RobertaSelfOutput(\n",
              "              (dense): Linear(in_features=768, out_features=768, bias=True)\n",
              "              (LayerNorm): LayerNorm((768,), eps=1e-05, elementwise_affine=True)\n",
              "              (dropout): Dropout(p=0.1, inplace=False)\n",
              "            )\n",
              "          )\n",
              "          (intermediate): RobertaIntermediate(\n",
              "            (dense): Linear(in_features=768, out_features=3072, bias=True)\n",
              "            (intermediate_act_fn): GELUActivation()\n",
              "          )\n",
              "          (output): RobertaOutput(\n",
              "            (dense): Linear(in_features=3072, out_features=768, bias=True)\n",
              "            (LayerNorm): LayerNorm((768,), eps=1e-05, elementwise_affine=True)\n",
              "            (dropout): Dropout(p=0.1, inplace=False)\n",
              "          )\n",
              "        )\n",
              "        (10): RobertaLayer(\n",
              "          (attention): RobertaAttention(\n",
              "            (self): RobertaSelfAttention(\n",
              "              (query): Linear(in_features=768, out_features=768, bias=True)\n",
              "              (key): Linear(in_features=768, out_features=768, bias=True)\n",
              "              (value): Linear(in_features=768, out_features=768, bias=True)\n",
              "              (dropout): Dropout(p=0.1, inplace=False)\n",
              "            )\n",
              "            (output): RobertaSelfOutput(\n",
              "              (dense): Linear(in_features=768, out_features=768, bias=True)\n",
              "              (LayerNorm): LayerNorm((768,), eps=1e-05, elementwise_affine=True)\n",
              "              (dropout): Dropout(p=0.1, inplace=False)\n",
              "            )\n",
              "          )\n",
              "          (intermediate): RobertaIntermediate(\n",
              "            (dense): Linear(in_features=768, out_features=3072, bias=True)\n",
              "            (intermediate_act_fn): GELUActivation()\n",
              "          )\n",
              "          (output): RobertaOutput(\n",
              "            (dense): Linear(in_features=3072, out_features=768, bias=True)\n",
              "            (LayerNorm): LayerNorm((768,), eps=1e-05, elementwise_affine=True)\n",
              "            (dropout): Dropout(p=0.1, inplace=False)\n",
              "          )\n",
              "        )\n",
              "        (11): RobertaLayer(\n",
              "          (attention): RobertaAttention(\n",
              "            (self): RobertaSelfAttention(\n",
              "              (query): Linear(in_features=768, out_features=768, bias=True)\n",
              "              (key): Linear(in_features=768, out_features=768, bias=True)\n",
              "              (value): Linear(in_features=768, out_features=768, bias=True)\n",
              "              (dropout): Dropout(p=0.1, inplace=False)\n",
              "            )\n",
              "            (output): RobertaSelfOutput(\n",
              "              (dense): Linear(in_features=768, out_features=768, bias=True)\n",
              "              (LayerNorm): LayerNorm((768,), eps=1e-05, elementwise_affine=True)\n",
              "              (dropout): Dropout(p=0.1, inplace=False)\n",
              "            )\n",
              "          )\n",
              "          (intermediate): RobertaIntermediate(\n",
              "            (dense): Linear(in_features=768, out_features=3072, bias=True)\n",
              "            (intermediate_act_fn): GELUActivation()\n",
              "          )\n",
              "          (output): RobertaOutput(\n",
              "            (dense): Linear(in_features=3072, out_features=768, bias=True)\n",
              "            (LayerNorm): LayerNorm((768,), eps=1e-05, elementwise_affine=True)\n",
              "            (dropout): Dropout(p=0.1, inplace=False)\n",
              "          )\n",
              "        )\n",
              "      )\n",
              "    )\n",
              "  )\n",
              "  (classifier): RobertaClassificationHead(\n",
              "    (dense): Linear(in_features=768, out_features=768, bias=True)\n",
              "    (dropout): Dropout(p=0.1, inplace=False)\n",
              "    (out_proj): Linear(in_features=768, out_features=7, bias=True)\n",
              "  )\n",
              ")"
            ]
          },
          "metadata": {},
          "execution_count": 32
        }
      ],
      "source": [
        "from transformers import RobertaForSequenceClassification, AdamW, RobertaConfig\n",
        "\n",
        "# Load RobertaForSequenceClassification, the pretrained RoBERTA model with a single \n",
        "# linear classification layer on top. \n",
        "model = RobertaForSequenceClassification.from_pretrained(\n",
        "    \"roberta-base\", # Use the 12-layer RoBERTA model, with an uncased vocab.\n",
        "    num_labels = 7, # The number of output labels--2 for binary classification.\n",
        "                    # You can increase this for multi-class tasks.   \n",
        "    output_attentions = False, # Whether the model returns attentions weights.\n",
        "    output_hidden_states = False, # Whether the model returns all hidden-states.\n",
        ")\n",
        "\n",
        "# Tell pytorch to run this model on the GPU.\n",
        "model.cuda()"
      ]
    },
    {
      "cell_type": "code",
      "execution_count": 33,
      "metadata": {
        "colab": {
          "base_uri": "https://localhost:8080/"
        },
        "id": "csOCROEhRdpd",
        "outputId": "16af8123-5852-438c-ce31-36da203d860a"
      },
      "outputs": [
        {
          "output_type": "stream",
          "name": "stdout",
          "text": [
            "The RoBERTA model has 201 different named parameters.\n",
            "\n"
          ]
        }
      ],
      "source": [
        "# Get all of the model's parameters as a list of tuples.\n",
        "params = list(model.named_parameters())\n",
        "\n",
        "print('The RoBERTA model has {:} different named parameters.\\n'.format(len(params)))\n"
      ]
    },
    {
      "cell_type": "code",
      "execution_count": 34,
      "metadata": {
        "colab": {
          "base_uri": "https://localhost:8080/"
        },
        "id": "FO4LeQPFRlcM",
        "outputId": "0447cee8-5962-47ff-92c0-33198c94b837"
      },
      "outputs": [
        {
          "output_type": "stream",
          "name": "stderr",
          "text": [
            "/usr/local/lib/python3.9/dist-packages/transformers/optimization.py:391: FutureWarning: This implementation of AdamW is deprecated and will be removed in a future version. Use the PyTorch implementation torch.optim.AdamW instead, or set `no_deprecation_warning=True` to disable this warning\n",
            "  warnings.warn(\n"
          ]
        }
      ],
      "source": [
        "# Note: AdamW is a class from the huggingface library (as opposed to pytorch) \n",
        "# I believe the 'W' stands for 'Weight Decay fix\"\n",
        "optimizer = AdamW(model.parameters(),\n",
        "                  lr = 2e-5, # args.learning_rate - default is 5e-5, our notebook had 2e-5\n",
        "                  eps = 1e-8 # args.adam_epsilon  - default is 1e-8.w\n",
        "                )"
      ]
    },
    {
      "cell_type": "code",
      "execution_count": 35,
      "metadata": {
        "id": "i61lqROcRpWp"
      },
      "outputs": [],
      "source": [
        "from transformers import get_linear_schedule_with_warmup\n",
        "\n",
        "# Number of training epochs. The RoBERTA authors recommend between 2 and 4. \n",
        "# training data.\n",
        "epochs = 4\n",
        "\n",
        "# Total number of training steps is [number of batches] x [number of epochs]. \n",
        "# (Note that this is not the same as the number of training samples).\n",
        "total_steps = len(train_dataloader) * epochs\n",
        "\n",
        "# Create the learning rate scheduler.\n",
        "scheduler = get_linear_schedule_with_warmup(optimizer, \n",
        "                                            num_warmup_steps = 0, # Default value in run_glue.py\n",
        "                                            num_training_steps = total_steps)"
      ]
    },
    {
      "cell_type": "code",
      "execution_count": 36,
      "metadata": {
        "id": "mzFlujG_Rtzl"
      },
      "outputs": [],
      "source": [
        "import numpy as np\n",
        "\n",
        "# Function to calculate the accuracy of our predictions vs labels\n",
        "def flat_accuracy(preds, labels):\n",
        "    pred_flat = np.argmax(preds, axis=1).flatten()\n",
        "    labels_flat = labels.flatten()\n",
        "    return np.sum(pred_flat == labels_flat) / len(labels_flat)"
      ]
    },
    {
      "cell_type": "code",
      "execution_count": 37,
      "metadata": {
        "id": "57qaJvkaRxSZ"
      },
      "outputs": [],
      "source": [
        "import time\n",
        "import datetime\n",
        "\n",
        "def format_time(elapsed):\n",
        "    # Round to the nearest second.\n",
        "    elapsed_rounded = int(round((elapsed)))\n",
        "    \n",
        "    # Format as hh:mm:ss\n",
        "    return str(datetime.timedelta(seconds=elapsed_rounded))"
      ]
    },
    {
      "cell_type": "code",
      "execution_count": 38,
      "metadata": {
        "colab": {
          "base_uri": "https://localhost:8080/"
        },
        "id": "2yAky0guR0Ay",
        "outputId": "1b900074-584b-48d3-b410-b729e9fb258b"
      },
      "outputs": [
        {
          "output_type": "stream",
          "name": "stdout",
          "text": [
            "Training...\n",
            "\n",
            "  Average training loss: 1.28\n",
            "  Training epcoh took: 0:10:58\n",
            "Training...\n",
            "\n",
            "  Average training loss: 0.98\n",
            "  Training epcoh took: 0:10:54\n",
            "Training...\n",
            "\n",
            "  Average training loss: 0.79\n",
            "  Training epcoh took: 0:10:53\n",
            "Training...\n",
            "\n",
            "  Average training loss: 0.65\n",
            "  Training epcoh took: 0:10:54\n",
            "\n",
            "Training complete!\n",
            "Total training took 0:43:39 (h:mm:ss)\n"
          ]
        }
      ],
      "source": [
        "import random\n",
        "import numpy as np\n",
        "\n",
        "# This training code is based on the `run_glue.py` script here:\n",
        "# https://github.com/huggingface/transformers/blob/5bfcd0485ece086ebcbed2d008813037968a9e58/examples/run_glue.py#L128\n",
        "\n",
        "# Set the seed value all over the place to make this reproducible.\n",
        "seed_val = 42\n",
        "\n",
        "random.seed(seed_val)\n",
        "np.random.seed(seed_val)\n",
        "torch.manual_seed(seed_val)\n",
        "torch.cuda.manual_seed_all(seed_val)\n",
        "\n",
        "# We'll store a number of quantities such as training and validation loss, \n",
        "# validation accuracy, and timings.\n",
        "training_stats = []\n",
        "\n",
        "# Measure the total training time for the whole run.\n",
        "total_t0 = time.time()\n",
        "\n",
        "# For each epoch...\n",
        "for epoch_i in range(0, epochs):\n",
        "    \n",
        "    # ========================================\n",
        "    #               Training\n",
        "    # ========================================\n",
        "    \n",
        "    # Perform one full pass over the training set.\n",
        "\n",
        "    # print(\"\")\n",
        "    # print('======== Epoch {:} / {:} ========'.format(epoch_i + 1, epochs))\n",
        "    print('Training...')\n",
        "\n",
        "    # Measure how long the training epoch takes.\n",
        "    t0 = time.time()\n",
        "\n",
        "    # Reset the total loss for this epoch.\n",
        "    total_train_loss = 0\n",
        "\n",
        "    # Put the model into training mode. Don't be mislead--the call to \n",
        "    # `train` just changes the *mode*, it doesn't *perform* the training.\n",
        "    # `dropout` and `batchnorm` layers behave differently during training\n",
        "    # vs. test (source: https://stackoverflow.com/questions/51433378/what-does-model-train-do-in-pytorch)\n",
        "    model.train()\n",
        "\n",
        "    # For each batch of training data...\n",
        "    for step, batch in enumerate(train_dataloader):\n",
        "\n",
        "        # Progress update every 40 batches.\n",
        "        if step % 40 == 0 and not step == 0:\n",
        "            # Calculate elapsed time in minutes.\n",
        "            elapsed = format_time(time.time() - t0)\n",
        "            \n",
        "            # Report progress.\n",
        "            # print('  Batch {:>5,}  of  {:>5,}.    Elapsed: {:}.'.format(step, len(train_dataloader), elapsed))\n",
        "\n",
        "        # Unpack this training batch from our dataloader. \n",
        "        #\n",
        "        # As we unpack the batch, we'll also copy each tensor to the GPU using the \n",
        "        # `to` method.\n",
        "        #\n",
        "        # `batch` contains three pytorch tensors:\n",
        "        #   [0]: input ids \n",
        "        #   [1]: attention masks\n",
        "        #   [2]: labels \n",
        "        b_input_ids = batch[0].to(device)\n",
        "        b_input_mask = batch[1].to(device)\n",
        "        b_labels = batch[2].to(device)\n",
        "\n",
        "        # Always clear any previously calculated gradients before performing a\n",
        "        # backward pass. PyTorch doesn't do this automatically because \n",
        "        # accumulating the gradients is \"convenient while training RNNs\". \n",
        "        # (source: https://stackoverflow.com/questions/48001598/why-do-we-need-to-call-zero-grad-in-pytorch)\n",
        "        model.zero_grad()        \n",
        "\n",
        "        # Perform a forward pass (evaluate the model on this training batch).\n",
        "        # The documentation for this `model` function is here: \n",
        "        # https://huggingface.co/transformers/v2.2.0/model_doc/bert.html#transformers.BertForSequenceClassification\n",
        "        # It returns different numbers of parameters depending on what arguments\n",
        "        # arge given and what flags are set. For our useage here, it returns\n",
        "        # the loss (because we provided labels) and the \"logits\"--the model\n",
        "        # outputs prior to activation.\n",
        "        p=model(b_input_ids, \n",
        "                             token_type_ids=None, \n",
        "                             attention_mask=b_input_mask, \n",
        "                             labels=b_labels)\n",
        "        loss= p['loss']\n",
        "        logits=p['logits']\n",
        "        # print(loss)\n",
        "        # Accumulate the training loss over all of the batches so that we can\n",
        "        # calculate the average loss at the end. `loss` is a Tensor containing a\n",
        "        # single value; the `.item()` function just returns the Python value \n",
        "        # from the tensor.\n",
        "        total_train_loss += loss.item()\n",
        "\n",
        "        # Perform a backward pass to calculate the gradients.\n",
        "        loss.backward()\n",
        "\n",
        "        # Clip the norm of the gradients to 1.0.\n",
        "        # This is to help prevent the \"exploding gradients\" problem.\n",
        "        torch.nn.utils.clip_grad_norm_(model.parameters(), 1.0)\n",
        "\n",
        "        # Update parameters and take a step using the computed gradient.\n",
        "        # The optimizer dictates the \"update rule\"--how the parameters are\n",
        "        # modified based on their gradients, the learning rate, etc.\n",
        "        optimizer.step()\n",
        "\n",
        "        # Update the learning rate.\n",
        "        scheduler.step()\n",
        "\n",
        "    # Calculate the average loss over all of the batches.\n",
        "    avg_train_loss = total_train_loss / len(train_dataloader)            \n",
        "    \n",
        "    # Measure how long this epoch took.\n",
        "    training_time = format_time(time.time() - t0)\n",
        "\n",
        "    print(\"\")\n",
        "    print(\"  Average training loss: {0:.2f}\".format(avg_train_loss))\n",
        "    print(\"  Training epcoh took: {:}\".format(training_time))\n",
        "\n",
        "    # # ========================================\n",
        "    # #               Validation\n",
        "    # # ========================================\n",
        "    # # After the completion of each training epoch, measure our performance on\n",
        "    # # our validation set.\n",
        "\n",
        "    # print(\"\")\n",
        "    # print(\"Running Validation...\")\n",
        "\n",
        "    # t0 = time.time()\n",
        "\n",
        "    # # Put the model in evaluation mode--the dropout layers behave differently\n",
        "    # # during evaluation.\n",
        "    # model.eval()\n",
        "\n",
        "    # # Tracking variables \n",
        "    # total_eval_accuracy = 0\n",
        "    # total_eval_loss = 0\n",
        "    # nb_eval_steps = 0\n",
        "\n",
        "    # # Evaluate data for one epoch\n",
        "    # for batch in validation_dataloader:\n",
        "        \n",
        "    #     # Unpack this training batch from our dataloader. \n",
        "    #     #\n",
        "    #     # As we unpack the batch, we'll also copy each tensor to the GPU using \n",
        "    #     # the `to` method.\n",
        "    #     #\n",
        "    #     # `batch` contains three pytorch tensors:\n",
        "    #     #   [0]: input ids \n",
        "    #     #   [1]: attention masks\n",
        "    #     #   [2]: labels \n",
        "    #     b_input_ids = batch[0].to(device)\n",
        "    #     b_input_mask = batch[1].to(device)\n",
        "    #     b_labels = batch[2].to(device)\n",
        "        \n",
        "    #     # Tell pytorch not to bother with constructing the compute graph during\n",
        "    #     # the forward pass, since this is only needed for backprop (training).\n",
        "    #     with torch.no_grad():        \n",
        "\n",
        "    #         # Forward pass, calculate logit predictions.\n",
        "    #         # token_type_ids is the same as the \"segment ids\", which \n",
        "    #         # differentiates sentence 1 and 2 in 2-sentence tasks.\n",
        "    #         # The documentation for this `model` function is here: \n",
        "    #         # https://huggingface.co/transformers/v2.2.0/model_doc/bert.html#transformers.BertForSequenceClassification\n",
        "    #         # Get the \"logits\" output by the model. The \"logits\" are the output\n",
        "    #         # values prior to applying an activation function like the softmax.\n",
        "    #         (loss, logits) = model(b_input_ids, \n",
        "    #                                token_type_ids=None, \n",
        "    #                                attention_mask=b_input_mask,\n",
        "    #                                labels=b_labels)\n",
        "            \n",
        "    #     # Accumulate the validation loss.\n",
        "    #     total_eval_loss += loss.item()\n",
        "\n",
        "    #     # Move logits and labels to CPU\n",
        "    #     logits = logits.detach().cpu().numpy()\n",
        "    #     label_ids = b_labels.to('cpu').numpy()\n",
        "\n",
        "    #     # Calculate the accuracy for this batch of test sentences, and\n",
        "    #     # accumulate it over all batches.\n",
        "    #     total_eval_accuracy += flat_accuracy(logits, label_ids)\n",
        "        \n",
        "\n",
        "    # # Report the final accuracy for this validation run.\n",
        "    # avg_val_accuracy = total_eval_accuracy / len(validation_dataloader)\n",
        "    # print(\"  Accuracy: {0:.2f}\".format(avg_val_accuracy))\n",
        "\n",
        "    # # Calculate the average loss over all of the batches.\n",
        "    # avg_val_loss = total_eval_loss / len(validation_dataloader)\n",
        "    \n",
        "    # # Measure how long the validation run took.\n",
        "    # validation_time = format_time(time.time() - t0)\n",
        "    \n",
        "    # print(\"  Validation Loss: {0:.2f}\".format(avg_val_loss))\n",
        "    # print(\"  Validation took: {:}\".format(validation_time))\n",
        "\n",
        "    # # Record all statistics from this epoch.\n",
        "    # training_stats.append(\n",
        "    #     {\n",
        "    #         'epoch': epoch_i + 1,\n",
        "    #         'Training Loss': avg_train_loss,\n",
        "    #         'Valid. Loss': avg_val_loss,\n",
        "    #         'Valid. Accur.': avg_val_accuracy,\n",
        "    #         'Training Time': training_time,\n",
        "    #         'Validation Time': validation_time\n",
        "    #     }\n",
        "    # )\n",
        "print(\"\")\n",
        "print(\"Training complete!\")\n",
        "\n",
        "print(\"Total training took {:} (h:mm:ss)\".format(format_time(time.time()-total_t0)))"
      ]
    },
    {
      "cell_type": "code",
      "execution_count": 39,
      "metadata": {
        "id": "0u06BzagsgzB"
      },
      "outputs": [],
      "source": [
        "files = glob.glob(\"/content/d1.txt\")"
      ]
    },
    {
      "cell_type": "code",
      "execution_count": 40,
      "metadata": {
        "id": "uFZLC6AJ8h6H"
      },
      "outputs": [],
      "source": [
        "data = []\n",
        "for text_file in files:\n",
        "  with open (text_file, \"r\") as myfile:\n",
        "    temp=myfile.readlines()\n",
        "    t=[]\n",
        "    for x in temp:\n",
        "      if(x!='\\n'):\n",
        "        t.append(x)\n",
        "    temp=t\n",
        "    data.append(temp)\n",
        "del temp\n",
        "del files\n"
      ]
    },
    {
      "cell_type": "code",
      "execution_count": 41,
      "metadata": {
        "colab": {
          "base_uri": "https://localhost:8080/",
          "height": 53
        },
        "id": "qeFRCvho9OGH",
        "outputId": "8f9c6d0c-9175-46df-f931-b6ea1ff35390"
      },
      "outputs": [
        {
          "data": {
            "application/vnd.google.colaboratory.intrinsic+json": {
              "type": "string"
            },
            "text/plain": [
              "'Nonetheless, the Courts judgment on interpretation does not seem to have surprised either of the two litigant States and has been fairly positively accepted thereby bringing end to a dispute that could have been exacerbated.'"
            ]
          },
          "execution_count": 41,
          "metadata": {},
          "output_type": "execute_result"
        }
      ],
      "source": [
        "for text_file in data:\n",
        "  for line in text_file:\n",
        "    word_list = line.split()\n",
        "    temp = line.split('\\t', 1)[1]\n",
        "    temp = temp.split('\\n', 1)[0]\n",
        "word_list\n",
        "temp"
      ]
    },
    {
      "cell_type": "code",
      "execution_count": 42,
      "metadata": {
        "id": "VC4JqUHI8tYI",
        "colab": {
          "base_uri": "https://localhost:8080/"
        },
        "outputId": "d80aee14-645b-4e39-ea13-6439e7c20591"
      },
      "outputs": [
        {
          "output_type": "stream",
          "name": "stderr",
          "text": [
            "<ipython-input-42-338a69ef4663>:14: FutureWarning: The frame.append method is deprecated and will be removed from pandas in a future version. Use pandas.concat instead.\n",
            "  df = df.append(temp2)\n"
          ]
        }
      ],
      "source": [
        "lines = []\n",
        "df = pd.DataFrame()\n",
        "for text_file in data:\n",
        "  filedata = {'sentence': [] ,'label': [], 'id': []}\n",
        "  for line in text_file:\n",
        "    word_list = line.split()\n",
        "    label = word_list[0]\n",
        "    temp = line.split('\\t', 1)[1]\n",
        "    temp = temp.split('\\n', 1)[0]\n",
        "    filedata['sentence'].append(temp)\n",
        "    filedata['label'].append(0)\n",
        "    filedata['id'].append(label)\n",
        "  temp2 = pd.DataFrame(filedata)\n",
        "  df = df.append(temp2)\n",
        "del label, temp, temp2, filedata, word_list, data"
      ]
    },
    {
      "cell_type": "code",
      "execution_count": 43,
      "metadata": {
        "colab": {
          "base_uri": "https://localhost:8080/",
          "height": 423
        },
        "id": "8nRMzmlO_egD",
        "outputId": "04e62257-443a-4882-9fb6-0591441b8796"
      },
      "outputs": [
        {
          "output_type": "execute_result",
          "data": {
            "text/plain": [
              "                                             sentence  label    id\n",
              "0         THE PREAH VIHEAR CASE: CAMBODIA v. THAILAND      0   d_1\n",
              "1                                  DIVYAPRATAP PARMAR      0   d_2\n",
              "2                                        Introduction      0   d_3\n",
              "3   The present case was filed in the Internationa...      0   d_4\n",
              "4   The International Court of Justice (ICJ) is on...      0   d_5\n",
              "..                                                ...    ...   ...\n",
              "58                                 Concluding Remarks      0  d_59\n",
              "59  The judgment provided by the court not only re...      0  d_60\n",
              "60  More generally, greater clarity in the draftin...      0  d_61\n",
              "61  The Preah Vihear case demonstrates how things ...      0  d_62\n",
              "62  Nonetheless, the Courts judgment on interpreta...      0  d_63\n",
              "\n",
              "[63 rows x 3 columns]"
            ],
            "text/html": [
              "\n",
              "  <div id=\"df-eec44cdc-acf3-440a-9342-8292f1fdc1d5\">\n",
              "    <div class=\"colab-df-container\">\n",
              "      <div>\n",
              "<style scoped>\n",
              "    .dataframe tbody tr th:only-of-type {\n",
              "        vertical-align: middle;\n",
              "    }\n",
              "\n",
              "    .dataframe tbody tr th {\n",
              "        vertical-align: top;\n",
              "    }\n",
              "\n",
              "    .dataframe thead th {\n",
              "        text-align: right;\n",
              "    }\n",
              "</style>\n",
              "<table border=\"1\" class=\"dataframe\">\n",
              "  <thead>\n",
              "    <tr style=\"text-align: right;\">\n",
              "      <th></th>\n",
              "      <th>sentence</th>\n",
              "      <th>label</th>\n",
              "      <th>id</th>\n",
              "    </tr>\n",
              "  </thead>\n",
              "  <tbody>\n",
              "    <tr>\n",
              "      <th>0</th>\n",
              "      <td>THE PREAH VIHEAR CASE: CAMBODIA v. THAILAND</td>\n",
              "      <td>0</td>\n",
              "      <td>d_1</td>\n",
              "    </tr>\n",
              "    <tr>\n",
              "      <th>1</th>\n",
              "      <td>DIVYAPRATAP PARMAR</td>\n",
              "      <td>0</td>\n",
              "      <td>d_2</td>\n",
              "    </tr>\n",
              "    <tr>\n",
              "      <th>2</th>\n",
              "      <td>Introduction</td>\n",
              "      <td>0</td>\n",
              "      <td>d_3</td>\n",
              "    </tr>\n",
              "    <tr>\n",
              "      <th>3</th>\n",
              "      <td>The present case was filed in the Internationa...</td>\n",
              "      <td>0</td>\n",
              "      <td>d_4</td>\n",
              "    </tr>\n",
              "    <tr>\n",
              "      <th>4</th>\n",
              "      <td>The International Court of Justice (ICJ) is on...</td>\n",
              "      <td>0</td>\n",
              "      <td>d_5</td>\n",
              "    </tr>\n",
              "    <tr>\n",
              "      <th>...</th>\n",
              "      <td>...</td>\n",
              "      <td>...</td>\n",
              "      <td>...</td>\n",
              "    </tr>\n",
              "    <tr>\n",
              "      <th>58</th>\n",
              "      <td>Concluding Remarks</td>\n",
              "      <td>0</td>\n",
              "      <td>d_59</td>\n",
              "    </tr>\n",
              "    <tr>\n",
              "      <th>59</th>\n",
              "      <td>The judgment provided by the court not only re...</td>\n",
              "      <td>0</td>\n",
              "      <td>d_60</td>\n",
              "    </tr>\n",
              "    <tr>\n",
              "      <th>60</th>\n",
              "      <td>More generally, greater clarity in the draftin...</td>\n",
              "      <td>0</td>\n",
              "      <td>d_61</td>\n",
              "    </tr>\n",
              "    <tr>\n",
              "      <th>61</th>\n",
              "      <td>The Preah Vihear case demonstrates how things ...</td>\n",
              "      <td>0</td>\n",
              "      <td>d_62</td>\n",
              "    </tr>\n",
              "    <tr>\n",
              "      <th>62</th>\n",
              "      <td>Nonetheless, the Courts judgment on interpreta...</td>\n",
              "      <td>0</td>\n",
              "      <td>d_63</td>\n",
              "    </tr>\n",
              "  </tbody>\n",
              "</table>\n",
              "<p>63 rows × 3 columns</p>\n",
              "</div>\n",
              "      <button class=\"colab-df-convert\" onclick=\"convertToInteractive('df-eec44cdc-acf3-440a-9342-8292f1fdc1d5')\"\n",
              "              title=\"Convert this dataframe to an interactive table.\"\n",
              "              style=\"display:none;\">\n",
              "        \n",
              "  <svg xmlns=\"http://www.w3.org/2000/svg\" height=\"24px\"viewBox=\"0 0 24 24\"\n",
              "       width=\"24px\">\n",
              "    <path d=\"M0 0h24v24H0V0z\" fill=\"none\"/>\n",
              "    <path d=\"M18.56 5.44l.94 2.06.94-2.06 2.06-.94-2.06-.94-.94-2.06-.94 2.06-2.06.94zm-11 1L8.5 8.5l.94-2.06 2.06-.94-2.06-.94L8.5 2.5l-.94 2.06-2.06.94zm10 10l.94 2.06.94-2.06 2.06-.94-2.06-.94-.94-2.06-.94 2.06-2.06.94z\"/><path d=\"M17.41 7.96l-1.37-1.37c-.4-.4-.92-.59-1.43-.59-.52 0-1.04.2-1.43.59L10.3 9.45l-7.72 7.72c-.78.78-.78 2.05 0 2.83L4 21.41c.39.39.9.59 1.41.59.51 0 1.02-.2 1.41-.59l7.78-7.78 2.81-2.81c.8-.78.8-2.07 0-2.86zM5.41 20L4 18.59l7.72-7.72 1.47 1.35L5.41 20z\"/>\n",
              "  </svg>\n",
              "      </button>\n",
              "      \n",
              "  <style>\n",
              "    .colab-df-container {\n",
              "      display:flex;\n",
              "      flex-wrap:wrap;\n",
              "      gap: 12px;\n",
              "    }\n",
              "\n",
              "    .colab-df-convert {\n",
              "      background-color: #E8F0FE;\n",
              "      border: none;\n",
              "      border-radius: 50%;\n",
              "      cursor: pointer;\n",
              "      display: none;\n",
              "      fill: #1967D2;\n",
              "      height: 32px;\n",
              "      padding: 0 0 0 0;\n",
              "      width: 32px;\n",
              "    }\n",
              "\n",
              "    .colab-df-convert:hover {\n",
              "      background-color: #E2EBFA;\n",
              "      box-shadow: 0px 1px 2px rgba(60, 64, 67, 0.3), 0px 1px 3px 1px rgba(60, 64, 67, 0.15);\n",
              "      fill: #174EA6;\n",
              "    }\n",
              "\n",
              "    [theme=dark] .colab-df-convert {\n",
              "      background-color: #3B4455;\n",
              "      fill: #D2E3FC;\n",
              "    }\n",
              "\n",
              "    [theme=dark] .colab-df-convert:hover {\n",
              "      background-color: #434B5C;\n",
              "      box-shadow: 0px 1px 3px 1px rgba(0, 0, 0, 0.15);\n",
              "      filter: drop-shadow(0px 1px 2px rgba(0, 0, 0, 0.3));\n",
              "      fill: #FFFFFF;\n",
              "    }\n",
              "  </style>\n",
              "\n",
              "      <script>\n",
              "        const buttonEl =\n",
              "          document.querySelector('#df-eec44cdc-acf3-440a-9342-8292f1fdc1d5 button.colab-df-convert');\n",
              "        buttonEl.style.display =\n",
              "          google.colab.kernel.accessAllowed ? 'block' : 'none';\n",
              "\n",
              "        async function convertToInteractive(key) {\n",
              "          const element = document.querySelector('#df-eec44cdc-acf3-440a-9342-8292f1fdc1d5');\n",
              "          const dataTable =\n",
              "            await google.colab.kernel.invokeFunction('convertToInteractive',\n",
              "                                                     [key], {});\n",
              "          if (!dataTable) return;\n",
              "\n",
              "          const docLinkHtml = 'Like what you see? Visit the ' +\n",
              "            '<a target=\"_blank\" href=https://colab.research.google.com/notebooks/data_table.ipynb>data table notebook</a>'\n",
              "            + ' to learn more about interactive tables.';\n",
              "          element.innerHTML = '';\n",
              "          dataTable['output_type'] = 'display_data';\n",
              "          await google.colab.output.renderOutput(dataTable, element);\n",
              "          const docLink = document.createElement('div');\n",
              "          docLink.innerHTML = docLinkHtml;\n",
              "          element.appendChild(docLink);\n",
              "        }\n",
              "      </script>\n",
              "    </div>\n",
              "  </div>\n",
              "  "
            ]
          },
          "metadata": {},
          "execution_count": 43
        }
      ],
      "source": [
        "df"
      ]
    },
    {
      "cell_type": "code",
      "execution_count": 44,
      "metadata": {
        "colab": {
          "base_uri": "https://localhost:8080/"
        },
        "id": "C3be7nuKBJPT",
        "outputId": "15818b76-ed71-4971-dad7-01b2d53d379c"
      },
      "outputs": [
        {
          "output_type": "stream",
          "name": "stdout",
          "text": [
            "Max sentence length:  381\n"
          ]
        }
      ],
      "source": [
        "max_len = 0\n",
        "\n",
        "# For every sentence...\n",
        "for sent in sentences:\n",
        "\n",
        "    # Tokenize the text and add `[CLS]` and `[SEP]` tokens.\n",
        "    input_ids = tokenizer.encode(sent, add_special_tokens=True)\n",
        "\n",
        "    # Update the maximum sentence length.\n",
        "    max_len = max(max_len, len(input_ids))\n",
        "\n",
        "print('Max sentence length: ', max_len)"
      ]
    },
    {
      "cell_type": "code",
      "execution_count": 45,
      "metadata": {
        "colab": {
          "base_uri": "https://localhost:8080/"
        },
        "id": "Y1Jx7GtB_f1U",
        "outputId": "e5c149c1-1084-43ac-988c-c1108ea716bf"
      },
      "outputs": [
        {
          "output_type": "stream",
          "name": "stderr",
          "text": [
            "/usr/local/lib/python3.9/dist-packages/transformers/tokenization_utils_base.py:2346: FutureWarning: The `pad_to_max_length` argument is deprecated and will be removed in a future version, use `padding=True` or `padding='longest'` to pad to the longest sequence in the batch, or use `padding='max_length'` to pad to a max length. In this case, you can give a specific length with `max_length` (e.g. `max_length=45`) or leave max_length to None to pad to the maximal input size of the model (e.g. 512 for Bert).\n",
            "  warnings.warn(\n"
          ]
        }
      ],
      "source": [
        "sentences = df.sentence.values\n",
        "labels = df.label.values\n",
        "\n",
        "# Tokenize all of the sentences and map the tokens to thier word IDs.\n",
        "input_ids = []\n",
        "attention_masks = []\n",
        "\n",
        "# For every sentence...\n",
        "for sent in sentences:\n",
        "    # `encode_plus` will:\n",
        "    #   (1) Tokenize the sentence.\n",
        "    #   (2) Prepend the `[CLS]` token to the start.\n",
        "    #   (3) Append the `[SEP]` token to the end.\n",
        "    #   (4) Map tokens to their IDs.\n",
        "    #   (5) Pad or truncate the sentence to `max_length`\n",
        "    #   (6) Create attention masks for [PAD] tokens.\n",
        "    encoded_dict = tokenizer.encode_plus(\n",
        "                        sent,                      # Sentence to encode.\n",
        "                        add_special_tokens = True, # Add '[CLS]' and '[SEP]'\n",
        "                        max_length = 400,           # Pad & truncate all sentences.\n",
        "                        pad_to_max_length = True,\n",
        "                        truncation = True,\n",
        "                        return_attention_mask = True,   # Construct attn. masks.\n",
        "                        return_tensors = 'pt',     # Return pytorch tensors.\n",
        "                   )\n",
        "    \n",
        "    # Add the encoded sentence to the list.    \n",
        "    input_ids.append(encoded_dict['input_ids'])\n",
        "    \n",
        "    # And its attention mask (simply differentiates padding from non-padding).\n",
        "    attention_masks.append(encoded_dict['attention_mask'])\n",
        "\n",
        "# Convert the lists into tensors.\n",
        "input_ids = torch.cat(input_ids, dim=0)\n",
        "attention_masks = torch.cat(attention_masks, dim=0)\n",
        "labels = torch.tensor(labels)\n",
        "\n",
        "# Set the batch size.  \n",
        "batch_size = 1\n",
        "\n",
        "# Create the DataLoader.\n",
        "prediction_data = TensorDataset(input_ids, attention_masks, labels)\n",
        "prediction_sampler = SequentialSampler(prediction_data)\n",
        "prediction_dataloader = DataLoader(prediction_data, sampler=prediction_sampler, batch_size=batch_size)"
      ]
    },
    {
      "cell_type": "code",
      "execution_count": 46,
      "metadata": {
        "colab": {
          "base_uri": "https://localhost:8080/"
        },
        "id": "AtfxjNftHyHI",
        "outputId": "b5c83d0b-edc2-41a5-b227-f1de3227bcd9"
      },
      "outputs": [
        {
          "output_type": "stream",
          "name": "stdout",
          "text": [
            "Original:  On the other hand, this question was not before the Court in 1962, and it was not decided with binding force but merely included in the reasoning of the Judgment.\n",
            "Token IDs: tensor([    0,  4148,     5,    97,   865,     6,    42,   864,    21,    45,\n",
            "          137,     5,   837,    11, 19515,     6,     8,    24,    21,    45,\n",
            "         1276,    19, 17014,  1370,    53,  8315,  1165,    11,     5, 20511,\n",
            "            9,     5, 44319,     4,     2,     1,     1,     1,     1,     1,\n",
            "            1,     1,     1,     1,     1,     1,     1,     1,     1,     1,\n",
            "            1,     1,     1,     1,     1,     1,     1,     1,     1,     1,\n",
            "            1,     1,     1,     1,     1,     1,     1,     1,     1,     1,\n",
            "            1,     1,     1,     1,     1,     1,     1,     1,     1,     1,\n",
            "            1,     1,     1,     1,     1,     1,     1,     1,     1,     1,\n",
            "            1,     1,     1,     1,     1,     1,     1,     1,     1,     1,\n",
            "            1,     1,     1,     1,     1,     1,     1,     1,     1,     1,\n",
            "            1,     1,     1,     1,     1,     1,     1,     1,     1,     1,\n",
            "            1,     1,     1,     1,     1,     1,     1,     1,     1,     1,\n",
            "            1,     1,     1,     1,     1,     1,     1,     1,     1,     1,\n",
            "            1,     1,     1,     1,     1,     1,     1,     1,     1,     1,\n",
            "            1,     1,     1,     1,     1,     1,     1,     1,     1,     1,\n",
            "            1,     1,     1,     1,     1,     1,     1,     1,     1,     1,\n",
            "            1,     1,     1,     1,     1,     1,     1,     1,     1,     1,\n",
            "            1,     1,     1,     1,     1,     1,     1,     1,     1,     1,\n",
            "            1,     1,     1,     1,     1,     1,     1,     1,     1,     1,\n",
            "            1,     1,     1,     1,     1,     1,     1,     1,     1,     1,\n",
            "            1,     1,     1,     1,     1,     1,     1,     1,     1,     1,\n",
            "            1,     1,     1,     1,     1,     1,     1,     1,     1,     1,\n",
            "            1,     1,     1,     1,     1,     1,     1,     1,     1,     1,\n",
            "            1,     1,     1,     1,     1,     1,     1,     1,     1,     1,\n",
            "            1,     1,     1,     1,     1,     1,     1,     1,     1,     1,\n",
            "            1,     1,     1,     1,     1,     1,     1,     1,     1,     1,\n",
            "            1,     1,     1,     1,     1,     1,     1,     1,     1,     1,\n",
            "            1,     1,     1,     1,     1,     1,     1,     1,     1,     1,\n",
            "            1,     1,     1,     1,     1,     1,     1,     1,     1,     1,\n",
            "            1,     1,     1,     1,     1,     1,     1,     1,     1,     1,\n",
            "            1,     1,     1,     1,     1,     1,     1,     1,     1,     1,\n",
            "            1,     1,     1,     1,     1,     1,     1,     1,     1,     1,\n",
            "            1,     1,     1,     1,     1,     1,     1,     1,     1,     1,\n",
            "            1,     1,     1,     1,     1,     1,     1,     1,     1,     1,\n",
            "            1,     1,     1,     1,     1,     1,     1,     1,     1,     1,\n",
            "            1,     1,     1,     1,     1,     1,     1,     1,     1,     1,\n",
            "            1,     1,     1,     1,     1,     1,     1,     1,     1,     1,\n",
            "            1,     1,     1,     1,     1,     1,     1,     1,     1,     1,\n",
            "            1,     1,     1,     1,     1,     1,     1,     1,     1,     1])\n"
          ]
        }
      ],
      "source": [
        "print('Original: ', sentences[50])\n",
        "print('Token IDs:', input_ids[50])"
      ]
    },
    {
      "cell_type": "code",
      "execution_count": 47,
      "metadata": {
        "colab": {
          "base_uri": "https://localhost:8080/"
        },
        "id": "oDpGAvdw_4ZB",
        "outputId": "fd8e446c-1f55-4eca-92e5-14f174bace55"
      },
      "outputs": [
        {
          "output_type": "stream",
          "name": "stdout",
          "text": [
            "Predicting labels for 63 test sentences...\n",
            "    DONE.\n"
          ]
        }
      ],
      "source": [
        "# Prediction on test set\n",
        "\n",
        "print('Predicting labels for {:,} test sentences...'.format(len(input_ids)))\n",
        "\n",
        "# Put model in evaluation mode\n",
        "model.eval()\n",
        "\n",
        "# Tracking variables \n",
        "predictions , true_labels = [], []\n",
        "\n",
        "# Predict \n",
        "for batch in prediction_dataloader:\n",
        "  # Add batch to GPU\n",
        "  batch = tuple(t.to(device) for t in batch)\n",
        "  \n",
        "  # Unpack the inputs from our dataloader\n",
        "  b_input_ids, b_input_mask, b_labels = batch\n",
        "  \n",
        "  # Telling the model not to compute or store gradients, saving memory and \n",
        "  # speeding up prediction\n",
        "  with torch.no_grad():\n",
        "      # Forward pass, calculate logit predictions\n",
        "      outputs = model(b_input_ids, token_type_ids=None, \n",
        "                      attention_mask=b_input_mask)\n",
        "\n",
        "  logits = outputs[0]\n",
        "  logits = logits.argmax()\n",
        "\n",
        "  # Move logits and labels to CPU\n",
        "  logits = logits.detach().cpu().numpy()\n",
        "  label_ids = b_labels.to('cpu').numpy()\n",
        "  \n",
        "  # Store predictions and true labels\n",
        "  predictions.append(logits)\n",
        "  true_labels.append(label_ids)\n",
        "\n",
        "print('    DONE.')"
      ]
    },
    {
      "cell_type": "code",
      "execution_count": 48,
      "metadata": {
        "id": "wi03SAKNCRUB",
        "colab": {
          "base_uri": "https://localhost:8080/"
        },
        "outputId": "7a430ca9-31d4-4691-af17-4b55b7038c31"
      },
      "outputs": [
        {
          "data": {
            "text/plain": [
              "(63,)"
            ]
          },
          "execution_count": 48,
          "metadata": {},
          "output_type": "execute_result"
        }
      ],
      "source": [
        "np.shape(predictions)"
      ]
    },
    {
      "cell_type": "code",
      "execution_count": 49,
      "metadata": {
        "id": "o_TywZSzEgvK"
      },
      "outputs": [],
      "source": [
        "id = df.id.values"
      ]
    },
    {
      "cell_type": "code",
      "execution_count": 50,
      "metadata": {
        "id": "w5x6pyp4Keg2",
        "colab": {
          "base_uri": "https://localhost:8080/"
        },
        "outputId": "7f255d3d-b2d4-465a-c1ec-1815bbcb588e"
      },
      "outputs": [
        {
          "output_type": "execute_result",
          "data": {
            "text/plain": [
              "array(['d_1', 'd_2', 'd_3', 'd_4', 'd_5', 'd_6', 'd_7', 'd_8', 'd_9',\n",
              "       'd_10', 'd_11', 'd_12', 'd_13', 'd_14', 'd_15', 'd_16', 'd_17',\n",
              "       'd_18', 'd_19', 'd_20', 'd_21', 'd_22', 'd_23', 'd_24', 'd_25',\n",
              "       'd_26', 'd_27', 'd_28', 'd_29', 'd_30', 'd_31', 'd_32', 'd_33',\n",
              "       'd_34', 'd_35', 'd_36', 'd_37', 'd_38', 'd_39', 'd_40', 'd_41',\n",
              "       'd_42', 'd_43', 'd_44', 'd_45', 'd_46', 'd_47', 'd_48', 'd_49',\n",
              "       'd_50', 'd_51', 'd_52', 'd_53', 'd_54', 'd_55', 'd_56', 'd_57',\n",
              "       'd_58', 'd_59', 'd_60', 'd_61', 'd_62', 'd_63'], dtype=object)"
            ]
          },
          "metadata": {},
          "execution_count": 50
        }
      ],
      "source": [
        "id"
      ]
    },
    {
      "cell_type": "code",
      "execution_count": 51,
      "metadata": {
        "id": "_wVWb-ApNQ73"
      },
      "outputs": [],
      "source": [
        "labeldict = {\"F\":0, \"RLC\":1, \"A\":2, \"S\":3, \"P\":4, \"R\":5, \"RPC\":6}"
      ]
    },
    {
      "cell_type": "code",
      "execution_count": 53,
      "metadata": {
        "id": "PmqInTz5K4hg"
      },
      "outputs": [],
      "source": [
        "testlabel = []\n",
        "for i in range(0,63):\n",
        "  testlabel.append(list(labeldict.keys())[list(labeldict.values()).index(predictions[i])])\n"
      ]
    },
    {
      "cell_type": "code",
      "source": [
        "st=[]\n",
        "# df['sentence'][0]\n",
        "for i in range(0,63):\n",
        "  st.append(df['sentence'][i]+\"\\t\"+testlabel[i])\n",
        "  st[i]=re.sub(r\"[^a-zA-Z0-9.]+\", ' ',st[i])\n",
        "print(st)"
      ],
      "metadata": {
        "colab": {
          "base_uri": "https://localhost:8080/",
          "height": 235
        },
        "id": "ctQfEIV9ld9q",
        "outputId": "4c61aaba-1cee-4a0b-d12a-4d6a62c18da8"
      },
      "execution_count": 1,
      "outputs": [
        {
          "output_type": "error",
          "ename": "NameError",
          "evalue": "ignored",
          "traceback": [
            "\u001b[0;31m---------------------------------------------------------------------------\u001b[0m",
            "\u001b[0;31mNameError\u001b[0m                                 Traceback (most recent call last)",
            "\u001b[0;32m<ipython-input-1-4e52f6a1042d>\u001b[0m in \u001b[0;36m<module>\u001b[0;34m\u001b[0m\n\u001b[1;32m      2\u001b[0m \u001b[0;31m# df['sentence'][0]\u001b[0m\u001b[0;34m\u001b[0m\u001b[0;34m\u001b[0m\u001b[0m\n\u001b[1;32m      3\u001b[0m \u001b[0;32mfor\u001b[0m \u001b[0mi\u001b[0m \u001b[0;32min\u001b[0m \u001b[0mrange\u001b[0m\u001b[0;34m(\u001b[0m\u001b[0;36m0\u001b[0m\u001b[0;34m,\u001b[0m\u001b[0;36m63\u001b[0m\u001b[0;34m)\u001b[0m\u001b[0;34m:\u001b[0m\u001b[0;34m\u001b[0m\u001b[0;34m\u001b[0m\u001b[0m\n\u001b[0;32m----> 4\u001b[0;31m   \u001b[0mst\u001b[0m\u001b[0;34m.\u001b[0m\u001b[0mappend\u001b[0m\u001b[0;34m(\u001b[0m\u001b[0mdf\u001b[0m\u001b[0;34m[\u001b[0m\u001b[0;34m'sentence'\u001b[0m\u001b[0;34m]\u001b[0m\u001b[0;34m[\u001b[0m\u001b[0mi\u001b[0m\u001b[0;34m]\u001b[0m\u001b[0;34m+\u001b[0m\u001b[0;34m\"\\t\"\u001b[0m\u001b[0;34m+\u001b[0m\u001b[0mtestlabel\u001b[0m\u001b[0;34m[\u001b[0m\u001b[0mi\u001b[0m\u001b[0;34m]\u001b[0m\u001b[0;34m)\u001b[0m\u001b[0;34m\u001b[0m\u001b[0;34m\u001b[0m\u001b[0m\n\u001b[0m\u001b[1;32m      5\u001b[0m   \u001b[0mst\u001b[0m\u001b[0;34m[\u001b[0m\u001b[0mi\u001b[0m\u001b[0;34m]\u001b[0m\u001b[0;34m=\u001b[0m\u001b[0mre\u001b[0m\u001b[0;34m.\u001b[0m\u001b[0msub\u001b[0m\u001b[0;34m(\u001b[0m\u001b[0;34mr\"[^a-zA-Z0-9.]+\"\u001b[0m\u001b[0;34m,\u001b[0m \u001b[0;34m' '\u001b[0m\u001b[0;34m,\u001b[0m\u001b[0mst\u001b[0m\u001b[0;34m[\u001b[0m\u001b[0mi\u001b[0m\u001b[0;34m]\u001b[0m\u001b[0;34m)\u001b[0m\u001b[0;34m\u001b[0m\u001b[0;34m\u001b[0m\u001b[0m\n\u001b[1;32m      6\u001b[0m \u001b[0mprint\u001b[0m\u001b[0;34m(\u001b[0m\u001b[0mst\u001b[0m\u001b[0;34m)\u001b[0m\u001b[0;34m\u001b[0m\u001b[0;34m\u001b[0m\u001b[0m\n",
            "\u001b[0;31mNameError\u001b[0m: name 'df' is not defined"
          ]
        }
      ]
    },
    {
      "cell_type": "code",
      "execution_count": 56,
      "metadata": {
        "id": "B62vZtNsOCnO"
      },
      "outputs": [],
      "source": [
        "import re\n",
        "for i in range(0,63):\n",
        "  file1 = open(\"/content/run.txt\",\"a\")\n",
        "  file1.write(id[i])\n",
        "  file1.write('\\t')\n",
        "  file1.write(testlabel[i])\n",
        "  file1.write('\\t')\n",
        "  # file1.write('Spectre_1')\n",
        "  file1.write('\\n')\n",
        "  file1.close()\n",
        "  file2 = open(\"/content/out.txt\",\"a\")\n",
        "  file2.write(st[i])\n",
        "  file2.write('\\n')\n",
        "  file2.close "
      ]
    },
    {
      "cell_type": "code",
      "execution_count": 57,
      "metadata": {
        "id": "Dmyt--JnQb9J",
        "colab": {
          "base_uri": "https://localhost:8080/"
        },
        "outputId": "44687298-4fed-4541-fe6c-3250e37228c6"
      },
      "outputs": [
        {
          "output_type": "stream",
          "name": "stdout",
          "text": [
            "Saving model to /content/gdrive/MyDrive/Datasets\n"
          ]
        },
        {
          "output_type": "execute_result",
          "data": {
            "text/plain": [
              "('/content/gdrive/MyDrive/Datasets/tokenizer_config.json',\n",
              " '/content/gdrive/MyDrive/Datasets/special_tokens_map.json',\n",
              " '/content/gdrive/MyDrive/Datasets/vocab.json',\n",
              " '/content/gdrive/MyDrive/Datasets/merges.txt',\n",
              " '/content/gdrive/MyDrive/Datasets/added_tokens.json')"
            ]
          },
          "metadata": {},
          "execution_count": 57
        }
      ],
      "source": [
        "import os\n",
        "\n",
        "# Saving best-practices: if you use defaults names for the model, you can reload it using from_pretrained()\n",
        "\n",
        "output_dir = '/content/gdrive/MyDrive/Datasets'\n",
        "\n",
        "# Create output directory if needed\n",
        "if not os.path.exists(output_dir):\n",
        "    os.makedirs(output_dir)\n",
        "\n",
        "print(\"Saving model to %s\" % output_dir)\n",
        "\n",
        "# Save a trained model, configuration and tokenizer using `save_pretrained()`.\n",
        "# They can then be reloaded using `from_pretrained()`\n",
        "model_to_save = model.module if hasattr(model, 'module') else model  # Take care of distributed/parallel training\n",
        "model_to_save.save_pretrained(output_dir)\n",
        "tokenizer.save_pretrained(output_dir)\n",
        "\n",
        "\n",
        "# Good practice: save your training arguments together with the trained model\n",
        "# torch.save(args, os.path.join(output_dir, 'training_args.bin'))"
      ]
    },
    {
      "cell_type": "code",
      "source": [
        "file=open(\"/content/out_ai.txt\",\"r\")\n",
        "s=file.read()\n",
        "s=s.splitlines()\n",
        "print(len(s))\n",
        "lr=[]\n",
        "for i in range(len(s)):\n",
        "  if len(s[i])<=2:\n",
        "    lr.append(i)\n",
        "cr=0\n",
        "for i in lr:\n",
        "  s.pop(i-cr)\n",
        "  cr=cr+1\n",
        "print(s)"
      ],
      "metadata": {
        "colab": {
          "base_uri": "https://localhost:8080/"
        },
        "id": "PiE822Hjio9c",
        "outputId": "33b5347f-771c-42ee-8d65-0470b512b856"
      },
      "execution_count": 31,
      "outputs": [
        {
          "output_type": "stream",
          "name": "stdout",
          "text": [
            "62\n",
            "['THE PREAH VIHEAR CASE: CAMBODIA v. THAILAND\\tP', 'DIVYAPRATAP PARMAR\\tP', 'Introduction\\tF', 'The present case was filed in the International Court of Justice (ICJ).\\tF', 'The International Court of Justice (ICJ) is one of the six principal organs of the United Nations.\\tR', 'It settles disputes between the countries in reference with international law and providing opinions on international legal issues arising inter countries.\\tS', 'The official working languages of the are English and French.\\tF', 'There are two types of judgements that the International Court of Justice produces, first, Contentious cases- binding rulings between states that agree, or have previously agreed to submit to the ruling of the court, second, Advisory opinion- reasoned but non-binding rulings on properly submitted questions of international law usually at the request of the United Nations General Assembly.\\tP', 'Background of the Case\\tF', 'The temple of Preah Vihear is an ancient Hindu shrine dedicated to Lord Shiva, known as \"The Destroyer\" within the Trimurti, the Hindu trinity who includes Brahma and Vishnu.\\tR', 'In the Shaivite tradition, Shiva is the Supreme Lord who creates, protects and transforms the universe.\\tR', 'The temple was built during the period of the Khmer Empire in the 9th century, that is situated on a 1,722 ft high cliff in the Dangrek Range, Vihear province of Cambodia, with Thailand being directly to its north.\\tF', 'In its current position, the temple is 700m away from the Thai border.\\tF', 'It is a mythological anodyne that the origin of the temple can be traced back to Jayavarman IIs son, Prince Indrayudha, who, in A.D. 893 installed a fragment from a stone monument called a lingam at the site.\\tR', 'Therefore, the temple stood as a symbol of not only Lord Shiva but also the northern extent of Khmer Empire existing at that moment.\\tR', 'The Cambodian and Thai boundaries are separated by the natural forming of Dangrek Range, with the watershed region where the temple is situated on a cliff-like escarpment from where the land then descends to the north into Thailand.\\tR', 'However, this region is highly coveted due to its historical, religious and tourism value, due to which several clashes between the two countries have taken place over time.\\tR', 'Matter of conflict between Cambodia & Thailand\\tF', 'The dispute between Cambodia and Thailand relates to the territorial sovereignty of the region consisting of and surrounding the Temple of Preah Vihear, it and ancient temple gaining immense popularity due to its religious and historical value.\\tF', 'Cambodian claimed that, as per the map formed by the Mixed Delimitation Commission, set up under the Treaty of 1904, it is evident that the temple falls within the national boundaries of Cambodia and because it distinguishes the frontline between both countries, the temple falls within the sovereignty of Cambodia.\\tA', 'Where Thailand has against the law deployed armed forces while the land belongs to Cambodia.\\tR', 'While Thailand on the other hand claims, the map to be inaccurate to recognise as the temple itself is not anywhere mentioned in that map.\\tR', 'It rather believes that the location of the temple is such that it naturally distinguishes the land trough the cliffs and watershed line and they have exercised its sovereignty on the temple at the material times.\\tR', 'Cambodia approached the ICJ for clarification and resolving the dispute, Government of Thailand raised preliminary objections to the jurisdiction stating that the declaration did not constitute a valid acceptance on Thailands part of the compulsory jurisdiction of the Court.\\tF', 'Thailand never accepted the compulsory jurisdiction of the International Court of Justice.\\tR', 'Ratio of the Judgement\\tR', 'The court provided the following ratio decidendi for rejection of the preliminary objections:\\tRLC', \"That, the sole relevant question according to the court was whether the language written in Thailand's 1950 declaration signified a clear intention, in the terms of Article 36, paragraph 2, of the Statute, 'to recognise as compulsory the jurisdiction of the Court.\\tR\", 'The Court utilised a basic reasoning interpretation, that the declaration would have no other meaning rather than an acceptance of the compulsory jurisdiction of the International Court of Justice, since there was no other Court to which it could reference to since Thailand was aware of the dissolution of the former Court.\\tR', 'Analysis of the judgement delivered\\tRLC', 'In the Judgment on the facts proposed by both the parties the Court, by 9 votes to 3, came to the conclusion that Preah Vihear temple is situated in the territory under the sovereignty of Cambodia moreover in the consequence, that it is the obligation of Government of Thailand to withdraw any military or police forces, or any other guards or keepers, stationed by the country at the Temple premises, or in its vicinity on Cambodian territory.\\tF', 'By 7 votes to 5, the Court found that Thailand is under an obligation to restore to Cambodia all the sculptures, fragments of monuments, stelae, ancient pottery and sandstone model which might, since the date of the occupation of the Temple by Thailand in the year of 1954, have been removed from the Temple or the Temple area by the Thai authority.\\tRLC', 'Justice Tanaka and Justice Morelli appended to the Judgment a Joint Declaration.\\tP', 'Vice-President Alfaro and Judge Sir Gerald Fitzmaurice appended Separate Opinions.\\tR', 'Justice Moreno Quintana, Sir Percy Spender and Justice Wellington Koo appended Dissenting Opinions.\\tP', 'The Court further found that the subject of the dispute was sovereignty over the region of the Temple of Preah Vihear.\\tF', 'The ancient temple dedicated to Lord Shiva, sanctuary, partially in ruins, stood on a promontory of the Danangrek Range of mountains which constituted the boundary between Cambodia and Thailand.\\tF', 'The dispute had its fons-et-origo in the boundary settlements made in the period of year 1904 to 1908 between France, then conducting the foreign relations of Indo - China, and Siam (Thailand).\\tR', 'The application of the Treaty of 13 February 1904 was, in particular, involved that established the general character of the frontier the exact boundary of which was to be delimited by a Fmco-Siamese Mixed Commission.\\tR', 'Taking into account the temples geographic environment, the court stated that the temple is situated on a promontory with cliffs on the east and south which towards the end run into a valley in the west and\\tF', 'northwest direction (para. 89).\\tR', 'Hence, a holistic approach of understanding the concept of the milieu of the temple would encompass the entire promontory region of the Preah Vihear.\\tR', 'Towards the North, the Vicinity of the Cambodian territory reaches as far as the police station but no further than the Annex I map line, which was the basis of the Courts dictum in the year 1962.\\tR', 'Request of reinterpretation\\tRPC', 'The Court recalled the requirements of Article 60 of the Statute,\\tP', 'The existence of dispute between the parties as to the meaning or scope of a judgment rendered by the Courtthat is, a dispute concerning the operative clause of the judgment in question, and not to the reasons for the judgment, except insofar as the reasons are inseparable from the operative clause.\\tP', 'The main purpose behind seeking an interpretation should rest upon the need to declutter the meaning and the scope of what the Court has decided with binding force, and not to obtain an answer to questions not so decided.\\tR', 'The Court also clarified in response to a contention raised by Cambodia that the headnote of the Judgment cannot provide guidance as to its scope and that it does not represent an authoritative summary of what the Court has actually decided.\\tR', 'It was reiterated that because it refused to clarify whether the line shown on the Annex 1 map constitutes the frontier between the Parties, the Court was unable to put an end to a long-lasting dispute between Cambodia and Thailand.\\tR', 'On the other hand, this question was not before the Court in 1962, and it was not decided with binding force but merely included in the reasoning of the Judgment.\\tR', 'The Court had found this claim inadmissible as a new claim, although this is not explicitly stated in the 1962 Judgment.\\tR', 'If the 2013 Court had provided an interpretation on this point, it would have substituted itself for the 1962 Court by adding a question which was not decided at that time in the operative part.\\tR', 'In effect, this aspect of Cambodias request amounted to a request for revision.\\tR', 'Thailands behaviour could also be criticized as hardly meeting the standard of good faith required in the implementation of the judgments of the principal judicial organ of the United Nations.\\tR', 'The Court thus interpreted the 1962 judgment to give Cambodia sovereignty over the entire promontory, which represents roughly half of the disputed 4.6 square kilometers, bounded by the Annex I map line to the north and extending to the west until the ground begins to rise at the foot of Phnom Trap (paras. 98, 108).\\tF', 'Taking note of Thai concerns about the difficulty of transposing the Annex I map line onto a modern map, it left the precise location of that line, the frontier at the foot of Phnom Trap, and sovereignty over the remainder of the disputed strip subject to further negotiation (para. 99).\\tF', 'It also noted Thailands obligation to respect Cambodias territorial integrity once the dispute is resolved, obviating the need to address the continuing relevance of the Thai withdrawal obligation under the 1962 verdict.\\tR', 'Concluding Remarks\\tF', 'The judgment provided by the court not only reflects the mindset of the judges and litigating parties but also represents a holistic picture of what solution best remedies the issue at hand.\\tR', 'More generally, greater clarity in the drafting of judgments could prevent exacerbation of existing disputes in future cases especially when it comes to the International Court of Justice, the court which bears upon itself one of the most onerous tasks of settling disputes between nations engaged in a dispute.\\tR', 'The Preah Vihear case demonstrates how things tend to disarray when expressions in the judgment are susceptible to more than one interpretation by the parties causing further complications.\\tR']\n"
          ]
        }
      ]
    },
    {
      "cell_type": "code",
      "source": [
        "import re\n",
        "for i in range(len(s)):\n",
        "  s[i]=re.sub(r\"[^a-zA-Z0-9\\.\\t]+\", ' ',s[i])\n",
        "  print(s[i])"
      ],
      "metadata": {
        "colab": {
          "base_uri": "https://localhost:8080/"
        },
        "id": "3pSfVJixmocM",
        "outputId": "186dee6e-2349-4239-8afe-b05a34598e40"
      },
      "execution_count": 32,
      "outputs": [
        {
          "output_type": "stream",
          "name": "stdout",
          "text": [
            "THE PREAH VIHEAR CASE CAMBODIA v. THAILAND\tP\n",
            "DIVYAPRATAP PARMAR\tP\n",
            "Introduction\tF\n",
            "The present case was filed in the International Court of Justice ICJ .\tF\n",
            "The International Court of Justice ICJ is one of the six principal organs of the United Nations.\tR\n",
            "It settles disputes between the countries in reference with international law and providing opinions on international legal issues arising inter countries.\tS\n",
            "The official working languages of the are English and French.\tF\n",
            "There are two types of judgements that the International Court of Justice produces first Contentious cases binding rulings between states that agree or have previously agreed to submit to the ruling of the court second Advisory opinion reasoned but non binding rulings on properly submitted questions of international law usually at the request of the United Nations General Assembly.\tP\n",
            "Background of the Case\tF\n",
            "The temple of Preah Vihear is an ancient Hindu shrine dedicated to Lord Shiva known as The Destroyer within the Trimurti the Hindu trinity who includes Brahma and Vishnu.\tR\n",
            "In the Shaivite tradition Shiva is the Supreme Lord who creates protects and transforms the universe.\tR\n",
            "The temple was built during the period of the Khmer Empire in the 9th century that is situated on a 1 722 ft high cliff in the Dangrek Range Vihear province of Cambodia with Thailand being directly to its north.\tF\n",
            "In its current position the temple is 700m away from the Thai border.\tF\n",
            "It is a mythological anodyne that the origin of the temple can be traced back to Jayavarman IIs son Prince Indrayudha who in A.D. 893 installed a fragment from a stone monument called a lingam at the site.\tR\n",
            "Therefore the temple stood as a symbol of not only Lord Shiva but also the northern extent of Khmer Empire existing at that moment.\tR\n",
            "The Cambodian and Thai boundaries are separated by the natural forming of Dangrek Range with the watershed region where the temple is situated on a cliff like escarpment from where the land then descends to the north into Thailand.\tR\n",
            "However this region is highly coveted due to its historical religious and tourism value due to which several clashes between the two countries have taken place over time.\tR\n",
            "Matter of conflict between Cambodia Thailand\tF\n",
            "The dispute between Cambodia and Thailand relates to the territorial sovereignty of the region consisting of and surrounding the Temple of Preah Vihear it and ancient temple gaining immense popularity due to its religious and historical value.\tF\n",
            "Cambodian claimed that as per the map formed by the Mixed Delimitation Commission set up under the Treaty of 1904 it is evident that the temple falls within the national boundaries of Cambodia and because it distinguishes the frontline between both countries the temple falls within the sovereignty of Cambodia.\tA\n",
            "Where Thailand has against the law deployed armed forces while the land belongs to Cambodia.\tR\n",
            "While Thailand on the other hand claims the map to be inaccurate to recognise as the temple itself is not anywhere mentioned in that map.\tR\n",
            "It rather believes that the location of the temple is such that it naturally distinguishes the land trough the cliffs and watershed line and they have exercised its sovereignty on the temple at the material times.\tR\n",
            "Cambodia approached the ICJ for clarification and resolving the dispute Government of Thailand raised preliminary objections to the jurisdiction stating that the declaration did not constitute a valid acceptance on Thailands part of the compulsory jurisdiction of the Court.\tF\n",
            "Thailand never accepted the compulsory jurisdiction of the International Court of Justice.\tR\n",
            "Ratio of the Judgement\tR\n",
            "The court provided the following ratio decidendi for rejection of the preliminary objections \tRLC\n",
            "That the sole relevant question according to the court was whether the language written in Thailand s 1950 declaration signified a clear intention in the terms of Article 36 paragraph 2 of the Statute to recognise as compulsory the jurisdiction of the Court.\tR\n",
            "The Court utilised a basic reasoning interpretation that the declaration would have no other meaning rather than an acceptance of the compulsory jurisdiction of the International Court of Justice since there was no other Court to which it could reference to since Thailand was aware of the dissolution of the former Court.\tR\n",
            "Analysis of the judgement delivered\tRLC\n",
            "In the Judgment on the facts proposed by both the parties the Court by 9 votes to 3 came to the conclusion that Preah Vihear temple is situated in the territory under the sovereignty of Cambodia moreover in the consequence that it is the obligation of Government of Thailand to withdraw any military or police forces or any other guards or keepers stationed by the country at the Temple premises or in its vicinity on Cambodian territory.\tF\n",
            "By 7 votes to 5 the Court found that Thailand is under an obligation to restore to Cambodia all the sculptures fragments of monuments stelae ancient pottery and sandstone model which might since the date of the occupation of the Temple by Thailand in the year of 1954 have been removed from the Temple or the Temple area by the Thai authority.\tRLC\n",
            "Justice Tanaka and Justice Morelli appended to the Judgment a Joint Declaration.\tP\n",
            "Vice President Alfaro and Judge Sir Gerald Fitzmaurice appended Separate Opinions.\tR\n",
            "Justice Moreno Quintana Sir Percy Spender and Justice Wellington Koo appended Dissenting Opinions.\tP\n",
            "The Court further found that the subject of the dispute was sovereignty over the region of the Temple of Preah Vihear.\tF\n",
            "The ancient temple dedicated to Lord Shiva sanctuary partially in ruins stood on a promontory of the Danangrek Range of mountains which constituted the boundary between Cambodia and Thailand.\tF\n",
            "The dispute had its fons et origo in the boundary settlements made in the period of year 1904 to 1908 between France then conducting the foreign relations of Indo China and Siam Thailand .\tR\n",
            "The application of the Treaty of 13 February 1904 was in particular involved that established the general character of the frontier the exact boundary of which was to be delimited by a Fmco Siamese Mixed Commission.\tR\n",
            "Taking into account the temples geographic environment the court stated that the temple is situated on a promontory with cliffs on the east and south which towards the end run into a valley in the west and\tF\n",
            "northwest direction para. 89 .\tR\n",
            "Hence a holistic approach of understanding the concept of the milieu of the temple would encompass the entire promontory region of the Preah Vihear.\tR\n",
            "Towards the North the Vicinity of the Cambodian territory reaches as far as the police station but no further than the Annex I map line which was the basis of the Courts dictum in the year 1962.\tR\n",
            "Request of reinterpretation\tRPC\n",
            "The Court recalled the requirements of Article 60 of the Statute \tP\n",
            "The existence of dispute between the parties as to the meaning or scope of a judgment rendered by the Courtthat is a dispute concerning the operative clause of the judgment in question and not to the reasons for the judgment except insofar as the reasons are inseparable from the operative clause.\tP\n",
            "The main purpose behind seeking an interpretation should rest upon the need to declutter the meaning and the scope of what the Court has decided with binding force and not to obtain an answer to questions not so decided.\tR\n",
            "The Court also clarified in response to a contention raised by Cambodia that the headnote of the Judgment cannot provide guidance as to its scope and that it does not represent an authoritative summary of what the Court has actually decided.\tR\n",
            "It was reiterated that because it refused to clarify whether the line shown on the Annex 1 map constitutes the frontier between the Parties the Court was unable to put an end to a long lasting dispute between Cambodia and Thailand.\tR\n",
            "On the other hand this question was not before the Court in 1962 and it was not decided with binding force but merely included in the reasoning of the Judgment.\tR\n",
            "The Court had found this claim inadmissible as a new claim although this is not explicitly stated in the 1962 Judgment.\tR\n",
            "If the 2013 Court had provided an interpretation on this point it would have substituted itself for the 1962 Court by adding a question which was not decided at that time in the operative part.\tR\n",
            "In effect this aspect of Cambodias request amounted to a request for revision.\tR\n",
            "Thailands behaviour could also be criticized as hardly meeting the standard of good faith required in the implementation of the judgments of the principal judicial organ of the United Nations.\tR\n",
            "The Court thus interpreted the 1962 judgment to give Cambodia sovereignty over the entire promontory which represents roughly half of the disputed 4.6 square kilometers bounded by the Annex I map line to the north and extending to the west until the ground begins to rise at the foot of Phnom Trap paras. 98 108 .\tF\n",
            "Taking note of Thai concerns about the difficulty of transposing the Annex I map line onto a modern map it left the precise location of that line the frontier at the foot of Phnom Trap and sovereignty over the remainder of the disputed strip subject to further negotiation para. 99 .\tF\n",
            "It also noted Thailands obligation to respect Cambodias territorial integrity once the dispute is resolved obviating the need to address the continuing relevance of the Thai withdrawal obligation under the 1962 verdict.\tR\n",
            "Concluding Remarks\tF\n",
            "The judgment provided by the court not only reflects the mindset of the judges and litigating parties but also represents a holistic picture of what solution best remedies the issue at hand.\tR\n",
            "More generally greater clarity in the drafting of judgments could prevent exacerbation of existing disputes in future cases especially when it comes to the International Court of Justice the court which bears upon itself one of the most onerous tasks of settling disputes between nations engaged in a dispute.\tR\n",
            "The Preah Vihear case demonstrates how things tend to disarray when expressions in the judgment are susceptible to more than one interpretation by the parties causing further complications.\tR\n"
          ]
        }
      ]
    },
    {
      "cell_type": "code",
      "source": [
        "with open(\"out1.txt\", \"w\") as file:\n",
        "  i=1\n",
        "  df=[]\n",
        "  for sent in s:\n",
        "    df.append((sent+\"\\n\"))\n",
        "    df[i-1]=df[i-1].encode('ascii', 'ignore').decode('ascii')\n",
        "    i=i+1\n",
        "  file.writelines(df)\n",
        "  file.close()"
      ],
      "metadata": {
        "id": "-pb452aang4a"
      },
      "execution_count": 33,
      "outputs": []
    }
  ]
}